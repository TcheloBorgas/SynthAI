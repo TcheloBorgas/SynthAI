{
  "cells": [
    {
      "cell_type": "code",
      "execution_count": 1,
      "metadata": {
        "id": "Rlx_Y8c8Kaf_"
      },
      "outputs": [],
      "source": [
        "import pandas as pd\n",
        "from joblib import dump, load\n"
      ]
    },
    {
      "cell_type": "code",
      "execution_count": 2,
      "metadata": {
        "colab": {
          "base_uri": "https://localhost:8080/",
          "height": 423
        },
        "id": "5CechMX5KzWo",
        "outputId": "017acaf8-4fb1-4f10-eb8b-ca242d0be428"
      },
      "outputs": [
        {
          "data": {
            "text/html": [
              "<div>\n",
              "<style scoped>\n",
              "    .dataframe tbody tr th:only-of-type {\n",
              "        vertical-align: middle;\n",
              "    }\n",
              "\n",
              "    .dataframe tbody tr th {\n",
              "        vertical-align: top;\n",
              "    }\n",
              "\n",
              "    .dataframe thead th {\n",
              "        text-align: right;\n",
              "    }\n",
              "</style>\n",
              "<table border=\"1\" class=\"dataframe\">\n",
              "  <thead>\n",
              "    <tr style=\"text-align: right;\">\n",
              "      <th></th>\n",
              "      <th>step</th>\n",
              "      <th>type</th>\n",
              "      <th>amount</th>\n",
              "      <th>nameOrig</th>\n",
              "      <th>oldbalanceOrg</th>\n",
              "      <th>newbalanceOrig</th>\n",
              "      <th>nameDest</th>\n",
              "      <th>oldbalanceDest</th>\n",
              "      <th>newbalanceDest</th>\n",
              "      <th>isFraud</th>\n",
              "      <th>isFlaggedFraud</th>\n",
              "    </tr>\n",
              "  </thead>\n",
              "  <tbody>\n",
              "    <tr>\n",
              "      <th>0</th>\n",
              "      <td>1</td>\n",
              "      <td>PAYMENT</td>\n",
              "      <td>9839.64</td>\n",
              "      <td>C1231006815</td>\n",
              "      <td>170136.00</td>\n",
              "      <td>160296.36</td>\n",
              "      <td>M1979787155</td>\n",
              "      <td>0.00</td>\n",
              "      <td>0.00</td>\n",
              "      <td>0</td>\n",
              "      <td>0</td>\n",
              "    </tr>\n",
              "    <tr>\n",
              "      <th>1</th>\n",
              "      <td>1</td>\n",
              "      <td>PAYMENT</td>\n",
              "      <td>1864.28</td>\n",
              "      <td>C1666544295</td>\n",
              "      <td>21249.00</td>\n",
              "      <td>19384.72</td>\n",
              "      <td>M2044282225</td>\n",
              "      <td>0.00</td>\n",
              "      <td>0.00</td>\n",
              "      <td>0</td>\n",
              "      <td>0</td>\n",
              "    </tr>\n",
              "    <tr>\n",
              "      <th>2</th>\n",
              "      <td>1</td>\n",
              "      <td>TRANSFER</td>\n",
              "      <td>181.00</td>\n",
              "      <td>C1305486145</td>\n",
              "      <td>181.00</td>\n",
              "      <td>0.00</td>\n",
              "      <td>C553264065</td>\n",
              "      <td>0.00</td>\n",
              "      <td>0.00</td>\n",
              "      <td>1</td>\n",
              "      <td>0</td>\n",
              "    </tr>\n",
              "    <tr>\n",
              "      <th>3</th>\n",
              "      <td>1</td>\n",
              "      <td>CASH_OUT</td>\n",
              "      <td>181.00</td>\n",
              "      <td>C840083671</td>\n",
              "      <td>181.00</td>\n",
              "      <td>0.00</td>\n",
              "      <td>C38997010</td>\n",
              "      <td>21182.00</td>\n",
              "      <td>0.00</td>\n",
              "      <td>1</td>\n",
              "      <td>0</td>\n",
              "    </tr>\n",
              "    <tr>\n",
              "      <th>4</th>\n",
              "      <td>1</td>\n",
              "      <td>PAYMENT</td>\n",
              "      <td>11668.14</td>\n",
              "      <td>C2048537720</td>\n",
              "      <td>41554.00</td>\n",
              "      <td>29885.86</td>\n",
              "      <td>M1230701703</td>\n",
              "      <td>0.00</td>\n",
              "      <td>0.00</td>\n",
              "      <td>0</td>\n",
              "      <td>0</td>\n",
              "    </tr>\n",
              "    <tr>\n",
              "      <th>...</th>\n",
              "      <td>...</td>\n",
              "      <td>...</td>\n",
              "      <td>...</td>\n",
              "      <td>...</td>\n",
              "      <td>...</td>\n",
              "      <td>...</td>\n",
              "      <td>...</td>\n",
              "      <td>...</td>\n",
              "      <td>...</td>\n",
              "      <td>...</td>\n",
              "      <td>...</td>\n",
              "    </tr>\n",
              "    <tr>\n",
              "      <th>101608</th>\n",
              "      <td>10</td>\n",
              "      <td>PAYMENT</td>\n",
              "      <td>7477.02</td>\n",
              "      <td>C513257306</td>\n",
              "      <td>785.00</td>\n",
              "      <td>0.00</td>\n",
              "      <td>M524833426</td>\n",
              "      <td>0.00</td>\n",
              "      <td>0.00</td>\n",
              "      <td>0</td>\n",
              "      <td>0</td>\n",
              "    </tr>\n",
              "    <tr>\n",
              "      <th>101609</th>\n",
              "      <td>10</td>\n",
              "      <td>CASH_OUT</td>\n",
              "      <td>282252.35</td>\n",
              "      <td>C210473293</td>\n",
              "      <td>220339.29</td>\n",
              "      <td>0.00</td>\n",
              "      <td>C1172042998</td>\n",
              "      <td>95156.01</td>\n",
              "      <td>91286.97</td>\n",
              "      <td>0</td>\n",
              "      <td>0</td>\n",
              "    </tr>\n",
              "    <tr>\n",
              "      <th>101610</th>\n",
              "      <td>10</td>\n",
              "      <td>PAYMENT</td>\n",
              "      <td>17289.01</td>\n",
              "      <td>C807582280</td>\n",
              "      <td>0.00</td>\n",
              "      <td>0.00</td>\n",
              "      <td>M334249577</td>\n",
              "      <td>0.00</td>\n",
              "      <td>0.00</td>\n",
              "      <td>0</td>\n",
              "      <td>0</td>\n",
              "    </tr>\n",
              "    <tr>\n",
              "      <th>101611</th>\n",
              "      <td>10</td>\n",
              "      <td>TRANSFER</td>\n",
              "      <td>1347146.45</td>\n",
              "      <td>C1315779140</td>\n",
              "      <td>1605.00</td>\n",
              "      <td>0.00</td>\n",
              "      <td>C1631408038</td>\n",
              "      <td>541639.43</td>\n",
              "      <td>2186953.43</td>\n",
              "      <td>0</td>\n",
              "      <td>0</td>\n",
              "    </tr>\n",
              "    <tr>\n",
              "      <th>101612</th>\n",
              "      <td>10</td>\n",
              "      <td>CASH_OUT</td>\n",
              "      <td>469539.21</td>\n",
              "      <td>C515691325</td>\n",
              "      <td>31133.00</td>\n",
              "      <td>0.00</td>\n",
              "      <td>C1383702768</td>\n",
              "      <td>0.00</td>\n",
              "      <td>469539.21</td>\n",
              "      <td>0</td>\n",
              "      <td>0</td>\n",
              "    </tr>\n",
              "  </tbody>\n",
              "</table>\n",
              "<p>101613 rows × 11 columns</p>\n",
              "</div>"
            ],
            "text/plain": [
              "        step      type      amount     nameOrig  oldbalanceOrg  \\\n",
              "0          1   PAYMENT     9839.64  C1231006815      170136.00   \n",
              "1          1   PAYMENT     1864.28  C1666544295       21249.00   \n",
              "2          1  TRANSFER      181.00  C1305486145         181.00   \n",
              "3          1  CASH_OUT      181.00   C840083671         181.00   \n",
              "4          1   PAYMENT    11668.14  C2048537720       41554.00   \n",
              "...      ...       ...         ...          ...            ...   \n",
              "101608    10   PAYMENT     7477.02   C513257306         785.00   \n",
              "101609    10  CASH_OUT   282252.35   C210473293      220339.29   \n",
              "101610    10   PAYMENT    17289.01   C807582280           0.00   \n",
              "101611    10  TRANSFER  1347146.45  C1315779140        1605.00   \n",
              "101612    10  CASH_OUT   469539.21   C515691325       31133.00   \n",
              "\n",
              "        newbalanceOrig     nameDest  oldbalanceDest  newbalanceDest  isFraud  \\\n",
              "0            160296.36  M1979787155            0.00            0.00        0   \n",
              "1             19384.72  M2044282225            0.00            0.00        0   \n",
              "2                 0.00   C553264065            0.00            0.00        1   \n",
              "3                 0.00    C38997010        21182.00            0.00        1   \n",
              "4             29885.86  M1230701703            0.00            0.00        0   \n",
              "...                ...          ...             ...             ...      ...   \n",
              "101608            0.00   M524833426            0.00            0.00        0   \n",
              "101609            0.00  C1172042998        95156.01        91286.97        0   \n",
              "101610            0.00   M334249577            0.00            0.00        0   \n",
              "101611            0.00  C1631408038       541639.43      2186953.43        0   \n",
              "101612            0.00  C1383702768            0.00       469539.21        0   \n",
              "\n",
              "        isFlaggedFraud  \n",
              "0                    0  \n",
              "1                    0  \n",
              "2                    0  \n",
              "3                    0  \n",
              "4                    0  \n",
              "...                ...  \n",
              "101608               0  \n",
              "101609               0  \n",
              "101610               0  \n",
              "101611               0  \n",
              "101612               0  \n",
              "\n",
              "[101613 rows x 11 columns]"
            ]
          },
          "execution_count": 2,
          "metadata": {},
          "output_type": "execute_result"
        }
      ],
      "source": [
        "df = pd.read_csv(r'C:\\Users\\pytho\\Documents\\GitHub\\SynthAI\\IA\\Data\\fraud_dataset_example.csv')\n",
        "df"
      ]
    },
    {
      "cell_type": "code",
      "execution_count": 3,
      "metadata": {
        "colab": {
          "base_uri": "https://localhost:8080/"
        },
        "id": "XXWS0Wgxu8ai",
        "outputId": "b0a86b94-2e89-4b19-a90c-8af14d03fad5"
      },
      "outputs": [
        {
          "data": {
            "text/plain": [
              "Index(['step', 'type', 'amount', 'nameOrig', 'oldbalanceOrg', 'newbalanceOrig',\n",
              "       'nameDest', 'oldbalanceDest', 'newbalanceDest', 'isFraud',\n",
              "       'isFlaggedFraud'],\n",
              "      dtype='object')"
            ]
          },
          "execution_count": 3,
          "metadata": {},
          "output_type": "execute_result"
        }
      ],
      "source": [
        "df.columns"
      ]
    },
    {
      "cell_type": "code",
      "execution_count": 4,
      "metadata": {
        "colab": {
          "base_uri": "https://localhost:8080/",
          "height": 206
        },
        "id": "Zfe1fPk8K3N-",
        "outputId": "bf2c8f66-f9f0-4666-be1f-ced013c21cd3"
      },
      "outputs": [
        {
          "data": {
            "text/html": [
              "<div>\n",
              "<style scoped>\n",
              "    .dataframe tbody tr th:only-of-type {\n",
              "        vertical-align: middle;\n",
              "    }\n",
              "\n",
              "    .dataframe tbody tr th {\n",
              "        vertical-align: top;\n",
              "    }\n",
              "\n",
              "    .dataframe thead th {\n",
              "        text-align: right;\n",
              "    }\n",
              "</style>\n",
              "<table border=\"1\" class=\"dataframe\">\n",
              "  <thead>\n",
              "    <tr style=\"text-align: right;\">\n",
              "      <th></th>\n",
              "      <th>isFraud</th>\n",
              "      <th>isFlaggedFraud</th>\n",
              "      <th>step</th>\n",
              "      <th>type</th>\n",
              "      <th>amount</th>\n",
              "      <th>nameOrig</th>\n",
              "      <th>oldbalanceOrg</th>\n",
              "      <th>newbalanceOrig</th>\n",
              "      <th>nameDest</th>\n",
              "      <th>oldbalanceDest</th>\n",
              "      <th>newbalanceDest</th>\n",
              "    </tr>\n",
              "  </thead>\n",
              "  <tbody>\n",
              "    <tr>\n",
              "      <th>0</th>\n",
              "      <td>0</td>\n",
              "      <td>0</td>\n",
              "      <td>1</td>\n",
              "      <td>PAYMENT</td>\n",
              "      <td>9839.64</td>\n",
              "      <td>C1231006815</td>\n",
              "      <td>170136.0</td>\n",
              "      <td>160296.36</td>\n",
              "      <td>M1979787155</td>\n",
              "      <td>0.0</td>\n",
              "      <td>0.0</td>\n",
              "    </tr>\n",
              "    <tr>\n",
              "      <th>1</th>\n",
              "      <td>0</td>\n",
              "      <td>0</td>\n",
              "      <td>1</td>\n",
              "      <td>PAYMENT</td>\n",
              "      <td>1864.28</td>\n",
              "      <td>C1666544295</td>\n",
              "      <td>21249.0</td>\n",
              "      <td>19384.72</td>\n",
              "      <td>M2044282225</td>\n",
              "      <td>0.0</td>\n",
              "      <td>0.0</td>\n",
              "    </tr>\n",
              "    <tr>\n",
              "      <th>2</th>\n",
              "      <td>1</td>\n",
              "      <td>0</td>\n",
              "      <td>1</td>\n",
              "      <td>TRANSFER</td>\n",
              "      <td>181.00</td>\n",
              "      <td>C1305486145</td>\n",
              "      <td>181.0</td>\n",
              "      <td>0.00</td>\n",
              "      <td>C553264065</td>\n",
              "      <td>0.0</td>\n",
              "      <td>0.0</td>\n",
              "    </tr>\n",
              "    <tr>\n",
              "      <th>3</th>\n",
              "      <td>1</td>\n",
              "      <td>0</td>\n",
              "      <td>1</td>\n",
              "      <td>CASH_OUT</td>\n",
              "      <td>181.00</td>\n",
              "      <td>C840083671</td>\n",
              "      <td>181.0</td>\n",
              "      <td>0.00</td>\n",
              "      <td>C38997010</td>\n",
              "      <td>21182.0</td>\n",
              "      <td>0.0</td>\n",
              "    </tr>\n",
              "    <tr>\n",
              "      <th>4</th>\n",
              "      <td>0</td>\n",
              "      <td>0</td>\n",
              "      <td>1</td>\n",
              "      <td>PAYMENT</td>\n",
              "      <td>11668.14</td>\n",
              "      <td>C2048537720</td>\n",
              "      <td>41554.0</td>\n",
              "      <td>29885.86</td>\n",
              "      <td>M1230701703</td>\n",
              "      <td>0.0</td>\n",
              "      <td>0.0</td>\n",
              "    </tr>\n",
              "  </tbody>\n",
              "</table>\n",
              "</div>"
            ],
            "text/plain": [
              "   isFraud  isFlaggedFraud  step      type    amount     nameOrig  \\\n",
              "0        0               0     1   PAYMENT   9839.64  C1231006815   \n",
              "1        0               0     1   PAYMENT   1864.28  C1666544295   \n",
              "2        1               0     1  TRANSFER    181.00  C1305486145   \n",
              "3        1               0     1  CASH_OUT    181.00   C840083671   \n",
              "4        0               0     1   PAYMENT  11668.14  C2048537720   \n",
              "\n",
              "   oldbalanceOrg  newbalanceOrig     nameDest  oldbalanceDest  newbalanceDest  \n",
              "0       170136.0       160296.36  M1979787155             0.0             0.0  \n",
              "1        21249.0        19384.72  M2044282225             0.0             0.0  \n",
              "2          181.0            0.00   C553264065             0.0             0.0  \n",
              "3          181.0            0.00    C38997010         21182.0             0.0  \n",
              "4        41554.0        29885.86  M1230701703             0.0             0.0  "
            ]
          },
          "execution_count": 4,
          "metadata": {},
          "output_type": "execute_result"
        }
      ],
      "source": [
        "df = df[['isFraud',\n",
        "       'isFlaggedFraud', 'step', 'type', 'amount', 'nameOrig', 'oldbalanceOrg', 'newbalanceOrig',\n",
        "       'nameDest', 'oldbalanceDest', 'newbalanceDest']]\n",
        "df.head()"
      ]
    },
    {
      "cell_type": "markdown",
      "metadata": {
        "id": "aDu_pDqULo2v"
      },
      "source": [
        "### Renomeando as colunas"
      ]
    },
    {
      "cell_type": "markdown",
      "metadata": {
        "id": "veR6FVfPo9hY"
      },
      "source": [
        "Criando um dicionário\n",
        "```\n",
        "colunas = {\n",
        "    'isFraud': 'fraude',\n",
        "    'isFlaggedFraud':'super_fraude',\n",
        "    'step':'tempo',\n",
        "    'type':'tipo',\n",
        "    'amount':'valor',\n",
        "    'nameOrig':'cliente1',\n",
        "    'oldbalanceOrg':'saldo_inicial_c1',\n",
        "    'newbalanceOrig':'novo_saldo_c1',\n",
        "    'nameDest':'cliente2',\n",
        "    'oldbalanceDest':'saldo_inicial_c2',\n",
        "    'newbalanceDest':'novo_saldo_c2',\n",
        "}\n",
        "```"
      ]
    },
    {
      "cell_type": "code",
      "execution_count": 5,
      "metadata": {
        "id": "WVv3nNpVK382"
      },
      "outputs": [],
      "source": [
        "colunas = {\n",
        "    'isFraud': 'fraude',\n",
        "    'isFlaggedFraud':'super_fraude',\n",
        "    'step':'tempo',\n",
        "    'type':'tipo',\n",
        "    'amount':'valor',\n",
        "    'nameOrig':'cliente1',\n",
        "    'oldbalanceOrg':'saldo_inicial_c1',\n",
        "    'newbalanceOrig':'novo_saldo_c1',\n",
        "    'nameDest':'cliente2',\n",
        "    'oldbalanceDest':'saldo_inicial_c2',\n",
        "    'newbalanceDest':'novo_saldo_c2',\n",
        "}"
      ]
    },
    {
      "cell_type": "code",
      "execution_count": 6,
      "metadata": {
        "colab": {
          "base_uri": "https://localhost:8080/",
          "height": 206
        },
        "id": "upO8-lWoK43d",
        "outputId": "6b60f277-176c-4e09-a6f5-35207fe0eacb"
      },
      "outputs": [
        {
          "data": {
            "text/html": [
              "<div>\n",
              "<style scoped>\n",
              "    .dataframe tbody tr th:only-of-type {\n",
              "        vertical-align: middle;\n",
              "    }\n",
              "\n",
              "    .dataframe tbody tr th {\n",
              "        vertical-align: top;\n",
              "    }\n",
              "\n",
              "    .dataframe thead th {\n",
              "        text-align: right;\n",
              "    }\n",
              "</style>\n",
              "<table border=\"1\" class=\"dataframe\">\n",
              "  <thead>\n",
              "    <tr style=\"text-align: right;\">\n",
              "      <th></th>\n",
              "      <th>fraude</th>\n",
              "      <th>super_fraude</th>\n",
              "      <th>tempo</th>\n",
              "      <th>tipo</th>\n",
              "      <th>valor</th>\n",
              "      <th>cliente1</th>\n",
              "      <th>saldo_inicial_c1</th>\n",
              "      <th>novo_saldo_c1</th>\n",
              "      <th>cliente2</th>\n",
              "      <th>saldo_inicial_c2</th>\n",
              "      <th>novo_saldo_c2</th>\n",
              "    </tr>\n",
              "  </thead>\n",
              "  <tbody>\n",
              "    <tr>\n",
              "      <th>0</th>\n",
              "      <td>0</td>\n",
              "      <td>0</td>\n",
              "      <td>1</td>\n",
              "      <td>PAYMENT</td>\n",
              "      <td>9839.64</td>\n",
              "      <td>C1231006815</td>\n",
              "      <td>170136.0</td>\n",
              "      <td>160296.36</td>\n",
              "      <td>M1979787155</td>\n",
              "      <td>0.0</td>\n",
              "      <td>0.0</td>\n",
              "    </tr>\n",
              "    <tr>\n",
              "      <th>1</th>\n",
              "      <td>0</td>\n",
              "      <td>0</td>\n",
              "      <td>1</td>\n",
              "      <td>PAYMENT</td>\n",
              "      <td>1864.28</td>\n",
              "      <td>C1666544295</td>\n",
              "      <td>21249.0</td>\n",
              "      <td>19384.72</td>\n",
              "      <td>M2044282225</td>\n",
              "      <td>0.0</td>\n",
              "      <td>0.0</td>\n",
              "    </tr>\n",
              "    <tr>\n",
              "      <th>2</th>\n",
              "      <td>1</td>\n",
              "      <td>0</td>\n",
              "      <td>1</td>\n",
              "      <td>TRANSFER</td>\n",
              "      <td>181.00</td>\n",
              "      <td>C1305486145</td>\n",
              "      <td>181.0</td>\n",
              "      <td>0.00</td>\n",
              "      <td>C553264065</td>\n",
              "      <td>0.0</td>\n",
              "      <td>0.0</td>\n",
              "    </tr>\n",
              "    <tr>\n",
              "      <th>3</th>\n",
              "      <td>1</td>\n",
              "      <td>0</td>\n",
              "      <td>1</td>\n",
              "      <td>CASH_OUT</td>\n",
              "      <td>181.00</td>\n",
              "      <td>C840083671</td>\n",
              "      <td>181.0</td>\n",
              "      <td>0.00</td>\n",
              "      <td>C38997010</td>\n",
              "      <td>21182.0</td>\n",
              "      <td>0.0</td>\n",
              "    </tr>\n",
              "    <tr>\n",
              "      <th>4</th>\n",
              "      <td>0</td>\n",
              "      <td>0</td>\n",
              "      <td>1</td>\n",
              "      <td>PAYMENT</td>\n",
              "      <td>11668.14</td>\n",
              "      <td>C2048537720</td>\n",
              "      <td>41554.0</td>\n",
              "      <td>29885.86</td>\n",
              "      <td>M1230701703</td>\n",
              "      <td>0.0</td>\n",
              "      <td>0.0</td>\n",
              "    </tr>\n",
              "  </tbody>\n",
              "</table>\n",
              "</div>"
            ],
            "text/plain": [
              "   fraude  super_fraude  tempo      tipo     valor     cliente1  \\\n",
              "0       0             0      1   PAYMENT   9839.64  C1231006815   \n",
              "1       0             0      1   PAYMENT   1864.28  C1666544295   \n",
              "2       1             0      1  TRANSFER    181.00  C1305486145   \n",
              "3       1             0      1  CASH_OUT    181.00   C840083671   \n",
              "4       0             0      1   PAYMENT  11668.14  C2048537720   \n",
              "\n",
              "   saldo_inicial_c1  novo_saldo_c1     cliente2  saldo_inicial_c2  \\\n",
              "0          170136.0      160296.36  M1979787155               0.0   \n",
              "1           21249.0       19384.72  M2044282225               0.0   \n",
              "2             181.0           0.00   C553264065               0.0   \n",
              "3             181.0           0.00    C38997010           21182.0   \n",
              "4           41554.0       29885.86  M1230701703               0.0   \n",
              "\n",
              "   novo_saldo_c2  \n",
              "0            0.0  \n",
              "1            0.0  \n",
              "2            0.0  \n",
              "3            0.0  \n",
              "4            0.0  "
            ]
          },
          "execution_count": 6,
          "metadata": {},
          "output_type": "execute_result"
        }
      ],
      "source": [
        "df = df.rename(columns = colunas)\n",
        "df.head()"
      ]
    },
    {
      "cell_type": "code",
      "execution_count": 7,
      "metadata": {
        "colab": {
          "base_uri": "https://localhost:8080/",
          "height": 300
        },
        "id": "Jycj1niNK5o2",
        "outputId": "b2126d64-064c-4041-e471-c9309f61410d"
      },
      "outputs": [
        {
          "data": {
            "text/html": [
              "<div>\n",
              "<style scoped>\n",
              "    .dataframe tbody tr th:only-of-type {\n",
              "        vertical-align: middle;\n",
              "    }\n",
              "\n",
              "    .dataframe tbody tr th {\n",
              "        vertical-align: top;\n",
              "    }\n",
              "\n",
              "    .dataframe thead th {\n",
              "        text-align: right;\n",
              "    }\n",
              "</style>\n",
              "<table border=\"1\" class=\"dataframe\">\n",
              "  <thead>\n",
              "    <tr style=\"text-align: right;\">\n",
              "      <th></th>\n",
              "      <th>fraude</th>\n",
              "      <th>super_fraude</th>\n",
              "      <th>tempo</th>\n",
              "      <th>valor</th>\n",
              "      <th>saldo_inicial_c1</th>\n",
              "      <th>novo_saldo_c1</th>\n",
              "      <th>saldo_inicial_c2</th>\n",
              "      <th>novo_saldo_c2</th>\n",
              "    </tr>\n",
              "  </thead>\n",
              "  <tbody>\n",
              "    <tr>\n",
              "      <th>count</th>\n",
              "      <td>101613.000000</td>\n",
              "      <td>101613.0</td>\n",
              "      <td>101613.000000</td>\n",
              "      <td>1.016130e+05</td>\n",
              "      <td>1.016130e+05</td>\n",
              "      <td>1.016130e+05</td>\n",
              "      <td>1.016130e+05</td>\n",
              "      <td>1.016130e+05</td>\n",
              "    </tr>\n",
              "    <tr>\n",
              "      <th>mean</th>\n",
              "      <td>0.001142</td>\n",
              "      <td>0.0</td>\n",
              "      <td>8.523457</td>\n",
              "      <td>1.740901e+05</td>\n",
              "      <td>9.071753e+05</td>\n",
              "      <td>9.234992e+05</td>\n",
              "      <td>8.810428e+05</td>\n",
              "      <td>1.183998e+06</td>\n",
              "    </tr>\n",
              "    <tr>\n",
              "      <th>std</th>\n",
              "      <td>0.033768</td>\n",
              "      <td>0.0</td>\n",
              "      <td>1.820681</td>\n",
              "      <td>3.450199e+05</td>\n",
              "      <td>2.829575e+06</td>\n",
              "      <td>2.867319e+06</td>\n",
              "      <td>2.399949e+06</td>\n",
              "      <td>2.797761e+06</td>\n",
              "    </tr>\n",
              "    <tr>\n",
              "      <th>min</th>\n",
              "      <td>0.000000</td>\n",
              "      <td>0.0</td>\n",
              "      <td>1.000000</td>\n",
              "      <td>3.200000e-01</td>\n",
              "      <td>0.000000e+00</td>\n",
              "      <td>0.000000e+00</td>\n",
              "      <td>0.000000e+00</td>\n",
              "      <td>0.000000e+00</td>\n",
              "    </tr>\n",
              "    <tr>\n",
              "      <th>25%</th>\n",
              "      <td>0.000000</td>\n",
              "      <td>0.0</td>\n",
              "      <td>8.000000</td>\n",
              "      <td>1.001659e+04</td>\n",
              "      <td>0.000000e+00</td>\n",
              "      <td>0.000000e+00</td>\n",
              "      <td>0.000000e+00</td>\n",
              "      <td>0.000000e+00</td>\n",
              "    </tr>\n",
              "    <tr>\n",
              "      <th>50%</th>\n",
              "      <td>0.000000</td>\n",
              "      <td>0.0</td>\n",
              "      <td>9.000000</td>\n",
              "      <td>5.338541e+04</td>\n",
              "      <td>2.019047e+04</td>\n",
              "      <td>0.000000e+00</td>\n",
              "      <td>2.105800e+04</td>\n",
              "      <td>5.178343e+04</td>\n",
              "    </tr>\n",
              "    <tr>\n",
              "      <th>75%</th>\n",
              "      <td>0.000000</td>\n",
              "      <td>0.0</td>\n",
              "      <td>10.000000</td>\n",
              "      <td>2.124984e+05</td>\n",
              "      <td>1.947150e+05</td>\n",
              "      <td>2.192178e+05</td>\n",
              "      <td>5.919217e+05</td>\n",
              "      <td>1.063122e+06</td>\n",
              "    </tr>\n",
              "    <tr>\n",
              "      <th>max</th>\n",
              "      <td>1.000000</td>\n",
              "      <td>0.0</td>\n",
              "      <td>10.000000</td>\n",
              "      <td>1.000000e+07</td>\n",
              "      <td>3.893942e+07</td>\n",
              "      <td>3.894623e+07</td>\n",
              "      <td>3.400874e+07</td>\n",
              "      <td>3.894623e+07</td>\n",
              "    </tr>\n",
              "  </tbody>\n",
              "</table>\n",
              "</div>"
            ],
            "text/plain": [
              "              fraude  super_fraude          tempo         valor  \\\n",
              "count  101613.000000      101613.0  101613.000000  1.016130e+05   \n",
              "mean        0.001142           0.0       8.523457  1.740901e+05   \n",
              "std         0.033768           0.0       1.820681  3.450199e+05   \n",
              "min         0.000000           0.0       1.000000  3.200000e-01   \n",
              "25%         0.000000           0.0       8.000000  1.001659e+04   \n",
              "50%         0.000000           0.0       9.000000  5.338541e+04   \n",
              "75%         0.000000           0.0      10.000000  2.124984e+05   \n",
              "max         1.000000           0.0      10.000000  1.000000e+07   \n",
              "\n",
              "       saldo_inicial_c1  novo_saldo_c1  saldo_inicial_c2  novo_saldo_c2  \n",
              "count      1.016130e+05   1.016130e+05      1.016130e+05   1.016130e+05  \n",
              "mean       9.071753e+05   9.234992e+05      8.810428e+05   1.183998e+06  \n",
              "std        2.829575e+06   2.867319e+06      2.399949e+06   2.797761e+06  \n",
              "min        0.000000e+00   0.000000e+00      0.000000e+00   0.000000e+00  \n",
              "25%        0.000000e+00   0.000000e+00      0.000000e+00   0.000000e+00  \n",
              "50%        2.019047e+04   0.000000e+00      2.105800e+04   5.178343e+04  \n",
              "75%        1.947150e+05   2.192178e+05      5.919217e+05   1.063122e+06  \n",
              "max        3.893942e+07   3.894623e+07      3.400874e+07   3.894623e+07  "
            ]
          },
          "execution_count": 7,
          "metadata": {},
          "output_type": "execute_result"
        }
      ],
      "source": [
        "df.describe()"
      ]
    },
    {
      "cell_type": "code",
      "execution_count": 8,
      "metadata": {
        "colab": {
          "base_uri": "https://localhost:8080/",
          "height": 300
        },
        "id": "Djo35BPUK8EO",
        "outputId": "bb1668b3-659f-4608-b0af-0e61520fffa0"
      },
      "outputs": [
        {
          "data": {
            "text/html": [
              "<div>\n",
              "<style scoped>\n",
              "    .dataframe tbody tr th:only-of-type {\n",
              "        vertical-align: middle;\n",
              "    }\n",
              "\n",
              "    .dataframe tbody tr th {\n",
              "        vertical-align: top;\n",
              "    }\n",
              "\n",
              "    .dataframe thead th {\n",
              "        text-align: right;\n",
              "    }\n",
              "</style>\n",
              "<table border=\"1\" class=\"dataframe\">\n",
              "  <thead>\n",
              "    <tr style=\"text-align: right;\">\n",
              "      <th></th>\n",
              "      <th>count</th>\n",
              "      <th>mean</th>\n",
              "      <th>std</th>\n",
              "      <th>min</th>\n",
              "      <th>25%</th>\n",
              "      <th>50%</th>\n",
              "      <th>75%</th>\n",
              "      <th>max</th>\n",
              "    </tr>\n",
              "  </thead>\n",
              "  <tbody>\n",
              "    <tr>\n",
              "      <th>fraude</th>\n",
              "      <td>101613.0</td>\n",
              "      <td>1.141586e-03</td>\n",
              "      <td>3.376824e-02</td>\n",
              "      <td>0.00</td>\n",
              "      <td>0.00</td>\n",
              "      <td>0.00</td>\n",
              "      <td>0.00</td>\n",
              "      <td>1.00</td>\n",
              "    </tr>\n",
              "    <tr>\n",
              "      <th>super_fraude</th>\n",
              "      <td>101613.0</td>\n",
              "      <td>0.000000e+00</td>\n",
              "      <td>0.000000e+00</td>\n",
              "      <td>0.00</td>\n",
              "      <td>0.00</td>\n",
              "      <td>0.00</td>\n",
              "      <td>0.00</td>\n",
              "      <td>0.00</td>\n",
              "    </tr>\n",
              "    <tr>\n",
              "      <th>tempo</th>\n",
              "      <td>101613.0</td>\n",
              "      <td>8.523457e+00</td>\n",
              "      <td>1.820681e+00</td>\n",
              "      <td>1.00</td>\n",
              "      <td>8.00</td>\n",
              "      <td>9.00</td>\n",
              "      <td>10.00</td>\n",
              "      <td>10.00</td>\n",
              "    </tr>\n",
              "    <tr>\n",
              "      <th>valor</th>\n",
              "      <td>101613.0</td>\n",
              "      <td>1.740901e+05</td>\n",
              "      <td>3.450199e+05</td>\n",
              "      <td>0.32</td>\n",
              "      <td>10016.59</td>\n",
              "      <td>53385.41</td>\n",
              "      <td>212498.40</td>\n",
              "      <td>10000000.00</td>\n",
              "    </tr>\n",
              "    <tr>\n",
              "      <th>saldo_inicial_c1</th>\n",
              "      <td>101613.0</td>\n",
              "      <td>9.071753e+05</td>\n",
              "      <td>2.829575e+06</td>\n",
              "      <td>0.00</td>\n",
              "      <td>0.00</td>\n",
              "      <td>20190.47</td>\n",
              "      <td>194715.00</td>\n",
              "      <td>38939424.03</td>\n",
              "    </tr>\n",
              "    <tr>\n",
              "      <th>novo_saldo_c1</th>\n",
              "      <td>101613.0</td>\n",
              "      <td>9.234992e+05</td>\n",
              "      <td>2.867319e+06</td>\n",
              "      <td>0.00</td>\n",
              "      <td>0.00</td>\n",
              "      <td>0.00</td>\n",
              "      <td>219217.76</td>\n",
              "      <td>38946233.02</td>\n",
              "    </tr>\n",
              "    <tr>\n",
              "      <th>saldo_inicial_c2</th>\n",
              "      <td>101613.0</td>\n",
              "      <td>8.810428e+05</td>\n",
              "      <td>2.399949e+06</td>\n",
              "      <td>0.00</td>\n",
              "      <td>0.00</td>\n",
              "      <td>21058.00</td>\n",
              "      <td>591921.70</td>\n",
              "      <td>34008736.98</td>\n",
              "    </tr>\n",
              "    <tr>\n",
              "      <th>novo_saldo_c2</th>\n",
              "      <td>101613.0</td>\n",
              "      <td>1.183998e+06</td>\n",
              "      <td>2.797761e+06</td>\n",
              "      <td>0.00</td>\n",
              "      <td>0.00</td>\n",
              "      <td>51783.43</td>\n",
              "      <td>1063121.64</td>\n",
              "      <td>38946233.02</td>\n",
              "    </tr>\n",
              "  </tbody>\n",
              "</table>\n",
              "</div>"
            ],
            "text/plain": [
              "                     count          mean           std   min       25%  \\\n",
              "fraude            101613.0  1.141586e-03  3.376824e-02  0.00      0.00   \n",
              "super_fraude      101613.0  0.000000e+00  0.000000e+00  0.00      0.00   \n",
              "tempo             101613.0  8.523457e+00  1.820681e+00  1.00      8.00   \n",
              "valor             101613.0  1.740901e+05  3.450199e+05  0.32  10016.59   \n",
              "saldo_inicial_c1  101613.0  9.071753e+05  2.829575e+06  0.00      0.00   \n",
              "novo_saldo_c1     101613.0  9.234992e+05  2.867319e+06  0.00      0.00   \n",
              "saldo_inicial_c2  101613.0  8.810428e+05  2.399949e+06  0.00      0.00   \n",
              "novo_saldo_c2     101613.0  1.183998e+06  2.797761e+06  0.00      0.00   \n",
              "\n",
              "                       50%         75%          max  \n",
              "fraude                0.00        0.00         1.00  \n",
              "super_fraude          0.00        0.00         0.00  \n",
              "tempo                 9.00       10.00        10.00  \n",
              "valor             53385.41   212498.40  10000000.00  \n",
              "saldo_inicial_c1  20190.47   194715.00  38939424.03  \n",
              "novo_saldo_c1         0.00   219217.76  38946233.02  \n",
              "saldo_inicial_c2  21058.00   591921.70  34008736.98  \n",
              "novo_saldo_c2     51783.43  1063121.64  38946233.02  "
            ]
          },
          "execution_count": 8,
          "metadata": {},
          "output_type": "execute_result"
        }
      ],
      "source": [
        "df.describe().T"
      ]
    },
    {
      "cell_type": "code",
      "execution_count": 9,
      "metadata": {
        "colab": {
          "base_uri": "https://localhost:8080/"
        },
        "id": "vA7jiRlMK83_",
        "outputId": "8ec43c62-9f9b-4a45-9fca-c142937ea804"
      },
      "outputs": [
        {
          "data": {
            "text/plain": [
              "(101613, 11)"
            ]
          },
          "execution_count": 9,
          "metadata": {},
          "output_type": "execute_result"
        }
      ],
      "source": [
        "df.shape"
      ]
    },
    {
      "cell_type": "code",
      "execution_count": 10,
      "metadata": {
        "colab": {
          "base_uri": "https://localhost:8080/"
        },
        "id": "IznxOdQsy7af",
        "outputId": "3f6a7274-27fd-4174-b8d1-2b20a89a422b"
      },
      "outputs": [
        {
          "name": "stdout",
          "output_type": "stream",
          "text": [
            "<class 'pandas.core.frame.DataFrame'>\n",
            "RangeIndex: 101613 entries, 0 to 101612\n",
            "Data columns (total 11 columns):\n",
            " #   Column            Non-Null Count   Dtype  \n",
            "---  ------            --------------   -----  \n",
            " 0   fraude            101613 non-null  int64  \n",
            " 1   super_fraude      101613 non-null  int64  \n",
            " 2   tempo             101613 non-null  int64  \n",
            " 3   tipo              101613 non-null  object \n",
            " 4   valor             101613 non-null  float64\n",
            " 5   cliente1          101613 non-null  object \n",
            " 6   saldo_inicial_c1  101613 non-null  float64\n",
            " 7   novo_saldo_c1     101613 non-null  float64\n",
            " 8   cliente2          101613 non-null  object \n",
            " 9   saldo_inicial_c2  101613 non-null  float64\n",
            " 10  novo_saldo_c2     101613 non-null  float64\n",
            "dtypes: float64(5), int64(3), object(3)\n",
            "memory usage: 8.5+ MB\n"
          ]
        }
      ],
      "source": [
        "df.info()"
      ]
    },
    {
      "cell_type": "markdown",
      "metadata": {
        "id": "eJazaOp9LFMQ"
      },
      "source": [
        "### Verificando a variável target"
      ]
    },
    {
      "cell_type": "code",
      "execution_count": 11,
      "metadata": {
        "colab": {
          "base_uri": "https://localhost:8080/"
        },
        "id": "f22w57FzLKuM",
        "outputId": "4361574f-3aad-45b4-d32e-158e289f5739"
      },
      "outputs": [
        {
          "data": {
            "text/plain": [
              "fraude\n",
              "0    101497\n",
              "1       116\n",
              "Name: tempo, dtype: int64"
            ]
          },
          "execution_count": 11,
          "metadata": {},
          "output_type": "execute_result"
        }
      ],
      "source": [
        "df.groupby('fraude').tempo.count()"
      ]
    },
    {
      "cell_type": "code",
      "execution_count": 12,
      "metadata": {
        "colab": {
          "base_uri": "https://localhost:8080/"
        },
        "id": "PRlXlN2QLLXP",
        "outputId": "5edda420-966d-4a0f-9944-168497fd3d4f"
      },
      "outputs": [
        {
          "data": {
            "text/plain": [
              "False"
            ]
          },
          "execution_count": 12,
          "metadata": {},
          "output_type": "execute_result"
        }
      ],
      "source": [
        "df.isnull().values.any()"
      ]
    },
    {
      "cell_type": "markdown",
      "metadata": {
        "id": "Jchv8BEBxojL"
      },
      "source": [
        "Instalando o Pandas Profiling\n",
        "\n",
        "```!pip install -U pandas-profiling```"
      ]
    },
    {
      "cell_type": "code",
      "execution_count": 13,
      "metadata": {
        "colab": {
          "base_uri": "https://localhost:8080/"
        },
        "id": "fHrjk6e4Mlv0",
        "outputId": "16352096-3a4a-4397-ab08-5c23e964fa78"
      },
      "outputs": [
        {
          "name": "stdout",
          "output_type": "stream",
          "text": [
            "Requirement already satisfied: pandas-profiling in c:\\users\\pytho\\appdata\\local\\packages\\pythonsoftwarefoundation.python.3.11_qbz5n2kfra8p0\\localcache\\local-packages\\python311\\site-packages (3.2.0)\n",
            "Collecting joblib~=1.1.0 (from pandas-profiling)\n",
            "  Using cached joblib-1.1.1-py2.py3-none-any.whl.metadata (5.2 kB)\n",
            "Requirement already satisfied: scipy>=1.4.1 in c:\\users\\pytho\\appdata\\local\\packages\\pythonsoftwarefoundation.python.3.11_qbz5n2kfra8p0\\localcache\\local-packages\\python311\\site-packages (from pandas-profiling) (1.11.4)\n",
            "Requirement already satisfied: pandas!=1.0.0,!=1.0.1,!=1.0.2,!=1.1.0,>=0.25.3 in c:\\users\\pytho\\appdata\\local\\packages\\pythonsoftwarefoundation.python.3.11_qbz5n2kfra8p0\\localcache\\local-packages\\python311\\site-packages (from pandas-profiling) (2.1.4)\n",
            "Requirement already satisfied: matplotlib>=3.2.0 in c:\\users\\pytho\\appdata\\local\\packages\\pythonsoftwarefoundation.python.3.11_qbz5n2kfra8p0\\localcache\\local-packages\\python311\\site-packages (from pandas-profiling) (3.7.5)\n",
            "Requirement already satisfied: pydantic>=1.8.1 in c:\\users\\pytho\\appdata\\local\\packages\\pythonsoftwarefoundation.python.3.11_qbz5n2kfra8p0\\localcache\\local-packages\\python311\\site-packages (from pandas-profiling) (2.6.4)\n",
            "Requirement already satisfied: PyYAML>=5.0.0 in c:\\users\\pytho\\appdata\\local\\packages\\pythonsoftwarefoundation.python.3.11_qbz5n2kfra8p0\\localcache\\local-packages\\python311\\site-packages (from pandas-profiling) (6.0.1)\n",
            "Requirement already satisfied: jinja2>=2.11.1 in c:\\users\\pytho\\appdata\\local\\packages\\pythonsoftwarefoundation.python.3.11_qbz5n2kfra8p0\\localcache\\local-packages\\python311\\site-packages (from pandas-profiling) (3.1.3)\n",
            "Requirement already satisfied: markupsafe~=2.1.1 in c:\\users\\pytho\\appdata\\local\\packages\\pythonsoftwarefoundation.python.3.11_qbz5n2kfra8p0\\localcache\\local-packages\\python311\\site-packages (from pandas-profiling) (2.1.5)\n",
            "Requirement already satisfied: visions==0.7.4 in c:\\users\\pytho\\appdata\\local\\packages\\pythonsoftwarefoundation.python.3.11_qbz5n2kfra8p0\\localcache\\local-packages\\python311\\site-packages (from visions[type_image_path]==0.7.4->pandas-profiling) (0.7.4)\n",
            "Requirement already satisfied: numpy>=1.16.0 in c:\\users\\pytho\\appdata\\local\\packages\\pythonsoftwarefoundation.python.3.11_qbz5n2kfra8p0\\localcache\\local-packages\\python311\\site-packages (from pandas-profiling) (1.26.4)\n",
            "Requirement already satisfied: htmlmin>=0.1.12 in c:\\users\\pytho\\appdata\\local\\packages\\pythonsoftwarefoundation.python.3.11_qbz5n2kfra8p0\\localcache\\local-packages\\python311\\site-packages (from pandas-profiling) (0.1.12)\n",
            "Requirement already satisfied: missingno>=0.4.2 in c:\\users\\pytho\\appdata\\local\\packages\\pythonsoftwarefoundation.python.3.11_qbz5n2kfra8p0\\localcache\\local-packages\\python311\\site-packages (from pandas-profiling) (0.5.2)\n",
            "Requirement already satisfied: phik>=0.11.1 in c:\\users\\pytho\\appdata\\local\\packages\\pythonsoftwarefoundation.python.3.11_qbz5n2kfra8p0\\localcache\\local-packages\\python311\\site-packages (from pandas-profiling) (0.12.4)\n",
            "Requirement already satisfied: tangled-up-in-unicode==0.2.0 in c:\\users\\pytho\\appdata\\local\\packages\\pythonsoftwarefoundation.python.3.11_qbz5n2kfra8p0\\localcache\\local-packages\\python311\\site-packages (from pandas-profiling) (0.2.0)\n",
            "Requirement already satisfied: requests>=2.24.0 in c:\\users\\pytho\\appdata\\local\\packages\\pythonsoftwarefoundation.python.3.11_qbz5n2kfra8p0\\localcache\\local-packages\\python311\\site-packages (from pandas-profiling) (2.31.0)\n",
            "Requirement already satisfied: tqdm>=4.48.2 in c:\\users\\pytho\\appdata\\local\\packages\\pythonsoftwarefoundation.python.3.11_qbz5n2kfra8p0\\localcache\\local-packages\\python311\\site-packages (from pandas-profiling) (4.66.2)\n",
            "Requirement already satisfied: seaborn>=0.10.1 in c:\\users\\pytho\\appdata\\local\\packages\\pythonsoftwarefoundation.python.3.11_qbz5n2kfra8p0\\localcache\\local-packages\\python311\\site-packages (from pandas-profiling) (0.12.2)\n",
            "Requirement already satisfied: multimethod>=1.4 in c:\\users\\pytho\\appdata\\local\\packages\\pythonsoftwarefoundation.python.3.11_qbz5n2kfra8p0\\localcache\\local-packages\\python311\\site-packages (from pandas-profiling) (1.4)\n",
            "Requirement already satisfied: attrs>=19.3.0 in c:\\users\\pytho\\appdata\\local\\packages\\pythonsoftwarefoundation.python.3.11_qbz5n2kfra8p0\\localcache\\local-packages\\python311\\site-packages (from visions==0.7.4->visions[type_image_path]==0.7.4->pandas-profiling) (23.2.0)\n",
            "Requirement already satisfied: networkx>=2.4 in c:\\users\\pytho\\appdata\\local\\packages\\pythonsoftwarefoundation.python.3.11_qbz5n2kfra8p0\\localcache\\local-packages\\python311\\site-packages (from visions==0.7.4->visions[type_image_path]==0.7.4->pandas-profiling) (3.2.1)\n",
            "Requirement already satisfied: imagehash in c:\\users\\pytho\\appdata\\local\\packages\\pythonsoftwarefoundation.python.3.11_qbz5n2kfra8p0\\localcache\\local-packages\\python311\\site-packages (from visions[type_image_path]==0.7.4->pandas-profiling) (4.3.1)\n",
            "Requirement already satisfied: Pillow in c:\\users\\pytho\\appdata\\local\\packages\\pythonsoftwarefoundation.python.3.11_qbz5n2kfra8p0\\localcache\\local-packages\\python311\\site-packages (from visions[type_image_path]==0.7.4->pandas-profiling) (10.2.0)\n",
            "Requirement already satisfied: contourpy>=1.0.1 in c:\\users\\pytho\\appdata\\local\\packages\\pythonsoftwarefoundation.python.3.11_qbz5n2kfra8p0\\localcache\\local-packages\\python311\\site-packages (from matplotlib>=3.2.0->pandas-profiling) (1.2.0)\n",
            "Requirement already satisfied: cycler>=0.10 in c:\\users\\pytho\\appdata\\local\\packages\\pythonsoftwarefoundation.python.3.11_qbz5n2kfra8p0\\localcache\\local-packages\\python311\\site-packages (from matplotlib>=3.2.0->pandas-profiling) (0.12.1)\n",
            "Requirement already satisfied: fonttools>=4.22.0 in c:\\users\\pytho\\appdata\\local\\packages\\pythonsoftwarefoundation.python.3.11_qbz5n2kfra8p0\\localcache\\local-packages\\python311\\site-packages (from matplotlib>=3.2.0->pandas-profiling) (4.50.0)\n",
            "Requirement already satisfied: kiwisolver>=1.0.1 in c:\\users\\pytho\\appdata\\local\\packages\\pythonsoftwarefoundation.python.3.11_qbz5n2kfra8p0\\localcache\\local-packages\\python311\\site-packages (from matplotlib>=3.2.0->pandas-profiling) (1.4.5)\n",
            "Requirement already satisfied: packaging>=20.0 in c:\\users\\pytho\\appdata\\local\\packages\\pythonsoftwarefoundation.python.3.11_qbz5n2kfra8p0\\localcache\\local-packages\\python311\\site-packages (from matplotlib>=3.2.0->pandas-profiling) (23.2)\n",
            "Requirement already satisfied: pyparsing>=2.3.1 in c:\\users\\pytho\\appdata\\local\\packages\\pythonsoftwarefoundation.python.3.11_qbz5n2kfra8p0\\localcache\\local-packages\\python311\\site-packages (from matplotlib>=3.2.0->pandas-profiling) (3.1.2)\n",
            "Requirement already satisfied: python-dateutil>=2.7 in c:\\users\\pytho\\appdata\\local\\packages\\pythonsoftwarefoundation.python.3.11_qbz5n2kfra8p0\\localcache\\local-packages\\python311\\site-packages (from matplotlib>=3.2.0->pandas-profiling) (2.9.0.post0)\n",
            "Requirement already satisfied: pytz>=2020.1 in c:\\users\\pytho\\appdata\\local\\packages\\pythonsoftwarefoundation.python.3.11_qbz5n2kfra8p0\\localcache\\local-packages\\python311\\site-packages (from pandas!=1.0.0,!=1.0.1,!=1.0.2,!=1.1.0,>=0.25.3->pandas-profiling) (2024.1)\n",
            "Requirement already satisfied: tzdata>=2022.1 in c:\\users\\pytho\\appdata\\local\\packages\\pythonsoftwarefoundation.python.3.11_qbz5n2kfra8p0\\localcache\\local-packages\\python311\\site-packages (from pandas!=1.0.0,!=1.0.1,!=1.0.2,!=1.1.0,>=0.25.3->pandas-profiling) (2024.1)\n",
            "Requirement already satisfied: annotated-types>=0.4.0 in c:\\users\\pytho\\appdata\\local\\packages\\pythonsoftwarefoundation.python.3.11_qbz5n2kfra8p0\\localcache\\local-packages\\python311\\site-packages (from pydantic>=1.8.1->pandas-profiling) (0.6.0)\n",
            "Requirement already satisfied: pydantic-core==2.16.3 in c:\\users\\pytho\\appdata\\local\\packages\\pythonsoftwarefoundation.python.3.11_qbz5n2kfra8p0\\localcache\\local-packages\\python311\\site-packages (from pydantic>=1.8.1->pandas-profiling) (2.16.3)\n",
            "Requirement already satisfied: typing-extensions>=4.6.1 in c:\\users\\pytho\\appdata\\local\\packages\\pythonsoftwarefoundation.python.3.11_qbz5n2kfra8p0\\localcache\\local-packages\\python311\\site-packages (from pydantic>=1.8.1->pandas-profiling) (4.10.0)\n",
            "Requirement already satisfied: charset-normalizer<4,>=2 in c:\\users\\pytho\\appdata\\local\\packages\\pythonsoftwarefoundation.python.3.11_qbz5n2kfra8p0\\localcache\\local-packages\\python311\\site-packages (from requests>=2.24.0->pandas-profiling) (3.3.2)\n",
            "Requirement already satisfied: idna<4,>=2.5 in c:\\users\\pytho\\appdata\\local\\packages\\pythonsoftwarefoundation.python.3.11_qbz5n2kfra8p0\\localcache\\local-packages\\python311\\site-packages (from requests>=2.24.0->pandas-profiling) (3.6)\n",
            "Requirement already satisfied: urllib3<3,>=1.21.1 in c:\\users\\pytho\\appdata\\local\\packages\\pythonsoftwarefoundation.python.3.11_qbz5n2kfra8p0\\localcache\\local-packages\\python311\\site-packages (from requests>=2.24.0->pandas-profiling) (2.2.1)\n",
            "Requirement already satisfied: certifi>=2017.4.17 in c:\\users\\pytho\\appdata\\local\\packages\\pythonsoftwarefoundation.python.3.11_qbz5n2kfra8p0\\localcache\\local-packages\\python311\\site-packages (from requests>=2.24.0->pandas-profiling) (2024.2.2)\n",
            "Requirement already satisfied: colorama in c:\\users\\pytho\\appdata\\local\\packages\\pythonsoftwarefoundation.python.3.11_qbz5n2kfra8p0\\localcache\\local-packages\\python311\\site-packages (from tqdm>=4.48.2->pandas-profiling) (0.4.6)\n",
            "Requirement already satisfied: six>=1.5 in c:\\users\\pytho\\appdata\\local\\packages\\pythonsoftwarefoundation.python.3.11_qbz5n2kfra8p0\\localcache\\local-packages\\python311\\site-packages (from python-dateutil>=2.7->matplotlib>=3.2.0->pandas-profiling) (1.16.0)\n",
            "Requirement already satisfied: PyWavelets in c:\\users\\pytho\\appdata\\local\\packages\\pythonsoftwarefoundation.python.3.11_qbz5n2kfra8p0\\localcache\\local-packages\\python311\\site-packages (from imagehash->visions[type_image_path]==0.7.4->pandas-profiling) (1.5.0)\n",
            "Using cached joblib-1.1.1-py2.py3-none-any.whl (309 kB)\n",
            "Installing collected packages: joblib\n",
            "  Attempting uninstall: joblib\n",
            "    Found existing installation: joblib 1.4.2\n",
            "    Uninstalling joblib-1.4.2:\n",
            "      Successfully uninstalled joblib-1.4.2\n",
            "Successfully installed joblib-1.1.1\n"
          ]
        },
        {
          "name": "stderr",
          "output_type": "stream",
          "text": [
            "ERROR: pip's dependency resolver does not currently take into account all the packages that are installed. This behaviour is the source of the following dependency conflicts.\n",
            "pycaret 3.3.0 requires joblib>=1.2.0, but you have joblib 1.1.1 which is incompatible.\n",
            "scikit-learn 1.4.1.post1 requires joblib>=1.2.0, but you have joblib 1.1.1 which is incompatible.\n",
            "ydata-profiling 4.7.0 requires visions[type_image_path]<0.7.7,>=0.7.5, but you have visions 0.7.4 which is incompatible.\n"
          ]
        }
      ],
      "source": [
        "!pip install -U pandas-profiling"
      ]
    },
    {
      "cell_type": "code",
      "execution_count": 14,
      "metadata": {
        "colab": {
          "base_uri": "https://localhost:8080/",
          "height": 0,
          "referenced_widgets": [
            "35e1cee552064778bef3357d3e9b66e5",
            "f148223dfb4040e7ab845a934d0a36dc",
            "c414d50f589141e19f2be083af9e2757",
            "b51a7d02b553480bb1a1125c8c918c69",
            "9e1f50ecfce34d238cd361b586d919ab",
            "0e8e18233d13412385dba29a406511cb",
            "4dd17d7643654601acb74e6973bc8269",
            "ec047b825df74466a65d70cee109715d",
            "511b6538b3c54bbcb6978ed11d4dd088",
            "5a2f4d4c162a4f238022053249b0dd1c",
            "8c00ae05b83e4911adf85f84a730171e",
            "f93d9983a5324a659ddf0a37828d289d",
            "82222753bc2b44069785cd67412b7077",
            "ddd02b30ca8d40cdb2873dd8f4e04f9b",
            "7e4154f6829e48d5bcc15a28171f9b3e",
            "ac8012dcdaf74a8985c3aa071d769458",
            "f4a5ba1dbc7f44d3bb7cb397e786798a",
            "e9a4524bddff4684935dd4f2174cebaf",
            "d820d0d86e87433a9bef2e1364b29314",
            "0f034c3a81524847ab14f8cfb96e9f7d",
            "bb308f34cf5a4aa39ba31ae7bc601362",
            "45486a10f70741b0b8e79a8c96f6e614",
            "4475df4b90a14a86a6bc6dcf771cf4d1",
            "a68fc49549b347f4b7a5941b54973873",
            "d81917df8ea643fba8f5b5c7e15e7449",
            "e596fad21f3d43f2b93da2b8783fb615",
            "105b2724d1594a3faf6f3bc92fa4f16e",
            "921f244c1e124775abf8731c4fc72fae",
            "f246705b272b4ceb87cf03ed4b04116a",
            "423432f125f842ea83cb3faa10eaad93",
            "d5a4eb4398da4f1ab5ee2e59f506fddd",
            "02777da28cbb4451a1aa940a39c9e39d",
            "4b17f5b614784adeb937900933a45b25"
          ]
        },
        "id": "NzOgDCuSMnNP",
        "outputId": "b782d0ce-f41d-481d-fdc5-251eccf12dde"
      },
      "outputs": [],
      "source": [
        "# import pandas_profiling\n",
        "\n",
        "# pandas_profiling.ProfileReport(df)"
      ]
    },
    {
      "cell_type": "code",
      "execution_count": 15,
      "metadata": {
        "colab": {
          "base_uri": "https://localhost:8080/",
          "height": 0
        },
        "id": "zXdieOLkNA8O",
        "outputId": "cd5ce32c-f6e1-4a33-beaa-ab853daf2268"
      },
      "outputs": [
        {
          "data": {
            "text/html": [
              "<div>\n",
              "<style scoped>\n",
              "    .dataframe tbody tr th:only-of-type {\n",
              "        vertical-align: middle;\n",
              "    }\n",
              "\n",
              "    .dataframe tbody tr th {\n",
              "        vertical-align: top;\n",
              "    }\n",
              "\n",
              "    .dataframe thead th {\n",
              "        text-align: right;\n",
              "    }\n",
              "</style>\n",
              "<table border=\"1\" class=\"dataframe\">\n",
              "  <thead>\n",
              "    <tr style=\"text-align: right;\">\n",
              "      <th></th>\n",
              "      <th>fraude</th>\n",
              "      <th>super_fraude</th>\n",
              "      <th>tempo</th>\n",
              "      <th>valor</th>\n",
              "      <th>cliente1</th>\n",
              "      <th>saldo_inicial_c1</th>\n",
              "      <th>novo_saldo_c1</th>\n",
              "      <th>cliente2</th>\n",
              "      <th>saldo_inicial_c2</th>\n",
              "      <th>novo_saldo_c2</th>\n",
              "      <th>tipo_CASH_IN</th>\n",
              "      <th>tipo_CASH_OUT</th>\n",
              "      <th>tipo_DEBIT</th>\n",
              "      <th>tipo_PAYMENT</th>\n",
              "      <th>tipo_TRANSFER</th>\n",
              "    </tr>\n",
              "  </thead>\n",
              "  <tbody>\n",
              "    <tr>\n",
              "      <th>0</th>\n",
              "      <td>0</td>\n",
              "      <td>0</td>\n",
              "      <td>1</td>\n",
              "      <td>9839.64</td>\n",
              "      <td>C1231006815</td>\n",
              "      <td>170136.0</td>\n",
              "      <td>160296.36</td>\n",
              "      <td>M1979787155</td>\n",
              "      <td>0.0</td>\n",
              "      <td>0.0</td>\n",
              "      <td>False</td>\n",
              "      <td>False</td>\n",
              "      <td>False</td>\n",
              "      <td>True</td>\n",
              "      <td>False</td>\n",
              "    </tr>\n",
              "    <tr>\n",
              "      <th>1</th>\n",
              "      <td>0</td>\n",
              "      <td>0</td>\n",
              "      <td>1</td>\n",
              "      <td>1864.28</td>\n",
              "      <td>C1666544295</td>\n",
              "      <td>21249.0</td>\n",
              "      <td>19384.72</td>\n",
              "      <td>M2044282225</td>\n",
              "      <td>0.0</td>\n",
              "      <td>0.0</td>\n",
              "      <td>False</td>\n",
              "      <td>False</td>\n",
              "      <td>False</td>\n",
              "      <td>True</td>\n",
              "      <td>False</td>\n",
              "    </tr>\n",
              "    <tr>\n",
              "      <th>2</th>\n",
              "      <td>1</td>\n",
              "      <td>0</td>\n",
              "      <td>1</td>\n",
              "      <td>181.00</td>\n",
              "      <td>C1305486145</td>\n",
              "      <td>181.0</td>\n",
              "      <td>0.00</td>\n",
              "      <td>C553264065</td>\n",
              "      <td>0.0</td>\n",
              "      <td>0.0</td>\n",
              "      <td>False</td>\n",
              "      <td>False</td>\n",
              "      <td>False</td>\n",
              "      <td>False</td>\n",
              "      <td>True</td>\n",
              "    </tr>\n",
              "    <tr>\n",
              "      <th>3</th>\n",
              "      <td>1</td>\n",
              "      <td>0</td>\n",
              "      <td>1</td>\n",
              "      <td>181.00</td>\n",
              "      <td>C840083671</td>\n",
              "      <td>181.0</td>\n",
              "      <td>0.00</td>\n",
              "      <td>C38997010</td>\n",
              "      <td>21182.0</td>\n",
              "      <td>0.0</td>\n",
              "      <td>False</td>\n",
              "      <td>True</td>\n",
              "      <td>False</td>\n",
              "      <td>False</td>\n",
              "      <td>False</td>\n",
              "    </tr>\n",
              "    <tr>\n",
              "      <th>4</th>\n",
              "      <td>0</td>\n",
              "      <td>0</td>\n",
              "      <td>1</td>\n",
              "      <td>11668.14</td>\n",
              "      <td>C2048537720</td>\n",
              "      <td>41554.0</td>\n",
              "      <td>29885.86</td>\n",
              "      <td>M1230701703</td>\n",
              "      <td>0.0</td>\n",
              "      <td>0.0</td>\n",
              "      <td>False</td>\n",
              "      <td>False</td>\n",
              "      <td>False</td>\n",
              "      <td>True</td>\n",
              "      <td>False</td>\n",
              "    </tr>\n",
              "  </tbody>\n",
              "</table>\n",
              "</div>"
            ],
            "text/plain": [
              "   fraude  super_fraude  tempo     valor     cliente1  saldo_inicial_c1  \\\n",
              "0       0             0      1   9839.64  C1231006815          170136.0   \n",
              "1       0             0      1   1864.28  C1666544295           21249.0   \n",
              "2       1             0      1    181.00  C1305486145             181.0   \n",
              "3       1             0      1    181.00   C840083671             181.0   \n",
              "4       0             0      1  11668.14  C2048537720           41554.0   \n",
              "\n",
              "   novo_saldo_c1     cliente2  saldo_inicial_c2  novo_saldo_c2  tipo_CASH_IN  \\\n",
              "0      160296.36  M1979787155               0.0            0.0         False   \n",
              "1       19384.72  M2044282225               0.0            0.0         False   \n",
              "2           0.00   C553264065               0.0            0.0         False   \n",
              "3           0.00    C38997010           21182.0            0.0         False   \n",
              "4       29885.86  M1230701703               0.0            0.0         False   \n",
              "\n",
              "   tipo_CASH_OUT  tipo_DEBIT  tipo_PAYMENT  tipo_TRANSFER  \n",
              "0          False       False          True          False  \n",
              "1          False       False          True          False  \n",
              "2          False       False         False           True  \n",
              "3           True       False         False          False  \n",
              "4          False       False          True          False  "
            ]
          },
          "execution_count": 15,
          "metadata": {},
          "output_type": "execute_result"
        }
      ],
      "source": [
        "df = pd.get_dummies(data=df, columns=['tipo'])\n",
        "df.head()"
      ]
    },
    {
      "cell_type": "code",
      "execution_count": 16,
      "metadata": {
        "id": "FMjzuys9NCVn"
      },
      "outputs": [],
      "source": [
        "df = df.drop(['cliente1', 'cliente2', 'super_fraude'], axis = 1)"
      ]
    },
    {
      "cell_type": "code",
      "execution_count": 17,
      "metadata": {
        "colab": {
          "base_uri": "https://localhost:8080/",
          "height": 0
        },
        "id": "OBU8LGoZ334f",
        "outputId": "691b409b-d55e-4b10-ca03-0aae6406bcd2"
      },
      "outputs": [
        {
          "data": {
            "text/html": [
              "<div>\n",
              "<style scoped>\n",
              "    .dataframe tbody tr th:only-of-type {\n",
              "        vertical-align: middle;\n",
              "    }\n",
              "\n",
              "    .dataframe tbody tr th {\n",
              "        vertical-align: top;\n",
              "    }\n",
              "\n",
              "    .dataframe thead th {\n",
              "        text-align: right;\n",
              "    }\n",
              "</style>\n",
              "<table border=\"1\" class=\"dataframe\">\n",
              "  <thead>\n",
              "    <tr style=\"text-align: right;\">\n",
              "      <th></th>\n",
              "      <th>fraude</th>\n",
              "      <th>tempo</th>\n",
              "      <th>valor</th>\n",
              "      <th>saldo_inicial_c1</th>\n",
              "      <th>novo_saldo_c1</th>\n",
              "      <th>saldo_inicial_c2</th>\n",
              "      <th>novo_saldo_c2</th>\n",
              "      <th>tipo_CASH_IN</th>\n",
              "      <th>tipo_CASH_OUT</th>\n",
              "      <th>tipo_DEBIT</th>\n",
              "      <th>tipo_PAYMENT</th>\n",
              "      <th>tipo_TRANSFER</th>\n",
              "    </tr>\n",
              "  </thead>\n",
              "  <tbody>\n",
              "    <tr>\n",
              "      <th>0</th>\n",
              "      <td>0</td>\n",
              "      <td>1</td>\n",
              "      <td>9839.64</td>\n",
              "      <td>170136.0</td>\n",
              "      <td>160296.36</td>\n",
              "      <td>0.0</td>\n",
              "      <td>0.0</td>\n",
              "      <td>False</td>\n",
              "      <td>False</td>\n",
              "      <td>False</td>\n",
              "      <td>True</td>\n",
              "      <td>False</td>\n",
              "    </tr>\n",
              "    <tr>\n",
              "      <th>1</th>\n",
              "      <td>0</td>\n",
              "      <td>1</td>\n",
              "      <td>1864.28</td>\n",
              "      <td>21249.0</td>\n",
              "      <td>19384.72</td>\n",
              "      <td>0.0</td>\n",
              "      <td>0.0</td>\n",
              "      <td>False</td>\n",
              "      <td>False</td>\n",
              "      <td>False</td>\n",
              "      <td>True</td>\n",
              "      <td>False</td>\n",
              "    </tr>\n",
              "    <tr>\n",
              "      <th>2</th>\n",
              "      <td>1</td>\n",
              "      <td>1</td>\n",
              "      <td>181.00</td>\n",
              "      <td>181.0</td>\n",
              "      <td>0.00</td>\n",
              "      <td>0.0</td>\n",
              "      <td>0.0</td>\n",
              "      <td>False</td>\n",
              "      <td>False</td>\n",
              "      <td>False</td>\n",
              "      <td>False</td>\n",
              "      <td>True</td>\n",
              "    </tr>\n",
              "    <tr>\n",
              "      <th>3</th>\n",
              "      <td>1</td>\n",
              "      <td>1</td>\n",
              "      <td>181.00</td>\n",
              "      <td>181.0</td>\n",
              "      <td>0.00</td>\n",
              "      <td>21182.0</td>\n",
              "      <td>0.0</td>\n",
              "      <td>False</td>\n",
              "      <td>True</td>\n",
              "      <td>False</td>\n",
              "      <td>False</td>\n",
              "      <td>False</td>\n",
              "    </tr>\n",
              "    <tr>\n",
              "      <th>4</th>\n",
              "      <td>0</td>\n",
              "      <td>1</td>\n",
              "      <td>11668.14</td>\n",
              "      <td>41554.0</td>\n",
              "      <td>29885.86</td>\n",
              "      <td>0.0</td>\n",
              "      <td>0.0</td>\n",
              "      <td>False</td>\n",
              "      <td>False</td>\n",
              "      <td>False</td>\n",
              "      <td>True</td>\n",
              "      <td>False</td>\n",
              "    </tr>\n",
              "  </tbody>\n",
              "</table>\n",
              "</div>"
            ],
            "text/plain": [
              "   fraude  tempo     valor  saldo_inicial_c1  novo_saldo_c1  saldo_inicial_c2  \\\n",
              "0       0      1   9839.64          170136.0      160296.36               0.0   \n",
              "1       0      1   1864.28           21249.0       19384.72               0.0   \n",
              "2       1      1    181.00             181.0           0.00               0.0   \n",
              "3       1      1    181.00             181.0           0.00           21182.0   \n",
              "4       0      1  11668.14           41554.0       29885.86               0.0   \n",
              "\n",
              "   novo_saldo_c2  tipo_CASH_IN  tipo_CASH_OUT  tipo_DEBIT  tipo_PAYMENT  \\\n",
              "0            0.0         False          False       False          True   \n",
              "1            0.0         False          False       False          True   \n",
              "2            0.0         False          False       False         False   \n",
              "3            0.0         False           True       False         False   \n",
              "4            0.0         False          False       False          True   \n",
              "\n",
              "   tipo_TRANSFER  \n",
              "0          False  \n",
              "1          False  \n",
              "2           True  \n",
              "3          False  \n",
              "4          False  "
            ]
          },
          "execution_count": 17,
          "metadata": {},
          "output_type": "execute_result"
        }
      ],
      "source": [
        "df.head()"
      ]
    },
    {
      "cell_type": "code",
      "execution_count": 18,
      "metadata": {
        "id": "1Gdk0S8iAg8o"
      },
      "outputs": [],
      "source": [
        "x = df.iloc[:, 1:].values\n",
        "y = df.iloc[:, 0].values"
      ]
    },
    {
      "cell_type": "code",
      "execution_count": 19,
      "metadata": {
        "id": "mcQLTDkfAg2-"
      },
      "outputs": [],
      "source": [
        "from sklearn.model_selection import train_test_split\n",
        "\n",
        "SEED = 42\n",
        "\n",
        "x_train, x_test, y_train, y_test = train_test_split(x, y, test_size=0.25, random_state = SEED)"
      ]
    },
    {
      "cell_type": "code",
      "execution_count": 20,
      "metadata": {
        "colab": {
          "base_uri": "https://localhost:8080/"
        },
        "id": "5EpQqcoXAgw-",
        "outputId": "56f266a5-c5ab-48de-f6dc-e00c63a69650"
      },
      "outputs": [
        {
          "name": "stdout",
          "output_type": "stream",
          "text": [
            "Acurácia: 0.9990552668871044\n",
            "Precisão: 0.3333333333333333\n",
            "Recall: 0.043478260869565216\n",
            "F1: 0.07692307692307693\n"
          ]
        }
      ],
      "source": [
        "from sklearn.linear_model import LogisticRegression\n",
        "from sklearn import metrics\n",
        "\n",
        "lr = LogisticRegression(max_iter=1000, random_state=SEED)\n",
        "\n",
        "lr.fit(x_train, y_train)\n",
        "y_pred =lr.predict(x_test)\n",
        "\n",
        "print(\"Acurácia:\",metrics.accuracy_score(y_test, y_pred))\n",
        "print(\"Precisão:\",metrics.precision_score(y_test, y_pred))\n",
        "print(\"Recall:\",metrics.recall_score(y_test, y_pred)) \n",
        "print(\"F1:\",metrics.f1_score(y_test, y_pred))"
      ]
    },
    {
      "cell_type": "code",
      "execution_count": 21,
      "metadata": {
        "colab": {
          "base_uri": "https://localhost:8080/",
          "height": 0
        },
        "id": "i4F2Urt5Agru",
        "outputId": "8d54c1c0-cb03-4959-84e7-fda94a00e23d"
      },
      "outputs": [
        {
          "data": {
            "text/plain": [
              "<sklearn.metrics._plot.confusion_matrix.ConfusionMatrixDisplay at 0x21b1def5350>"
            ]
          },
          "execution_count": 21,
          "metadata": {},
          "output_type": "execute_result"
        },
        {
          "data": {
            "image/png": "[encoded data removed]",
            "text/plain": [
              "<Figure size 640x480 with 2 Axes>"
            ]
          },
          "metadata": {},
          "output_type": "display_data"
        }
      ],
      "source": [
        "from sklearn.metrics import confusion_matrix\n",
        "import matplotlib.pyplot as plt\n",
        "from sklearn.datasets import make_classification\n",
        "from sklearn.metrics import ConfusionMatrixDisplay\n",
        "%matplotlib inline\n",
        "\n",
        "cm = confusion_matrix(y_test, y_pred)\n",
        "disp = ConfusionMatrixDisplay(confusion_matrix=cm)\n",
        "disp.plot()"
      ]
    },
    {
      "cell_type": "code",
      "execution_count": 22,
      "metadata": {
        "colab": {
          "base_uri": "https://localhost:8080/",
          "height": 0
        },
        "id": "81A18LXmAgmW",
        "outputId": "3917d605-4e55-455b-d858-52343799e3f7"
      },
      "outputs": [
        {
          "data": {
            "text/plain": [
              "<matplotlib.legend.Legend at 0x21aff5d3f50>"
            ]
          },
          "execution_count": 22,
          "metadata": {},
          "output_type": "execute_result"
        },
        {
          "data": {
            "image/png": "[encoded data removed]",
            "text/plain": [
              "<Figure size 1200x800 with 1 Axes>"
            ]
          },
          "metadata": {},
          "output_type": "display_data"
        }
      ],
      "source": [
        "y_pred_proba = lr.predict_proba(x_test)[::, 1]\n",
        "fpr, tpr, _= metrics.roc_curve(y_test, y_pred_proba)\n",
        "auc = metrics.roc_auc_score(y_test, y_pred_proba)\n",
        "\n",
        "plt.rcParams['figure.figsize'] = (12., 8.)\n",
        "plt.plot(fpr,tpr,label=\"LR, auc=\"+str(auc))\n",
        "plt.plot([0, 1], [0, 1], color='red', lw=2, linestyle='--')\n",
        "plt.legend(loc=4)"
      ]
    },
    {
      "cell_type": "code",
      "execution_count": 23,
      "metadata": {
        "colab": {
          "base_uri": "https://localhost:8080/"
        },
        "id": "lcpWj490MrSF",
        "outputId": "0a3f066e-600e-4801-f447-54a337739e34"
      },
      "outputs": [
        {
          "name": "stdout",
          "output_type": "stream",
          "text": [
            "Requirement already satisfied: imbalanced-learn in c:\\users\\pytho\\appdata\\local\\packages\\pythonsoftwarefoundation.python.3.11_qbz5n2kfra8p0\\localcache\\local-packages\\python311\\site-packages (0.12.3)Note: you may need to restart the kernel to use updated packages.\n",
            "\n",
            "Requirement already satisfied: numpy>=1.17.3 in c:\\users\\pytho\\appdata\\local\\packages\\pythonsoftwarefoundation.python.3.11_qbz5n2kfra8p0\\localcache\\local-packages\\python311\\site-packages (from imbalanced-learn) (1.26.4)\n",
            "Requirement already satisfied: scipy>=1.5.0 in c:\\users\\pytho\\appdata\\local\\packages\\pythonsoftwarefoundation.python.3.11_qbz5n2kfra8p0\\localcache\\local-packages\\python311\\site-packages (from imbalanced-learn) (1.11.4)\n",
            "Requirement already satisfied: scikit-learn>=1.0.2 in c:\\users\\pytho\\appdata\\local\\packages\\pythonsoftwarefoundation.python.3.11_qbz5n2kfra8p0\\localcache\\local-packages\\python311\\site-packages (from imbalanced-learn) (1.4.1.post1)\n",
            "Requirement already satisfied: joblib>=1.1.1 in c:\\users\\pytho\\appdata\\local\\packages\\pythonsoftwarefoundation.python.3.11_qbz5n2kfra8p0\\localcache\\local-packages\\python311\\site-packages (from imbalanced-learn) (1.1.1)\n",
            "Requirement already satisfied: threadpoolctl>=2.0.0 in c:\\users\\pytho\\appdata\\local\\packages\\pythonsoftwarefoundation.python.3.11_qbz5n2kfra8p0\\localcache\\local-packages\\python311\\site-packages (from imbalanced-learn) (3.4.0)\n",
            "Collecting joblib>=1.1.1 (from imbalanced-learn)\n",
            "  Using cached joblib-1.4.2-py3-none-any.whl.metadata (5.4 kB)\n",
            "Using cached joblib-1.4.2-py3-none-any.whl (301 kB)\n",
            "Installing collected packages: joblib\n",
            "  Attempting uninstall: joblib\n",
            "    Found existing installation: joblib 1.1.1\n",
            "    Uninstalling joblib-1.1.1:\n",
            "      Successfully uninstalled joblib-1.1.1\n",
            "Successfully installed joblib-1.4.2\n"
          ]
        },
        {
          "name": "stderr",
          "output_type": "stream",
          "text": [
            "ERROR: pip's dependency resolver does not currently take into account all the packages that are installed. This behaviour is the source of the following dependency conflicts.\n",
            "pandas-profiling 3.2.0 requires joblib~=1.1.0, but you have joblib 1.4.2 which is incompatible.\n",
            "ydata-profiling 4.7.0 requires visions[type_image_path]<0.7.7,>=0.7.5, but you have visions 0.7.4 which is incompatible.\n"
          ]
        }
      ],
      "source": [
        "pip install -U imbalanced-learn"
      ]
    },
    {
      "cell_type": "code",
      "execution_count": 24,
      "metadata": {
        "id": "ohkjmdC8NrSN"
      },
      "outputs": [],
      "source": [
        "from imblearn.over_sampling import SMOTE\n",
        "import numpy as np\n",
        "\n",
        "SEED=42\n",
        "\n",
        "smote = SMOTE(random_state=42)"
      ]
    },
    {
      "cell_type": "code",
      "execution_count": 25,
      "metadata": {
        "id": "a9kOe_buN9bk"
      },
      "outputs": [],
      "source": [
        "x = df.drop('fraude', axis=1)\n",
        "y = df['fraude']"
      ]
    },
    {
      "cell_type": "code",
      "execution_count": 26,
      "metadata": {
        "id": "q_VlWOPgOK48"
      },
      "outputs": [],
      "source": [
        "x_resampled, y_resampled = smote.fit_resample(x,y)"
      ]
    },
    {
      "cell_type": "code",
      "execution_count": 27,
      "metadata": {
        "colab": {
          "base_uri": "https://localhost:8080/",
          "height": 423
        },
        "id": "jtO4qeCZOZFo",
        "outputId": "5a654d38-11f8-4bdf-9d78-b5ef4f05ab70"
      },
      "outputs": [
        {
          "data": {
            "text/html": [
              "<div>\n",
              "<style scoped>\n",
              "    .dataframe tbody tr th:only-of-type {\n",
              "        vertical-align: middle;\n",
              "    }\n",
              "\n",
              "    .dataframe tbody tr th {\n",
              "        vertical-align: top;\n",
              "    }\n",
              "\n",
              "    .dataframe thead th {\n",
              "        text-align: right;\n",
              "    }\n",
              "</style>\n",
              "<table border=\"1\" class=\"dataframe\">\n",
              "  <thead>\n",
              "    <tr style=\"text-align: right;\">\n",
              "      <th></th>\n",
              "      <th>fraude</th>\n",
              "      <th>tempo</th>\n",
              "      <th>valor</th>\n",
              "      <th>saldo_inicial_c1</th>\n",
              "      <th>novo_saldo_c1</th>\n",
              "      <th>saldo_inicial_c2</th>\n",
              "      <th>novo_saldo_c2</th>\n",
              "      <th>tipo_CASH_IN</th>\n",
              "      <th>tipo_CASH_OUT</th>\n",
              "      <th>tipo_DEBIT</th>\n",
              "      <th>tipo_PAYMENT</th>\n",
              "      <th>tipo_TRANSFER</th>\n",
              "    </tr>\n",
              "  </thead>\n",
              "  <tbody>\n",
              "    <tr>\n",
              "      <th>0</th>\n",
              "      <td>0</td>\n",
              "      <td>1</td>\n",
              "      <td>9839.640000</td>\n",
              "      <td>170136.000000</td>\n",
              "      <td>160296.36</td>\n",
              "      <td>0.000000</td>\n",
              "      <td>0.000000</td>\n",
              "      <td>False</td>\n",
              "      <td>False</td>\n",
              "      <td>False</td>\n",
              "      <td>True</td>\n",
              "      <td>False</td>\n",
              "    </tr>\n",
              "    <tr>\n",
              "      <th>1</th>\n",
              "      <td>0</td>\n",
              "      <td>1</td>\n",
              "      <td>1864.280000</td>\n",
              "      <td>21249.000000</td>\n",
              "      <td>19384.72</td>\n",
              "      <td>0.000000</td>\n",
              "      <td>0.000000</td>\n",
              "      <td>False</td>\n",
              "      <td>False</td>\n",
              "      <td>False</td>\n",
              "      <td>True</td>\n",
              "      <td>False</td>\n",
              "    </tr>\n",
              "    <tr>\n",
              "      <th>2</th>\n",
              "      <td>1</td>\n",
              "      <td>1</td>\n",
              "      <td>181.000000</td>\n",
              "      <td>181.000000</td>\n",
              "      <td>0.00</td>\n",
              "      <td>0.000000</td>\n",
              "      <td>0.000000</td>\n",
              "      <td>False</td>\n",
              "      <td>False</td>\n",
              "      <td>False</td>\n",
              "      <td>False</td>\n",
              "      <td>True</td>\n",
              "    </tr>\n",
              "    <tr>\n",
              "      <th>3</th>\n",
              "      <td>1</td>\n",
              "      <td>1</td>\n",
              "      <td>181.000000</td>\n",
              "      <td>181.000000</td>\n",
              "      <td>0.00</td>\n",
              "      <td>21182.000000</td>\n",
              "      <td>0.000000</td>\n",
              "      <td>False</td>\n",
              "      <td>True</td>\n",
              "      <td>False</td>\n",
              "      <td>False</td>\n",
              "      <td>False</td>\n",
              "    </tr>\n",
              "    <tr>\n",
              "      <th>4</th>\n",
              "      <td>0</td>\n",
              "      <td>1</td>\n",
              "      <td>11668.140000</td>\n",
              "      <td>41554.000000</td>\n",
              "      <td>29885.86</td>\n",
              "      <td>0.000000</td>\n",
              "      <td>0.000000</td>\n",
              "      <td>False</td>\n",
              "      <td>False</td>\n",
              "      <td>False</td>\n",
              "      <td>True</td>\n",
              "      <td>False</td>\n",
              "    </tr>\n",
              "    <tr>\n",
              "      <th>...</th>\n",
              "      <td>...</td>\n",
              "      <td>...</td>\n",
              "      <td>...</td>\n",
              "      <td>...</td>\n",
              "      <td>...</td>\n",
              "      <td>...</td>\n",
              "      <td>...</td>\n",
              "      <td>...</td>\n",
              "      <td>...</td>\n",
              "      <td>...</td>\n",
              "      <td>...</td>\n",
              "      <td>...</td>\n",
              "    </tr>\n",
              "    <tr>\n",
              "      <th>202989</th>\n",
              "      <td>1</td>\n",
              "      <td>5</td>\n",
              "      <td>17608.962863</td>\n",
              "      <td>17608.962863</td>\n",
              "      <td>0.00</td>\n",
              "      <td>0.000000</td>\n",
              "      <td>0.000000</td>\n",
              "      <td>False</td>\n",
              "      <td>False</td>\n",
              "      <td>False</td>\n",
              "      <td>False</td>\n",
              "      <td>True</td>\n",
              "    </tr>\n",
              "    <tr>\n",
              "      <th>202990</th>\n",
              "      <td>1</td>\n",
              "      <td>7</td>\n",
              "      <td>12116.291013</td>\n",
              "      <td>12116.291013</td>\n",
              "      <td>0.00</td>\n",
              "      <td>0.000000</td>\n",
              "      <td>0.000000</td>\n",
              "      <td>False</td>\n",
              "      <td>False</td>\n",
              "      <td>False</td>\n",
              "      <td>False</td>\n",
              "      <td>True</td>\n",
              "    </tr>\n",
              "    <tr>\n",
              "      <th>202991</th>\n",
              "      <td>1</td>\n",
              "      <td>1</td>\n",
              "      <td>231612.880715</td>\n",
              "      <td>231612.880715</td>\n",
              "      <td>0.00</td>\n",
              "      <td>1945.589357</td>\n",
              "      <td>9370.603471</td>\n",
              "      <td>False</td>\n",
              "      <td>True</td>\n",
              "      <td>False</td>\n",
              "      <td>False</td>\n",
              "      <td>True</td>\n",
              "    </tr>\n",
              "    <tr>\n",
              "      <th>202992</th>\n",
              "      <td>1</td>\n",
              "      <td>9</td>\n",
              "      <td>547325.144758</td>\n",
              "      <td>547325.144758</td>\n",
              "      <td>0.00</td>\n",
              "      <td>0.000000</td>\n",
              "      <td>0.000000</td>\n",
              "      <td>False</td>\n",
              "      <td>False</td>\n",
              "      <td>False</td>\n",
              "      <td>False</td>\n",
              "      <td>True</td>\n",
              "    </tr>\n",
              "    <tr>\n",
              "      <th>202993</th>\n",
              "      <td>1</td>\n",
              "      <td>4</td>\n",
              "      <td>159298.594420</td>\n",
              "      <td>159298.594420</td>\n",
              "      <td>0.00</td>\n",
              "      <td>0.000000</td>\n",
              "      <td>0.000000</td>\n",
              "      <td>False</td>\n",
              "      <td>False</td>\n",
              "      <td>False</td>\n",
              "      <td>False</td>\n",
              "      <td>True</td>\n",
              "    </tr>\n",
              "  </tbody>\n",
              "</table>\n",
              "<p>202994 rows × 12 columns</p>\n",
              "</div>"
            ],
            "text/plain": [
              "        fraude  tempo          valor  saldo_inicial_c1  novo_saldo_c1  \\\n",
              "0            0      1    9839.640000     170136.000000      160296.36   \n",
              "1            0      1    1864.280000      21249.000000       19384.72   \n",
              "2            1      1     181.000000        181.000000           0.00   \n",
              "3            1      1     181.000000        181.000000           0.00   \n",
              "4            0      1   11668.140000      41554.000000       29885.86   \n",
              "...        ...    ...            ...               ...            ...   \n",
              "202989       1      5   17608.962863      17608.962863           0.00   \n",
              "202990       1      7   12116.291013      12116.291013           0.00   \n",
              "202991       1      1  231612.880715     231612.880715           0.00   \n",
              "202992       1      9  547325.144758     547325.144758           0.00   \n",
              "202993       1      4  159298.594420     159298.594420           0.00   \n",
              "\n",
              "        saldo_inicial_c2  novo_saldo_c2  tipo_CASH_IN  tipo_CASH_OUT  \\\n",
              "0               0.000000       0.000000         False          False   \n",
              "1               0.000000       0.000000         False          False   \n",
              "2               0.000000       0.000000         False          False   \n",
              "3           21182.000000       0.000000         False           True   \n",
              "4               0.000000       0.000000         False          False   \n",
              "...                  ...            ...           ...            ...   \n",
              "202989          0.000000       0.000000         False          False   \n",
              "202990          0.000000       0.000000         False          False   \n",
              "202991       1945.589357    9370.603471         False           True   \n",
              "202992          0.000000       0.000000         False          False   \n",
              "202993          0.000000       0.000000         False          False   \n",
              "\n",
              "        tipo_DEBIT  tipo_PAYMENT  tipo_TRANSFER  \n",
              "0            False          True          False  \n",
              "1            False          True          False  \n",
              "2            False         False           True  \n",
              "3            False         False          False  \n",
              "4            False          True          False  \n",
              "...            ...           ...            ...  \n",
              "202989       False         False           True  \n",
              "202990       False         False           True  \n",
              "202991       False         False           True  \n",
              "202992       False         False           True  \n",
              "202993       False         False           True  \n",
              "\n",
              "[202994 rows x 12 columns]"
            ]
          },
          "execution_count": 27,
          "metadata": {},
          "output_type": "execute_result"
        }
      ],
      "source": [
        "df_balanced = pd.concat([y_resampled, x_resampled], axis=1)\n",
        "df_balanced"
      ]
    },
    {
      "cell_type": "code",
      "execution_count": 28,
      "metadata": {
        "colab": {
          "base_uri": "https://localhost:8080/"
        },
        "id": "jf6JxwRNOqPE",
        "outputId": "25e462a2-eb45-4ff9-aa26-13d96985772a"
      },
      "outputs": [
        {
          "data": {
            "text/plain": [
              "fraude\n",
              "0    101497\n",
              "1    101497\n",
              "Name: tempo, dtype: int64"
            ]
          },
          "execution_count": 28,
          "metadata": {},
          "output_type": "execute_result"
        }
      ],
      "source": [
        "df_balanced.groupby('fraude').tempo.count()"
      ]
    },
    {
      "cell_type": "code",
      "execution_count": 29,
      "metadata": {
        "id": "5Oj8fCOvPCBE"
      },
      "outputs": [],
      "source": [
        "x = df_balanced.iloc[:, 1:].values\n",
        "y = df_balanced.iloc[:, 0].values"
      ]
    },
    {
      "cell_type": "code",
      "execution_count": 30,
      "metadata": {
        "id": "GgIWNAclPNl0"
      },
      "outputs": [],
      "source": [
        "from sklearn.model_selection import train_test_split\n",
        "\n",
        "SEED = 42\n",
        "\n",
        "x_train, x_test, y_train, y_test = train_test_split(x, y, test_size=0.25, random_state = SEED)"
      ]
    },
    {
      "cell_type": "code",
      "execution_count": 31,
      "metadata": {
        "colab": {
          "base_uri": "https://localhost:8080/"
        },
        "id": "kBh0URWjPRAs",
        "outputId": "950426f5-da0d-40e8-95cf-26564b23758f"
      },
      "outputs": [
        {
          "name": "stdout",
          "output_type": "stream",
          "text": [
            "Acurácia: 0.965437742615618\n",
            "Precisão: 0.96745679403837\n",
            "Recall: 0.9631807419100237\n",
            "F1: 0.9653140325897801\n"
          ]
        }
      ],
      "source": [
        "from sklearn.linear_model import LogisticRegression\n",
        "from sklearn import metrics\n",
        "\n",
        "lr = LogisticRegression(max_iter=1000, random_state=SEED)\n",
        "\n",
        "lr.fit(x_train, y_train)\n",
        "y_pred =lr.predict(x_test)\n",
        "\n",
        "print(\"Acurácia:\",metrics.accuracy_score(y_test, y_pred))\n",
        "print(\"Precisão:\",metrics.precision_score(y_test, y_pred))\n",
        "print(\"Recall:\",metrics.recall_score(y_test, y_pred)) \n",
        "print(\"F1:\",metrics.f1_score(y_test, y_pred))"
      ]
    },
    {
      "cell_type": "code",
      "execution_count": 32,
      "metadata": {
        "colab": {
          "base_uri": "https://localhost:8080/",
          "height": 515
        },
        "id": "oLATDpPhPcgY",
        "outputId": "780dab9e-dce4-4190-f65f-a8710bc6cb2d"
      },
      "outputs": [
        {
          "data": {
            "text/plain": [
              "<sklearn.metrics._plot.confusion_matrix.ConfusionMatrixDisplay at 0x21b1eecbe90>"
            ]
          },
          "execution_count": 32,
          "metadata": {},
          "output_type": "execute_result"
        },
        {
          "data": {
            "image/png": "[encoded data removed]",
            "text/plain": [
              "<Figure size 1200x800 with 2 Axes>"
            ]
          },
          "metadata": {},
          "output_type": "display_data"
        }
      ],
      "source": [
        "cm = confusion_matrix(y_test, y_pred)\n",
        "disp = ConfusionMatrixDisplay(confusion_matrix=cm)\n",
        "disp.plot()"
      ]
    },
    {
      "cell_type": "code",
      "execution_count": 33,
      "metadata": {
        "colab": {
          "base_uri": "https://localhost:8080/",
          "height": 501
        },
        "id": "czSsA4unPkMl",
        "outputId": "7be5a0f7-4337-4274-9151-8322f6705c71"
      },
      "outputs": [
        {
          "data": {
            "text/plain": [
              "<matplotlib.legend.Legend at 0x21b002d2fd0>"
            ]
          },
          "execution_count": 33,
          "metadata": {},
          "output_type": "execute_result"
        },
        {
          "data": {
            "image/png": "[encoded data removed]",
            "text/plain": [
              "<Figure size 1200x800 with 1 Axes>"
            ]
          },
          "metadata": {},
          "output_type": "display_data"
        }
      ],
      "source": [
        "y_pred_proba = lr.predict_proba(x_test)[::, 1]\n",
        "fpr, tpr, _= metrics.roc_curve(y_test, y_pred_proba)\n",
        "auc = metrics.roc_auc_score(y_test, y_pred_proba)\n",
        "\n",
        "plt.rcParams['figure.figsize'] = (12., 8.)\n",
        "plt.plot(fpr,tpr,label=\"LR, auc=\"+str(auc))\n",
        "plt.plot([0, 1], [0, 1], color='red', lw=2, linestyle='--')\n",
        "plt.legend(loc=4)"
      ]
    },
    {
      "cell_type": "code",
      "execution_count": 34,
      "metadata": {
        "colab": {
          "base_uri": "https://localhost:8080/",
          "height": 917,
          "referenced_widgets": [
            "44ee86a1e891403a9fab3aba3a953f8c",
            "a88663d516ce4410bc5cb106b85a9bac",
            "bd2be41af66e4c3587c2faf2fda433cc",
            "368797f441f347888f4e86585f00d40c",
            "ef121e193193408e8fc81cf4dad1deb6",
            "4c50619ce2f04b39a37b20f039657f53",
            "aea62fd924de4abdbb2685655c0df6bf",
            "3d5e7cdbba694af2bba7dca2a6b4fddf",
            "d676185a521d4aa8bd21724e96853967",
            "0f50718fb71c4f1ab7ab55f73dd22ef8",
            "111a1e5d112c44f99d7eb63180c23897",
            "f50240a6aa0e4440a3ae170161e5e34e",
            "b316687321e24af6ac92a7672be18529",
            "0f9eb19f158448e3b8bbe775d5a04fde",
            "30996e4d49fa4ce7ad4a2ad5f931a7e9",
            "db7e5965da9343db85f44940628b0445",
            "8651a739e33243c8893239dd8707378d",
            "0ca3048fc53c478b8b8a3a25ba25fb3a",
            "7fbb81a1ef9746259aad22bb2e1a60e5",
            "30912d02e0914a269793f34f933999be",
            "c0888c4cbd464e5ab8e4ac8c678701ef",
            "39527d194de2499790af9315bb8f213a",
            "d8da7ba71dfb442bb79c6ea40afe39f3",
            "7bad9fbe392a4326b3eb4ee4050e4b2d",
            "8ee2643358d7452b9b03bbc08d221c22",
            "b2a768832bf94a0ab778d403a3b7d5da",
            "9c8c764059cb42a2a6d8d9679a8cd059",
            "11e59a71bc8647569c2c928dc4fa8d48",
            "3cc941bc581d4fb3b9fe0b0d123104d3",
            "a324a8fdcc394f2d99214c31e9ccea1a",
            "de10167943044417900c455d1b2abda8",
            "6c43d407a3a5420ca74936aeaeddb798",
            "053988fef1514cccb21b88bd6b240d9f"
          ]
        },
        "id": "IbcNWU4vhqGY",
        "outputId": "533e6282-bbb9-4d3a-ad47-c105a1ea1a53"
      },
      "outputs": [],
      "source": [
        "# pandas_profiling.ProfileReport(df_balanced)"
      ]
    },
    {
      "cell_type": "markdown",
      "metadata": {
        "id": "BQ4s-wouuM8V"
      },
      "source": [
        "![árvore.drawio.png](data:image/png;base64,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)"
      ]
    },
    {
      "cell_type": "code",
      "execution_count": 35,
      "metadata": {
        "id": "bgRmKIfahy2q"
      },
      "outputs": [],
      "source": [
        "from sklearn.tree import DecisionTreeClassifier"
      ]
    },
    {
      "cell_type": "code",
      "execution_count": 36,
      "metadata": {
        "id": "s8eFRa970Ilj"
      },
      "outputs": [],
      "source": [
        "dt =  DecisionTreeClassifier(max_depth = 5, random_state=SEED)"
      ]
    },
    {
      "cell_type": "code",
      "execution_count": 37,
      "metadata": {
        "colab": {
          "base_uri": "https://localhost:8080/"
        },
        "id": "I8w8Y7CE0frE",
        "outputId": "95f7f5b2-b21f-4dcc-84b2-cb78c55523fe"
      },
      "outputs": [
        {
          "name": "stdout",
          "output_type": "stream",
          "text": [
            "Acurácia: 0.9595065912628821\n",
            "Precisão: 0.9379678742053192\n",
            "Recall: 0.9839779005524862\n",
            "F1: 0.9604221635883905\n"
          ]
        }
      ],
      "source": [
        "model = dt.fit(x_train, y_train)\n",
        "y_pred = dt.predict(x_test)\n",
        "\n",
        "print(\"Acurácia:\",metrics.accuracy_score(y_test, y_pred))\n",
        "print(\"Precisão:\",metrics.precision_score(y_test, y_pred))\n",
        "print(\"Recall:\",metrics.recall_score(y_test, y_pred)) \n",
        "print(\"F1:\",metrics.f1_score(y_test, y_pred))"
      ]
    },
    {
      "cell_type": "code",
      "execution_count": 38,
      "metadata": {
        "colab": {
          "base_uri": "https://localhost:8080/",
          "height": 517
        },
        "id": "W7i5be2u0vT-",
        "outputId": "1301cd03-3e15-450d-a67b-53521b27e496"
      },
      "outputs": [
        {
          "data": {
            "text/plain": [
              "<sklearn.metrics._plot.confusion_matrix.ConfusionMatrixDisplay at 0x21b1ea72090>"
            ]
          },
          "execution_count": 38,
          "metadata": {},
          "output_type": "execute_result"
        },
        {
          "data": {
            "image/png": "[encoded data removed]",
            "text/plain": [
              "<Figure size 1200x800 with 2 Axes>"
            ]
          },
          "metadata": {},
          "output_type": "display_data"
        }
      ],
      "source": [
        "cm = confusion_matrix(y_test, y_pred)\n",
        "disp = ConfusionMatrixDisplay(confusion_matrix=cm)\n",
        "disp.plot()"
      ]
    },
    {
      "cell_type": "code",
      "execution_count": 39,
      "metadata": {
        "colab": {
          "base_uri": "https://localhost:8080/",
          "height": 501
        },
        "id": "rKv7I2BR1AA7",
        "outputId": "0bb6439e-dc66-48ee-cced-d0e3ba46ce2b"
      },
      "outputs": [
        {
          "data": {
            "text/plain": [
              "<matplotlib.legend.Legend at 0x21b00c61450>"
            ]
          },
          "execution_count": 39,
          "metadata": {},
          "output_type": "execute_result"
        },
        {
          "data": {
            "image/png": "[encoded data removed]",
            "text/plain": [
              "<Figure size 1200x800 with 1 Axes>"
            ]
          },
          "metadata": {},
          "output_type": "display_data"
        }
      ],
      "source": [
        "y_pred_proba = dt.predict_proba(x_test)[::,1]\n",
        "fpr, tpr, _ = metrics.roc_curve(y_test,  y_pred_proba)\n",
        "auc = metrics.roc_auc_score(y_test, y_pred_proba)\n",
        "\n",
        "plt.rcParams['figure.figsize'] = (12., 8.)\n",
        "plt.plot(fpr,tpr,label=\"data 1, auc=\"+str(auc))\n",
        "plt.plot([0, 1], [0, 1], color='red', lw=2, linestyle='--')\n",
        "plt.legend(loc=4)"
      ]
    },
    {
      "cell_type": "markdown",
      "metadata": {
        "id": "4ItI9fzluYQ0"
      },
      "source": [
        "![Random Forest.drawio.png](data:image/png;base64,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)"
      ]
    },
    {
      "cell_type": "code",
      "execution_count": 40,
      "metadata": {
        "id": "tiZa5pIhh2Vs"
      },
      "outputs": [],
      "source": [
        "from sklearn.ensemble import RandomForestClassifier"
      ]
    },
    {
      "cell_type": "code",
      "execution_count": 41,
      "metadata": {
        "id": "Slvl4nLA3VQs"
      },
      "outputs": [],
      "source": [
        "rf = RandomForestClassifier(max_depth= 5, random_state = SEED)"
      ]
    },
    {
      "cell_type": "code",
      "execution_count": 42,
      "metadata": {
        "colab": {
          "base_uri": "https://localhost:8080/"
        },
        "id": "qKo6qWL23uKr",
        "outputId": "343a078b-b9be-49bc-e360-c80a40c0e182"
      },
      "outputs": [
        {
          "name": "stdout",
          "output_type": "stream",
          "text": [
            "Acurácia: 0.9722950205915387\n",
            "Precisão: 0.9787182974637971\n",
            "Recall: 0.9655090765588004\n",
            "F1: 0.9720688148118718\n"
          ]
        }
      ],
      "source": [
        "model = rf.fit(x_train, y_train)\n",
        "y_pred = rf.predict(x_test)\n",
        "\n",
        "print(\"Acurácia:\",metrics.accuracy_score(y_test, y_pred))\n",
        "print(\"Precisão:\",metrics.precision_score(y_test, y_pred))\n",
        "print(\"Recall:\",metrics.recall_score(y_test, y_pred))\n",
        "print(\"F1:\",metrics.f1_score(y_test, y_pred))"
      ]
    },
    {
      "cell_type": "code",
      "execution_count": 43,
      "metadata": {
        "colab": {
          "base_uri": "https://localhost:8080/",
          "height": 515
        },
        "id": "ExDM7B9m4Bo8",
        "outputId": "717f0d6a-6698-48b9-afd9-e2bf6d953601"
      },
      "outputs": [
        {
          "data": {
            "text/plain": [
              "<sklearn.metrics._plot.confusion_matrix.ConfusionMatrixDisplay at 0x21b0353aad0>"
            ]
          },
          "execution_count": 43,
          "metadata": {},
          "output_type": "execute_result"
        },
        {
          "data": {
            "image/png": "[encoded data removed]",
            "text/plain": [
              "<Figure size 1200x800 with 2 Axes>"
            ]
          },
          "metadata": {},
          "output_type": "display_data"
        }
      ],
      "source": [
        "cm = confusion_matrix(y_test, y_pred)\n",
        "disp = ConfusionMatrixDisplay(confusion_matrix=cm)\n",
        "disp.plot()"
      ]
    },
    {
      "cell_type": "code",
      "execution_count": 44,
      "metadata": {
        "colab": {
          "base_uri": "https://localhost:8080/",
          "height": 501
        },
        "id": "ztoo7jLp4OY0",
        "outputId": "51522b68-c479-4e77-f53c-a3883d9590ac"
      },
      "outputs": [
        {
          "data": {
            "text/plain": [
              "<matplotlib.legend.Legend at 0x21b031a0110>"
            ]
          },
          "execution_count": 44,
          "metadata": {},
          "output_type": "execute_result"
        },
        {
          "data": {
            "image/png": "[encoded data removed]",
            "text/plain": [
              "<Figure size 1200x800 with 1 Axes>"
            ]
          },
          "metadata": {},
          "output_type": "display_data"
        }
      ],
      "source": [
        "y_pred_proba =  rf.predict_proba(x_test)[::,1]\n",
        "fpr, tpr, _ = metrics.roc_curve(y_test,  y_pred_proba)\n",
        "auc = metrics.roc_auc_score(y_test, y_pred_proba)\n",
        "\n",
        "plt.rcParams['figure.figsize'] = (12., 8.)\n",
        "plt.plot(fpr,tpr,label=\"data 1, auc=\"+str(auc))\n",
        "plt.plot([0, 1], [0, 1], color='red', lw=2, linestyle='--')\n",
        "plt.legend(loc=4)"
      ]
    },
    {
      "cell_type": "code",
      "execution_count": 45,
      "metadata": {
        "id": "Xh1hKl8H9Jk7"
      },
      "outputs": [],
      "source": [
        "classifiers = [\n",
        "    LogisticRegression(max_iter=1000, random_state=SEED),\n",
        "    DecisionTreeClassifier(max_depth = 5, random_state=SEED),\n",
        "    RandomForestClassifier(max_depth= 5, random_state = SEED)]"
      ]
    },
    {
      "cell_type": "code",
      "execution_count": 46,
      "metadata": {
        "colab": {
          "base_uri": "https://localhost:8080/",
          "height": 1000
        },
        "id": "iGaIFEGr9Y9D",
        "outputId": "50e72b4e-aa26-42f0-eaeb-898378e8bdb8"
      },
      "outputs": [
        {
          "name": "stdout",
          "output_type": "stream",
          "text": [
            "==============================\n",
            "LogisticRegression\n",
            "****Resultados****\n",
            "Accuracy: 0.965437742615618\n",
            "Precision: 0.96745679403837\n",
            "Recall: 0.9631807419100237\n",
            "F1: 0.9653140325897801\n",
            "==============================\n",
            "DecisionTreeClassifier\n",
            "****Resultados****\n",
            "Accuracy: 0.9595065912628821\n",
            "Precision: 0.9379678742053192\n",
            "Recall: 0.9839779005524862\n",
            "F1: 0.9604221635883905\n",
            "==============================\n",
            "RandomForestClassifier\n",
            "****Resultados****\n",
            "Accuracy: 0.9722950205915387\n",
            "Precision: 0.9787182974637971\n",
            "Recall: 0.9655090765588004\n",
            "F1: 0.9720688148118718\n"
          ]
        },
        {
          "data": {
            "image/png": "[encoded data removed]",
            "text/plain": [
              "<Figure size 1200x800 with 2 Axes>"
            ]
          },
          "metadata": {},
          "output_type": "display_data"
        },
        {
          "data": {
            "image/png": "[encoded data removed]",
            "text/plain": [
              "<Figure size 1200x800 with 2 Axes>"
            ]
          },
          "metadata": {},
          "output_type": "display_data"
        },
        {
          "data": {
            "image/png": "[encoded data removed]",
            "text/plain": [
              "<Figure size 1200x800 with 2 Axes>"
            ]
          },
          "metadata": {},
          "output_type": "display_data"
        }
      ],
      "source": [
        "for clf in classifiers:\n",
        "  clf.fit(x_train, y_train)\n",
        "  name = clf.__class__.__name__\n",
        "  print(\"=\"*30)\n",
        "  print(name)\n",
        "  print('****Resultados****')\n",
        "  y_pred = clf.predict(x_test)\n",
        "  print(\"Accuracy:\", metrics.accuracy_score(y_test, y_pred))\n",
        "  print(\"Precision:\", metrics.precision_score(y_test, y_pred))\n",
        "  print(\"Recall:\", metrics.recall_score(y_test, y_pred))\n",
        "  print(\"F1:\", metrics.f1_score(y_test, y_pred))\n",
        "\n",
        "  cm = confusion_matrix(y_test, y_pred)\n",
        "  disp = ConfusionMatrixDisplay(confusion_matrix=cm)\n",
        "  disp.plot()\n"
      ]
    },
    {
      "cell_type": "code",
      "execution_count": 47,
      "metadata": {
        "id": "FWHfVIvxh-SC"
      },
      "outputs": [],
      "source": [
        "n_estimators = np.arange(20, 200, step=20)\n",
        "criterion = [\"gini\", \"entropy\"]\n",
        "max_features = [\"auto\", \"sqrt\", \"log2\"]\n",
        "max_depth = list(np.arange(2, 10, step=1))\n",
        "min_samples_split = np.arange(2, 10, step=2)\n",
        "min_samples_leaf = [1, 2, 4]\n",
        "bootstrap = [True, False]"
      ]
    },
    {
      "cell_type": "code",
      "execution_count": 48,
      "metadata": {
        "id": "JaeuPLW6Mnmd"
      },
      "outputs": [],
      "source": [
        "param_grid = {\n",
        "    \"n_estimators\": n_estimators,\n",
        "    \"criterion\": criterion,\n",
        "    \"max_features\": max_features,\n",
        "    \"max_depth\": max_depth,\n",
        "    \"min_samples_split\": min_samples_split,\n",
        "    \"min_samples_leaf\": min_samples_leaf,\n",
        "    \"bootstrap\": bootstrap,\n",
        "}\n"
      ]
    },
    {
      "cell_type": "code",
      "execution_count": 49,
      "metadata": {},
      "outputs": [],
      "source": [
        "# !pip uninstall scikit-learn\n",
        "# !pip install --upgrade pip\n",
        "# !pip install --upgrade numpy scipy joblib threadpoolctl\n"
      ]
    },
    {
      "cell_type": "code",
      "execution_count": 50,
      "metadata": {
        "id": "DwzbzTPNMv4L"
      },
      "outputs": [],
      "source": [
        "from sklearn.model_selection import RandomizedSearchCV\n",
        "\n",
        "SEED = 70\n",
        "\n",
        "rforest = RandomForestClassifier(random_state=SEED)"
      ]
    },
    {
      "cell_type": "code",
      "execution_count": 51,
      "metadata": {
        "id": "nx0__pDUNJFt"
      },
      "outputs": [],
      "source": [
        "random_cv = RandomizedSearchCV(\n",
        "    rforest, param_grid, n_iter=5, cv=3, scoring=\"recall\", n_jobs=-1, random_state = SEED\n",
        ")\n"
      ]
    },
    {
      "cell_type": "code",
      "execution_count": 52,
      "metadata": {
        "colab": {
          "base_uri": "https://localhost:8080/"
        },
        "id": "B1-CvPZxN7Cc",
        "outputId": "e7f340c8-0756-4f40-927b-d7cb9bf4f757"
      },
      "outputs": [
        {
          "name": "stderr",
          "output_type": "stream",
          "text": [
            "C:\\Users\\pytho\\AppData\\Local\\Packages\\PythonSoftwareFoundation.Python.3.11_qbz5n2kfra8p0\\LocalCache\\local-packages\\Python311\\site-packages\\sklearn\\model_selection\\_validation.py:547: FitFailedWarning: \n",
            "6 fits failed out of a total of 15.\n",
            "The score on these train-test partitions for these parameters will be set to nan.\n",
            "If these failures are not expected, you can try to debug them by setting error_score='raise'.\n",
            "\n",
            "Below are more details about the failures:\n",
            "--------------------------------------------------------------------------------\n",
            "1 fits failed with the following error:\n",
            "Traceback (most recent call last):\n",
            "  File \"C:\\Users\\pytho\\AppData\\Local\\Packages\\PythonSoftwareFoundation.Python.3.11_qbz5n2kfra8p0\\LocalCache\\local-packages\\Python311\\site-packages\\sklearn\\model_selection\\_validation.py\", line 895, in _fit_and_score\n",
            "    estimator.fit(X_train, y_train, **fit_params)\n",
            "  File \"C:\\Users\\pytho\\AppData\\Local\\Packages\\PythonSoftwareFoundation.Python.3.11_qbz5n2kfra8p0\\LocalCache\\local-packages\\Python311\\site-packages\\sklearn\\base.py\", line 1467, in wrapper\n",
            "    estimator._validate_params()\n",
            "  File \"C:\\Users\\pytho\\AppData\\Local\\Packages\\PythonSoftwareFoundation.Python.3.11_qbz5n2kfra8p0\\LocalCache\\local-packages\\Python311\\site-packages\\sklearn\\base.py\", line 666, in _validate_params\n",
            "    validate_parameter_constraints(\n",
            "  File \"C:\\Users\\pytho\\AppData\\Local\\Packages\\PythonSoftwareFoundation.Python.3.11_qbz5n2kfra8p0\\LocalCache\\local-packages\\Python311\\site-packages\\sklearn\\utils\\_param_validation.py\", line 95, in validate_parameter_constraints\n",
            "    raise InvalidParameterError(\n",
            "sklearn.utils._param_validation.InvalidParameterError: The 'max_features' parameter of RandomForestClassifier must be an int in the range [1, inf), a float in the range (0.0, 1.0], a str among {'log2', 'sqrt'} or None. Got 'auto' instead.\n",
            "\n",
            "--------------------------------------------------------------------------------\n",
            "5 fits failed with the following error:\n",
            "Traceback (most recent call last):\n",
            "  File \"C:\\Users\\pytho\\AppData\\Local\\Packages\\PythonSoftwareFoundation.Python.3.11_qbz5n2kfra8p0\\LocalCache\\local-packages\\Python311\\site-packages\\sklearn\\model_selection\\_validation.py\", line 895, in _fit_and_score\n",
            "    estimator.fit(X_train, y_train, **fit_params)\n",
            "  File \"C:\\Users\\pytho\\AppData\\Local\\Packages\\PythonSoftwareFoundation.Python.3.11_qbz5n2kfra8p0\\LocalCache\\local-packages\\Python311\\site-packages\\sklearn\\base.py\", line 1467, in wrapper\n",
            "    estimator._validate_params()\n",
            "  File \"C:\\Users\\pytho\\AppData\\Local\\Packages\\PythonSoftwareFoundation.Python.3.11_qbz5n2kfra8p0\\LocalCache\\local-packages\\Python311\\site-packages\\sklearn\\base.py\", line 666, in _validate_params\n",
            "    validate_parameter_constraints(\n",
            "  File \"C:\\Users\\pytho\\AppData\\Local\\Packages\\PythonSoftwareFoundation.Python.3.11_qbz5n2kfra8p0\\LocalCache\\local-packages\\Python311\\site-packages\\sklearn\\utils\\_param_validation.py\", line 95, in validate_parameter_constraints\n",
            "    raise InvalidParameterError(\n",
            "sklearn.utils._param_validation.InvalidParameterError: The 'max_features' parameter of RandomForestClassifier must be an int in the range [1, inf), a float in the range (0.0, 1.0], a str among {'sqrt', 'log2'} or None. Got 'auto' instead.\n",
            "\n",
            "  warnings.warn(some_fits_failed_message, FitFailedWarning)\n",
            "C:\\Users\\pytho\\AppData\\Local\\Packages\\PythonSoftwareFoundation.Python.3.11_qbz5n2kfra8p0\\LocalCache\\local-packages\\Python311\\site-packages\\sklearn\\model_selection\\_search.py:1051: UserWarning: One or more of the test scores are non-finite: [       nan        nan 0.98448215 0.99343817 0.92410608]\n",
            "  warnings.warn(\n"
          ]
        },
        {
          "name": "stdout",
          "output_type": "stream",
          "text": [
            "CPU times: total: 16.8 s\n",
            "Wall time: 59 s\n"
          ]
        }
      ],
      "source": [
        "%%time\n",
        "rcv = random_cv.fit(x, y)"
      ]
    },
    {
      "cell_type": "code",
      "execution_count": 53,
      "metadata": {
        "colab": {
          "base_uri": "https://localhost:8080/",
          "height": 513
        },
        "id": "FxPcrNXtO2g9",
        "outputId": "ea33e073-bfdb-43be-8dc4-094ba9693d77"
      },
      "outputs": [
        {
          "data": {
            "text/html": [
              "<div>\n",
              "<style scoped>\n",
              "    .dataframe tbody tr th:only-of-type {\n",
              "        vertical-align: middle;\n",
              "    }\n",
              "\n",
              "    .dataframe tbody tr th {\n",
              "        vertical-align: top;\n",
              "    }\n",
              "\n",
              "    .dataframe thead th {\n",
              "        text-align: right;\n",
              "    }\n",
              "</style>\n",
              "<table border=\"1\" class=\"dataframe\">\n",
              "  <thead>\n",
              "    <tr style=\"text-align: right;\">\n",
              "      <th></th>\n",
              "      <th>mean_fit_time</th>\n",
              "      <th>std_fit_time</th>\n",
              "      <th>mean_score_time</th>\n",
              "      <th>std_score_time</th>\n",
              "      <th>param_n_estimators</th>\n",
              "      <th>param_min_samples_split</th>\n",
              "      <th>param_min_samples_leaf</th>\n",
              "      <th>param_max_features</th>\n",
              "      <th>param_max_depth</th>\n",
              "      <th>param_criterion</th>\n",
              "      <th>param_bootstrap</th>\n",
              "      <th>params</th>\n",
              "      <th>split0_test_score</th>\n",
              "      <th>split1_test_score</th>\n",
              "      <th>split2_test_score</th>\n",
              "      <th>mean_test_score</th>\n",
              "      <th>std_test_score</th>\n",
              "      <th>rank_test_score</th>\n",
              "    </tr>\n",
              "  </thead>\n",
              "  <tbody>\n",
              "    <tr>\n",
              "      <th>0</th>\n",
              "      <td>0.059165</td>\n",
              "      <td>0.007683</td>\n",
              "      <td>0.000000</td>\n",
              "      <td>0.000000</td>\n",
              "      <td>120</td>\n",
              "      <td>4</td>\n",
              "      <td>2</td>\n",
              "      <td>auto</td>\n",
              "      <td>9</td>\n",
              "      <td>gini</td>\n",
              "      <td>False</td>\n",
              "      <td>{'n_estimators': 120, 'min_samples_split': 4, ...</td>\n",
              "      <td>NaN</td>\n",
              "      <td>NaN</td>\n",
              "      <td>NaN</td>\n",
              "      <td>NaN</td>\n",
              "      <td>NaN</td>\n",
              "      <td>4</td>\n",
              "    </tr>\n",
              "    <tr>\n",
              "      <th>1</th>\n",
              "      <td>0.043590</td>\n",
              "      <td>0.005373</td>\n",
              "      <td>0.000000</td>\n",
              "      <td>0.000000</td>\n",
              "      <td>120</td>\n",
              "      <td>4</td>\n",
              "      <td>2</td>\n",
              "      <td>auto</td>\n",
              "      <td>2</td>\n",
              "      <td>gini</td>\n",
              "      <td>False</td>\n",
              "      <td>{'n_estimators': 120, 'min_samples_split': 4, ...</td>\n",
              "      <td>NaN</td>\n",
              "      <td>NaN</td>\n",
              "      <td>NaN</td>\n",
              "      <td>NaN</td>\n",
              "      <td>NaN</td>\n",
              "      <td>4</td>\n",
              "    </tr>\n",
              "    <tr>\n",
              "      <th>2</th>\n",
              "      <td>17.125160</td>\n",
              "      <td>0.852118</td>\n",
              "      <td>0.225053</td>\n",
              "      <td>0.015152</td>\n",
              "      <td>40</td>\n",
              "      <td>8</td>\n",
              "      <td>1</td>\n",
              "      <td>sqrt</td>\n",
              "      <td>7</td>\n",
              "      <td>entropy</td>\n",
              "      <td>False</td>\n",
              "      <td>{'n_estimators': 40, 'min_samples_split': 8, '...</td>\n",
              "      <td>0.981379</td>\n",
              "      <td>0.999823</td>\n",
              "      <td>0.972245</td>\n",
              "      <td>0.984482</td>\n",
              "      <td>0.011470</td>\n",
              "      <td>2</td>\n",
              "    </tr>\n",
              "    <tr>\n",
              "      <th>3</th>\n",
              "      <td>28.016996</td>\n",
              "      <td>0.917072</td>\n",
              "      <td>0.389012</td>\n",
              "      <td>0.043989</td>\n",
              "      <td>100</td>\n",
              "      <td>8</td>\n",
              "      <td>4</td>\n",
              "      <td>log2</td>\n",
              "      <td>9</td>\n",
              "      <td>entropy</td>\n",
              "      <td>True</td>\n",
              "      <td>{'n_estimators': 100, 'min_samples_split': 8, ...</td>\n",
              "      <td>0.992374</td>\n",
              "      <td>0.999438</td>\n",
              "      <td>0.988502</td>\n",
              "      <td>0.993438</td>\n",
              "      <td>0.004528</td>\n",
              "      <td>1</td>\n",
              "    </tr>\n",
              "    <tr>\n",
              "      <th>4</th>\n",
              "      <td>22.914097</td>\n",
              "      <td>0.168807</td>\n",
              "      <td>0.496185</td>\n",
              "      <td>0.033399</td>\n",
              "      <td>160</td>\n",
              "      <td>6</td>\n",
              "      <td>2</td>\n",
              "      <td>log2</td>\n",
              "      <td>2</td>\n",
              "      <td>gini</td>\n",
              "      <td>False</td>\n",
              "      <td>{'n_estimators': 160, 'min_samples_split': 6, ...</td>\n",
              "      <td>0.914223</td>\n",
              "      <td>0.929182</td>\n",
              "      <td>0.928913</td>\n",
              "      <td>0.924106</td>\n",
              "      <td>0.006989</td>\n",
              "      <td>3</td>\n",
              "    </tr>\n",
              "  </tbody>\n",
              "</table>\n",
              "</div>"
            ],
            "text/plain": [
              "   mean_fit_time  std_fit_time  mean_score_time  std_score_time  \\\n",
              "0       0.059165      0.007683         0.000000        0.000000   \n",
              "1       0.043590      0.005373         0.000000        0.000000   \n",
              "2      17.125160      0.852118         0.225053        0.015152   \n",
              "3      28.016996      0.917072         0.389012        0.043989   \n",
              "4      22.914097      0.168807         0.496185        0.033399   \n",
              "\n",
              "  param_n_estimators param_min_samples_split param_min_samples_leaf  \\\n",
              "0                120                       4                      2   \n",
              "1                120                       4                      2   \n",
              "2                 40                       8                      1   \n",
              "3                100                       8                      4   \n",
              "4                160                       6                      2   \n",
              "\n",
              "  param_max_features param_max_depth param_criterion param_bootstrap  \\\n",
              "0               auto               9            gini           False   \n",
              "1               auto               2            gini           False   \n",
              "2               sqrt               7         entropy           False   \n",
              "3               log2               9         entropy            True   \n",
              "4               log2               2            gini           False   \n",
              "\n",
              "                                              params  split0_test_score  \\\n",
              "0  {'n_estimators': 120, 'min_samples_split': 4, ...                NaN   \n",
              "1  {'n_estimators': 120, 'min_samples_split': 4, ...                NaN   \n",
              "2  {'n_estimators': 40, 'min_samples_split': 8, '...           0.981379   \n",
              "3  {'n_estimators': 100, 'min_samples_split': 8, ...           0.992374   \n",
              "4  {'n_estimators': 160, 'min_samples_split': 6, ...           0.914223   \n",
              "\n",
              "   split1_test_score  split2_test_score  mean_test_score  std_test_score  \\\n",
              "0                NaN                NaN              NaN             NaN   \n",
              "1                NaN                NaN              NaN             NaN   \n",
              "2           0.999823           0.972245         0.984482        0.011470   \n",
              "3           0.999438           0.988502         0.993438        0.004528   \n",
              "4           0.929182           0.928913         0.924106        0.006989   \n",
              "\n",
              "   rank_test_score  \n",
              "0                4  \n",
              "1                4  \n",
              "2                2  \n",
              "3                1  \n",
              "4                3  "
            ]
          },
          "execution_count": 53,
          "metadata": {},
          "output_type": "execute_result"
        }
      ],
      "source": [
        "pd.DataFrame(rcv.cv_results_)"
      ]
    },
    {
      "cell_type": "code",
      "execution_count": 54,
      "metadata": {
        "colab": {
          "base_uri": "https://localhost:8080/"
        },
        "id": "GiVSOzLTPJpm",
        "outputId": "43e1e65e-099e-4d4c-c2fd-d9b7acff9cea"
      },
      "outputs": [
        {
          "data": {
            "text/plain": [
              "{'n_estimators': 100,\n",
              " 'min_samples_split': 8,\n",
              " 'min_samples_leaf': 4,\n",
              " 'max_features': 'log2',\n",
              " 'max_depth': 9,\n",
              " 'criterion': 'entropy',\n",
              " 'bootstrap': True}"
            ]
          },
          "execution_count": 54,
          "metadata": {},
          "output_type": "execute_result"
        }
      ],
      "source": [
        "rcv.best_params_"
      ]
    },
    {
      "cell_type": "code",
      "execution_count": 55,
      "metadata": {
        "id": "4yJaNnRsiFI5"
      },
      "outputs": [],
      "source": [
        "rfn = RandomForestClassifier(**rcv.best_params_, random_state = SEED)\n",
        "\n",
        "model = rfn.fit(x_train, y_train)\n",
        "y_pred = rfn.predict(x_test)"
      ]
    },
    {
      "cell_type": "code",
      "execution_count": 56,
      "metadata": {
        "colab": {
          "base_uri": "https://localhost:8080/"
        },
        "id": "bwpFiarfROTm",
        "outputId": "4aaf1716-624a-4a6e-a4d8-bfebb15837b7"
      },
      "outputs": [
        {
          "name": "stdout",
          "output_type": "stream",
          "text": [
            "Acurácia: 0.9910540109164713\n",
            "Precisão: 0.9911193558572782\n",
            "Recall: 0.9909629044988161\n",
            "F1: 0.991041124003473\n"
          ]
        }
      ],
      "source": [
        "print(\"Acurácia:\",metrics.accuracy_score(y_test, y_pred))\n",
        "print(\"Precisão:\",metrics.precision_score(y_test, y_pred))\n",
        "print(\"Recall:\",metrics.recall_score(y_test, y_pred)) \n",
        "print(\"F1:\",metrics.f1_score(y_test, y_pred))"
      ]
    },
    {
      "cell_type": "code",
      "execution_count": 57,
      "metadata": {
        "colab": {
          "base_uri": "https://localhost:8080/",
          "height": 516
        },
        "id": "qzD0nAeFRb9U",
        "outputId": "5e8c8c81-a16a-4d71-b137-df5a760d72d3"
      },
      "outputs": [
        {
          "data": {
            "text/plain": [
              "<sklearn.metrics._plot.confusion_matrix.ConfusionMatrixDisplay at 0x21b0316e3d0>"
            ]
          },
          "execution_count": 57,
          "metadata": {},
          "output_type": "execute_result"
        },
        {
          "data": {
            "image/png": "[encoded data removed]",
            "text/plain": [
              "<Figure size 1200x800 with 2 Axes>"
            ]
          },
          "metadata": {},
          "output_type": "display_data"
        }
      ],
      "source": [
        "cm = confusion_matrix(y_test, y_pred)\n",
        "disp = ConfusionMatrixDisplay(confusion_matrix=cm)\n",
        "disp.plot()"
      ]
    },
    {
      "cell_type": "code",
      "execution_count": 61,
      "metadata": {},
      "outputs": [
        {
          "ename": "KeyError",
          "evalue": "\"None of [Index(['step', 'amount', 'oldbalanceOrg', 'newbalanceOrig', 'oldbalanceDest',\\n       'newbalanceDest', 'type'],\\n      dtype='object')] are in the [columns]\"",
          "output_type": "error",
          "traceback": [
            "\u001b[1;31m---------------------------------------------------------------------------\u001b[0m",
            "\u001b[1;31mKeyError\u001b[0m                                  Traceback (most recent call last)",
            "Cell \u001b[1;32mIn[61], line 10\u001b[0m\n\u001b[0;32m      8\u001b[0m \u001b[38;5;66;03m# Supondo que x_train seja um array NumPy, selecione apenas as colunas relevantes\u001b[39;00m\n\u001b[0;32m      9\u001b[0m x_train_df \u001b[38;5;241m=\u001b[39m pd\u001b[38;5;241m.\u001b[39mDataFrame(x_train, columns\u001b[38;5;241m=\u001b[39m[\u001b[38;5;124m'\u001b[39m\u001b[38;5;124mcol1\u001b[39m\u001b[38;5;124m'\u001b[39m, \u001b[38;5;124m'\u001b[39m\u001b[38;5;124mcol2\u001b[39m\u001b[38;5;124m'\u001b[39m, \u001b[38;5;124m'\u001b[39m\u001b[38;5;124mcol3\u001b[39m\u001b[38;5;124m'\u001b[39m, \u001b[38;5;124m'\u001b[39m\u001b[38;5;124mcol4\u001b[39m\u001b[38;5;124m'\u001b[39m, \u001b[38;5;124m'\u001b[39m\u001b[38;5;124mcol5\u001b[39m\u001b[38;5;124m'\u001b[39m, \u001b[38;5;124m'\u001b[39m\u001b[38;5;124mcol6\u001b[39m\u001b[38;5;124m'\u001b[39m, \u001b[38;5;124m'\u001b[39m\u001b[38;5;124mcol7\u001b[39m\u001b[38;5;124m'\u001b[39m, \u001b[38;5;124m'\u001b[39m\u001b[38;5;124mcol8\u001b[39m\u001b[38;5;124m'\u001b[39m, \u001b[38;5;124m'\u001b[39m\u001b[38;5;124mcol9\u001b[39m\u001b[38;5;124m'\u001b[39m, \u001b[38;5;124m'\u001b[39m\u001b[38;5;124mcol10\u001b[39m\u001b[38;5;124m'\u001b[39m, \u001b[38;5;124m'\u001b[39m\u001b[38;5;124mcol11\u001b[39m\u001b[38;5;124m'\u001b[39m])\n\u001b[1;32m---> 10\u001b[0m x_train_df \u001b[38;5;241m=\u001b[39m \u001b[43mx_train_df\u001b[49m\u001b[43m[\u001b[49m\u001b[43m[\u001b[49m\u001b[38;5;124;43m'\u001b[39;49m\u001b[38;5;124;43mstep\u001b[39;49m\u001b[38;5;124;43m'\u001b[39;49m\u001b[43m,\u001b[49m\u001b[43m \u001b[49m\u001b[38;5;124;43m'\u001b[39;49m\u001b[38;5;124;43mamount\u001b[39;49m\u001b[38;5;124;43m'\u001b[39;49m\u001b[43m,\u001b[49m\u001b[43m \u001b[49m\u001b[38;5;124;43m'\u001b[39;49m\u001b[38;5;124;43moldbalanceOrg\u001b[39;49m\u001b[38;5;124;43m'\u001b[39;49m\u001b[43m,\u001b[49m\u001b[43m \u001b[49m\u001b[38;5;124;43m'\u001b[39;49m\u001b[38;5;124;43mnewbalanceOrig\u001b[39;49m\u001b[38;5;124;43m'\u001b[39;49m\u001b[43m,\u001b[49m\u001b[43m \u001b[49m\u001b[38;5;124;43m'\u001b[39;49m\u001b[38;5;124;43moldbalanceDest\u001b[39;49m\u001b[38;5;124;43m'\u001b[39;49m\u001b[43m,\u001b[49m\u001b[43m \u001b[49m\u001b[38;5;124;43m'\u001b[39;49m\u001b[38;5;124;43mnewbalanceDest\u001b[39;49m\u001b[38;5;124;43m'\u001b[39;49m\u001b[43m,\u001b[49m\u001b[43m \u001b[49m\u001b[38;5;124;43m'\u001b[39;49m\u001b[38;5;124;43mtype\u001b[39;49m\u001b[38;5;124;43m'\u001b[39;49m\u001b[43m]\u001b[49m\u001b[43m]\u001b[49m\n\u001b[0;32m     12\u001b[0m \u001b[38;5;66;03m# Definir colunas numéricas e categóricas\u001b[39;00m\n\u001b[0;32m     13\u001b[0m numeric_features \u001b[38;5;241m=\u001b[39m [\u001b[38;5;124m'\u001b[39m\u001b[38;5;124mstep\u001b[39m\u001b[38;5;124m'\u001b[39m, \u001b[38;5;124m'\u001b[39m\u001b[38;5;124mamount\u001b[39m\u001b[38;5;124m'\u001b[39m, \u001b[38;5;124m'\u001b[39m\u001b[38;5;124moldbalanceOrg\u001b[39m\u001b[38;5;124m'\u001b[39m, \u001b[38;5;124m'\u001b[39m\u001b[38;5;124mnewbalanceOrig\u001b[39m\u001b[38;5;124m'\u001b[39m, \u001b[38;5;124m'\u001b[39m\u001b[38;5;124moldbalanceDest\u001b[39m\u001b[38;5;124m'\u001b[39m, \u001b[38;5;124m'\u001b[39m\u001b[38;5;124mnewbalanceDest\u001b[39m\u001b[38;5;124m'\u001b[39m]\n",
            "File \u001b[1;32m~\\AppData\\Local\\Packages\\PythonSoftwareFoundation.Python.3.11_qbz5n2kfra8p0\\LocalCache\\local-packages\\Python311\\site-packages\\pandas\\core\\frame.py:3899\u001b[0m, in \u001b[0;36mDataFrame.__getitem__\u001b[1;34m(self, key)\u001b[0m\n\u001b[0;32m   3897\u001b[0m     \u001b[38;5;28;01mif\u001b[39;00m is_iterator(key):\n\u001b[0;32m   3898\u001b[0m         key \u001b[38;5;241m=\u001b[39m \u001b[38;5;28mlist\u001b[39m(key)\n\u001b[1;32m-> 3899\u001b[0m     indexer \u001b[38;5;241m=\u001b[39m \u001b[38;5;28;43mself\u001b[39;49m\u001b[38;5;241;43m.\u001b[39;49m\u001b[43mcolumns\u001b[49m\u001b[38;5;241;43m.\u001b[39;49m\u001b[43m_get_indexer_strict\u001b[49m\u001b[43m(\u001b[49m\u001b[43mkey\u001b[49m\u001b[43m,\u001b[49m\u001b[43m \u001b[49m\u001b[38;5;124;43m\"\u001b[39;49m\u001b[38;5;124;43mcolumns\u001b[39;49m\u001b[38;5;124;43m\"\u001b[39;49m\u001b[43m)\u001b[49m[\u001b[38;5;241m1\u001b[39m]\n\u001b[0;32m   3901\u001b[0m \u001b[38;5;66;03m# take() does not accept boolean indexers\u001b[39;00m\n\u001b[0;32m   3902\u001b[0m \u001b[38;5;28;01mif\u001b[39;00m \u001b[38;5;28mgetattr\u001b[39m(indexer, \u001b[38;5;124m\"\u001b[39m\u001b[38;5;124mdtype\u001b[39m\u001b[38;5;124m\"\u001b[39m, \u001b[38;5;28;01mNone\u001b[39;00m) \u001b[38;5;241m==\u001b[39m \u001b[38;5;28mbool\u001b[39m:\n",
            "File \u001b[1;32m~\\AppData\\Local\\Packages\\PythonSoftwareFoundation.Python.3.11_qbz5n2kfra8p0\\LocalCache\\local-packages\\Python311\\site-packages\\pandas\\core\\indexes\\base.py:6115\u001b[0m, in \u001b[0;36mIndex._get_indexer_strict\u001b[1;34m(self, key, axis_name)\u001b[0m\n\u001b[0;32m   6112\u001b[0m \u001b[38;5;28;01melse\u001b[39;00m:\n\u001b[0;32m   6113\u001b[0m     keyarr, indexer, new_indexer \u001b[38;5;241m=\u001b[39m \u001b[38;5;28mself\u001b[39m\u001b[38;5;241m.\u001b[39m_reindex_non_unique(keyarr)\n\u001b[1;32m-> 6115\u001b[0m \u001b[38;5;28;43mself\u001b[39;49m\u001b[38;5;241;43m.\u001b[39;49m\u001b[43m_raise_if_missing\u001b[49m\u001b[43m(\u001b[49m\u001b[43mkeyarr\u001b[49m\u001b[43m,\u001b[49m\u001b[43m \u001b[49m\u001b[43mindexer\u001b[49m\u001b[43m,\u001b[49m\u001b[43m \u001b[49m\u001b[43maxis_name\u001b[49m\u001b[43m)\u001b[49m\n\u001b[0;32m   6117\u001b[0m keyarr \u001b[38;5;241m=\u001b[39m \u001b[38;5;28mself\u001b[39m\u001b[38;5;241m.\u001b[39mtake(indexer)\n\u001b[0;32m   6118\u001b[0m \u001b[38;5;28;01mif\u001b[39;00m \u001b[38;5;28misinstance\u001b[39m(key, Index):\n\u001b[0;32m   6119\u001b[0m     \u001b[38;5;66;03m# GH 42790 - Preserve name from an Index\u001b[39;00m\n",
            "File \u001b[1;32m~\\AppData\\Local\\Packages\\PythonSoftwareFoundation.Python.3.11_qbz5n2kfra8p0\\LocalCache\\local-packages\\Python311\\site-packages\\pandas\\core\\indexes\\base.py:6176\u001b[0m, in \u001b[0;36mIndex._raise_if_missing\u001b[1;34m(self, key, indexer, axis_name)\u001b[0m\n\u001b[0;32m   6174\u001b[0m     \u001b[38;5;28;01mif\u001b[39;00m use_interval_msg:\n\u001b[0;32m   6175\u001b[0m         key \u001b[38;5;241m=\u001b[39m \u001b[38;5;28mlist\u001b[39m(key)\n\u001b[1;32m-> 6176\u001b[0m     \u001b[38;5;28;01mraise\u001b[39;00m \u001b[38;5;167;01mKeyError\u001b[39;00m(\u001b[38;5;124mf\u001b[39m\u001b[38;5;124m\"\u001b[39m\u001b[38;5;124mNone of [\u001b[39m\u001b[38;5;132;01m{\u001b[39;00mkey\u001b[38;5;132;01m}\u001b[39;00m\u001b[38;5;124m] are in the [\u001b[39m\u001b[38;5;132;01m{\u001b[39;00maxis_name\u001b[38;5;132;01m}\u001b[39;00m\u001b[38;5;124m]\u001b[39m\u001b[38;5;124m\"\u001b[39m)\n\u001b[0;32m   6178\u001b[0m not_found \u001b[38;5;241m=\u001b[39m \u001b[38;5;28mlist\u001b[39m(ensure_index(key)[missing_mask\u001b[38;5;241m.\u001b[39mnonzero()[\u001b[38;5;241m0\u001b[39m]]\u001b[38;5;241m.\u001b[39munique())\n\u001b[0;32m   6179\u001b[0m \u001b[38;5;28;01mraise\u001b[39;00m \u001b[38;5;167;01mKeyError\u001b[39;00m(\u001b[38;5;124mf\u001b[39m\u001b[38;5;124m\"\u001b[39m\u001b[38;5;132;01m{\u001b[39;00mnot_found\u001b[38;5;132;01m}\u001b[39;00m\u001b[38;5;124m not in index\u001b[39m\u001b[38;5;124m\"\u001b[39m)\n",
            "\u001b[1;31mKeyError\u001b[0m: \"None of [Index(['step', 'amount', 'oldbalanceOrg', 'newbalanceOrig', 'oldbalanceDest',\\n       'newbalanceDest', 'type'],\\n      dtype='object')] are in the [columns]\""
          ]
        }
      ],
      "source": [
        "import pandas as pd\n",
        "from sklearn.pipeline import Pipeline\n",
        "from sklearn.preprocessing import StandardScaler, OneHotEncoder\n",
        "from sklearn.compose import ColumnTransformer\n",
        "from sklearn.linear_model import LogisticRegression\n",
        "import joblib\n",
        "\n",
        "# Supondo que x_train seja um array NumPy, selecione apenas as colunas relevantes\n",
        "x_train_df = pd.DataFrame(x_train, columns=['col1', 'col2', 'col3', 'col4', 'col5', 'col6', 'col7', 'col8', 'col9', 'col10', 'col11'])\n",
        "x_train_df = x_train_df[['step', 'amount', 'oldbalanceOrg', 'newbalanceOrig', 'oldbalanceDest', 'newbalanceDest', 'type']]\n",
        "\n",
        "# Definir colunas numéricas e categóricas\n",
        "numeric_features = ['step', 'amount', 'oldbalanceOrg', 'newbalanceOrig', 'oldbalanceDest', 'newbalanceDest']\n",
        "categorical_features = ['type']\n",
        "\n",
        "# Pré-processamento para variáveis numéricas\n",
        "numeric_transformer = Pipeline(steps=[\n",
        "    ('scaler', StandardScaler())\n",
        "])\n",
        "\n",
        "# Pré-processamento para variáveis categóricas\n",
        "categorical_transformer = Pipeline(steps=[\n",
        "    ('onehot', OneHotEncoder(handle_unknown='ignore'))\n",
        "])\n",
        "\n",
        "# Combinar pré-processamento\n",
        "preprocessor = ColumnTransformer(\n",
        "    transformers=[\n",
        "        ('num', numeric_transformer, numeric_features),\n",
        "        ('cat', categorical_transformer, categorical_features)\n",
        "    ])\n",
        "\n",
        "# Criar o pipeline completo\n",
        "pipeline = Pipeline(steps=[\n",
        "    ('preprocessor', preprocessor),\n",
        "    ('classifier', LogisticRegression(max_iter=1000, random_state=42))\n",
        "])\n",
        "\n",
        "# Treinar o pipeline\n",
        "pipeline.fit(x_train_df, y_train)\n",
        "\n",
        "# Salvar o pipeline\n",
        "joblib.dump(pipeline, 'fraud_detection_pipeline.joblib')\n"
      ]
    }
  ],
  "metadata": {
    "colab": {
      "collapsed_sections": [
        "RBpETqBaMizu",
        "nrkpbqfHnfdQ",
        "pfWzAWlrhfYR",
        "j44GLj2AhilI",
        "Kyvew0CchnhR",
        "Lxuitc62hxuB",
        "8r6EWH_Rh9Y4"
      ],
      "name": "Detec_Fraude.ipynb",
      "provenance": []
    },
    "kernelspec": {
      "display_name": "Python 3",
      "name": "python3"
    },
    "language_info": {
      "codemirror_mode": {
        "name": "ipython",
        "version": 3
      },
      "file_extension": ".py",
      "mimetype": "text/x-python",
      "name": "python",
      "nbconvert_exporter": "python",
      "pygments_lexer": "ipython3",
      "version": "3.11.9"
    },
    "widgets": {
      "application/vnd.jupyter.widget-state+json": {
        "02777da28cbb4451a1aa940a39c9e39d": {
          "model_module": "@jupyter-widgets/base",
          "model_module_version": "1.2.0",
          "model_name": "LayoutModel",
          "state": {
            "_model_module": "@jupyter-widgets/base",
            "_model_module_version": "1.2.0",
            "_model_name": "LayoutModel",
            "_view_count": null,
            "_view_module": "@jupyter-widgets/base",
            "_view_module_version": "1.2.0",
            "_view_name": "LayoutView",
            "align_content": null,
            "align_items": null,
            "align_self": null,
            "border": null,
            "bottom": null,
            "display": null,
            "flex": null,
            "flex_flow": null,
            "grid_area": null,
            "grid_auto_columns": null,
            "grid_auto_flow": null,
            "grid_auto_rows": null,
            "grid_column": null,
            "grid_gap": null,
            "grid_row": null,
            "grid_template_areas": null,
            "grid_template_columns": null,
            "grid_template_rows": null,
            "height": null,
            "justify_content": null,
            "justify_items": null,
            "left": null,
            "margin": null,
            "max_height": null,
            "max_width": null,
            "min_height": null,
            "min_width": null,
            "object_fit": null,
            "object_position": null,
            "order": null,
            "overflow": null,
            "overflow_x": null,
            "overflow_y": null,
            "padding": null,
            "right": null,
            "top": null,
            "visibility": null,
            "width": null
          }
        },
        "053988fef1514cccb21b88bd6b240d9f": {
          "model_module": "@jupyter-widgets/controls",
          "model_module_version": "1.5.0",
          "model_name": "DescriptionStyleModel",
          "state": {
            "_model_module": "@jupyter-widgets/controls",
            "_model_module_version": "1.5.0",
            "_model_name": "DescriptionStyleModel",
            "_view_count": null,
            "_view_module": "@jupyter-widgets/base",
            "_view_module_version": "1.2.0",
            "_view_name": "StyleView",
            "description_width": ""
          }
        },
        "0ca3048fc53c478b8b8a3a25ba25fb3a": {
          "model_module": "@jupyter-widgets/controls",
          "model_module_version": "1.5.0",
          "model_name": "DescriptionStyleModel",
          "state": {
            "_model_module": "@jupyter-widgets/controls",
            "_model_module_version": "1.5.0",
            "_model_name": "DescriptionStyleModel",
            "_view_count": null,
            "_view_module": "@jupyter-widgets/base",
            "_view_module_version": "1.2.0",
            "_view_name": "StyleView",
            "description_width": ""
          }
        },
        "0e8e18233d13412385dba29a406511cb": {
          "model_module": "@jupyter-widgets/base",
          "model_module_version": "1.2.0",
          "model_name": "LayoutModel",
          "state": {
            "_model_module": "@jupyter-widgets/base",
            "_model_module_version": "1.2.0",
            "_model_name": "LayoutModel",
            "_view_count": null,
            "_view_module": "@jupyter-widgets/base",
            "_view_module_version": "1.2.0",
            "_view_name": "LayoutView",
            "align_content": null,
            "align_items": null,
            "align_self": null,
            "border": null,
            "bottom": null,
            "display": null,
            "flex": null,
            "flex_flow": null,
            "grid_area": null,
            "grid_auto_columns": null,
            "grid_auto_flow": null,
            "grid_auto_rows": null,
            "grid_column": null,
            "grid_gap": null,
            "grid_row": null,
            "grid_template_areas": null,
            "grid_template_columns": null,
            "grid_template_rows": null,
            "height": null,
            "justify_content": null,
            "justify_items": null,
            "left": null,
            "margin": null,
            "max_height": null,
            "max_width": null,
            "min_height": null,
            "min_width": null,
            "object_fit": null,
            "object_position": null,
            "order": null,
            "overflow": null,
            "overflow_x": null,
            "overflow_y": null,
            "padding": null,
            "right": null,
            "top": null,
            "visibility": null,
            "width": null
          }
        },
        "0f034c3a81524847ab14f8cfb96e9f7d": {
          "model_module": "@jupyter-widgets/controls",
          "model_module_version": "1.5.0",
          "model_name": "ProgressStyleModel",
          "state": {
            "_model_module": "@jupyter-widgets/controls",
            "_model_module_version": "1.5.0",
            "_model_name": "ProgressStyleModel",
            "_view_count": null,
            "_view_module": "@jupyter-widgets/base",
            "_view_module_version": "1.2.0",
            "_view_name": "StyleView",
            "bar_color": null,
            "description_width": ""
          }
        },
        "0f50718fb71c4f1ab7ab55f73dd22ef8": {
          "model_module": "@jupyter-widgets/base",
          "model_module_version": "1.2.0",
          "model_name": "LayoutModel",
          "state": {
            "_model_module": "@jupyter-widgets/base",
            "_model_module_version": "1.2.0",
            "_model_name": "LayoutModel",
            "_view_count": null,
            "_view_module": "@jupyter-widgets/base",
            "_view_module_version": "1.2.0",
            "_view_name": "LayoutView",
            "align_content": null,
            "align_items": null,
            "align_self": null,
            "border": null,
            "bottom": null,
            "display": null,
            "flex": null,
            "flex_flow": null,
            "grid_area": null,
            "grid_auto_columns": null,
            "grid_auto_flow": null,
            "grid_auto_rows": null,
            "grid_column": null,
            "grid_gap": null,
            "grid_row": null,
            "grid_template_areas": null,
            "grid_template_columns": null,
            "grid_template_rows": null,
            "height": null,
            "justify_content": null,
            "justify_items": null,
            "left": null,
            "margin": null,
            "max_height": null,
            "max_width": null,
            "min_height": null,
            "min_width": null,
            "object_fit": null,
            "object_position": null,
            "order": null,
            "overflow": null,
            "overflow_x": null,
            "overflow_y": null,
            "padding": null,
            "right": null,
            "top": null,
            "visibility": null,
            "width": null
          }
        },
        "0f9eb19f158448e3b8bbe775d5a04fde": {
          "model_module": "@jupyter-widgets/controls",
          "model_module_version": "1.5.0",
          "model_name": "FloatProgressModel",
          "state": {
            "_dom_classes": [],
            "_model_module": "@jupyter-widgets/controls",
            "_model_module_version": "1.5.0",
            "_model_name": "FloatProgressModel",
            "_view_count": null,
            "_view_module": "@jupyter-widgets/controls",
            "_view_module_version": "1.5.0",
            "_view_name": "ProgressView",
            "bar_style": "success",
            "description": "",
            "description_tooltip": null,
            "layout": "IPY_MODEL_7fbb81a1ef9746259aad22bb2e1a60e5",
            "max": 1,
            "min": 0,
            "orientation": "horizontal",
            "style": "IPY_MODEL_30912d02e0914a269793f34f933999be",
            "value": 1
          }
        },
        "105b2724d1594a3faf6f3bc92fa4f16e": {
          "model_module": "@jupyter-widgets/base",
          "model_module_version": "1.2.0",
          "model_name": "LayoutModel",
          "state": {
            "_model_module": "@jupyter-widgets/base",
            "_model_module_version": "1.2.0",
            "_model_name": "LayoutModel",
            "_view_count": null,
            "_view_module": "@jupyter-widgets/base",
            "_view_module_version": "1.2.0",
            "_view_name": "LayoutView",
            "align_content": null,
            "align_items": null,
            "align_self": null,
            "border": null,
            "bottom": null,
            "display": null,
            "flex": null,
            "flex_flow": null,
            "grid_area": null,
            "grid_auto_columns": null,
            "grid_auto_flow": null,
            "grid_auto_rows": null,
            "grid_column": null,
            "grid_gap": null,
            "grid_row": null,
            "grid_template_areas": null,
            "grid_template_columns": null,
            "grid_template_rows": null,
            "height": null,
            "justify_content": null,
            "justify_items": null,
            "left": null,
            "margin": null,
            "max_height": null,
            "max_width": null,
            "min_height": null,
            "min_width": null,
            "object_fit": null,
            "object_position": null,
            "order": null,
            "overflow": null,
            "overflow_x": null,
            "overflow_y": null,
            "padding": null,
            "right": null,
            "top": null,
            "visibility": null,
            "width": null
          }
        },
        "111a1e5d112c44f99d7eb63180c23897": {
          "model_module": "@jupyter-widgets/controls",
          "model_module_version": "1.5.0",
          "model_name": "DescriptionStyleModel",
          "state": {
            "_model_module": "@jupyter-widgets/controls",
            "_model_module_version": "1.5.0",
            "_model_name": "DescriptionStyleModel",
            "_view_count": null,
            "_view_module": "@jupyter-widgets/base",
            "_view_module_version": "1.2.0",
            "_view_name": "StyleView",
            "description_width": ""
          }
        },
        "11e59a71bc8647569c2c928dc4fa8d48": {
          "model_module": "@jupyter-widgets/base",
          "model_module_version": "1.2.0",
          "model_name": "LayoutModel",
          "state": {
            "_model_module": "@jupyter-widgets/base",
            "_model_module_version": "1.2.0",
            "_model_name": "LayoutModel",
            "_view_count": null,
            "_view_module": "@jupyter-widgets/base",
            "_view_module_version": "1.2.0",
            "_view_name": "LayoutView",
            "align_content": null,
            "align_items": null,
            "align_self": null,
            "border": null,
            "bottom": null,
            "display": null,
            "flex": null,
            "flex_flow": null,
            "grid_area": null,
            "grid_auto_columns": null,
            "grid_auto_flow": null,
            "grid_auto_rows": null,
            "grid_column": null,
            "grid_gap": null,
            "grid_row": null,
            "grid_template_areas": null,
            "grid_template_columns": null,
            "grid_template_rows": null,
            "height": null,
            "justify_content": null,
            "justify_items": null,
            "left": null,
            "margin": null,
            "max_height": null,
            "max_width": null,
            "min_height": null,
            "min_width": null,
            "object_fit": null,
            "object_position": null,
            "order": null,
            "overflow": null,
            "overflow_x": null,
            "overflow_y": null,
            "padding": null,
            "right": null,
            "top": null,
            "visibility": null,
            "width": null
          }
        },
        "30912d02e0914a269793f34f933999be": {
          "model_module": "@jupyter-widgets/controls",
          "model_module_version": "1.5.0",
          "model_name": "ProgressStyleModel",
          "state": {
            "_model_module": "@jupyter-widgets/controls",
            "_model_module_version": "1.5.0",
            "_model_name": "ProgressStyleModel",
            "_view_count": null,
            "_view_module": "@jupyter-widgets/base",
            "_view_module_version": "1.2.0",
            "_view_name": "StyleView",
            "bar_color": null,
            "description_width": ""
          }
        },
        "30996e4d49fa4ce7ad4a2ad5f931a7e9": {
          "model_module": "@jupyter-widgets/controls",
          "model_module_version": "1.5.0",
          "model_name": "HTMLModel",
          "state": {
            "_dom_classes": [],
            "_model_module": "@jupyter-widgets/controls",
            "_model_module_version": "1.5.0",
            "_model_name": "HTMLModel",
            "_view_count": null,
            "_view_module": "@jupyter-widgets/controls",
            "_view_module_version": "1.5.0",
            "_view_name": "HTMLView",
            "description": "",
            "description_tooltip": null,
            "layout": "IPY_MODEL_c0888c4cbd464e5ab8e4ac8c678701ef",
            "placeholder": "​",
            "style": "IPY_MODEL_39527d194de2499790af9315bb8f213a",
            "value": " 1/1 [00:05&lt;00:00,  5.72s/it]"
          }
        },
        "35e1cee552064778bef3357d3e9b66e5": {
          "model_module": "@jupyter-widgets/controls",
          "model_module_version": "1.5.0",
          "model_name": "HBoxModel",
          "state": {
            "_dom_classes": [],
            "_model_module": "@jupyter-widgets/controls",
            "_model_module_version": "1.5.0",
            "_model_name": "HBoxModel",
            "_view_count": null,
            "_view_module": "@jupyter-widgets/controls",
            "_view_module_version": "1.5.0",
            "_view_name": "HBoxView",
            "box_style": "",
            "children": [
              "IPY_MODEL_f148223dfb4040e7ab845a934d0a36dc",
              "IPY_MODEL_c414d50f589141e19f2be083af9e2757",
              "IPY_MODEL_b51a7d02b553480bb1a1125c8c918c69"
            ],
            "layout": "IPY_MODEL_9e1f50ecfce34d238cd361b586d919ab"
          }
        },
        "368797f441f347888f4e86585f00d40c": {
          "model_module": "@jupyter-widgets/controls",
          "model_module_version": "1.5.0",
          "model_name": "HTMLModel",
          "state": {
            "_dom_classes": [],
            "_model_module": "@jupyter-widgets/controls",
            "_model_module_version": "1.5.0",
            "_model_name": "HTMLModel",
            "_view_count": null,
            "_view_module": "@jupyter-widgets/controls",
            "_view_module_version": "1.5.0",
            "_view_name": "HTMLView",
            "description": "",
            "description_tooltip": null,
            "layout": "IPY_MODEL_0f50718fb71c4f1ab7ab55f73dd22ef8",
            "placeholder": "​",
            "style": "IPY_MODEL_111a1e5d112c44f99d7eb63180c23897",
            "value": " 61/61 [00:40&lt;00:00,  3.98it/s, Completed]"
          }
        },
        "39527d194de2499790af9315bb8f213a": {
          "model_module": "@jupyter-widgets/controls",
          "model_module_version": "1.5.0",
          "model_name": "DescriptionStyleModel",
          "state": {
            "_model_module": "@jupyter-widgets/controls",
            "_model_module_version": "1.5.0",
            "_model_name": "DescriptionStyleModel",
            "_view_count": null,
            "_view_module": "@jupyter-widgets/base",
            "_view_module_version": "1.2.0",
            "_view_name": "StyleView",
            "description_width": ""
          }
        },
        "3cc941bc581d4fb3b9fe0b0d123104d3": {
          "model_module": "@jupyter-widgets/controls",
          "model_module_version": "1.5.0",
          "model_name": "DescriptionStyleModel",
          "state": {
            "_model_module": "@jupyter-widgets/controls",
            "_model_module_version": "1.5.0",
            "_model_name": "DescriptionStyleModel",
            "_view_count": null,
            "_view_module": "@jupyter-widgets/base",
            "_view_module_version": "1.2.0",
            "_view_name": "StyleView",
            "description_width": ""
          }
        },
        "3d5e7cdbba694af2bba7dca2a6b4fddf": {
          "model_module": "@jupyter-widgets/base",
          "model_module_version": "1.2.0",
          "model_name": "LayoutModel",
          "state": {
            "_model_module": "@jupyter-widgets/base",
            "_model_module_version": "1.2.0",
            "_model_name": "LayoutModel",
            "_view_count": null,
            "_view_module": "@jupyter-widgets/base",
            "_view_module_version": "1.2.0",
            "_view_name": "LayoutView",
            "align_content": null,
            "align_items": null,
            "align_self": null,
            "border": null,
            "bottom": null,
            "display": null,
            "flex": null,
            "flex_flow": null,
            "grid_area": null,
            "grid_auto_columns": null,
            "grid_auto_flow": null,
            "grid_auto_rows": null,
            "grid_column": null,
            "grid_gap": null,
            "grid_row": null,
            "grid_template_areas": null,
            "grid_template_columns": null,
            "grid_template_rows": null,
            "height": null,
            "justify_content": null,
            "justify_items": null,
            "left": null,
            "margin": null,
            "max_height": null,
            "max_width": null,
            "min_height": null,
            "min_width": null,
            "object_fit": null,
            "object_position": null,
            "order": null,
            "overflow": null,
            "overflow_x": null,
            "overflow_y": null,
            "padding": null,
            "right": null,
            "top": null,
            "visibility": null,
            "width": null
          }
        },
        "423432f125f842ea83cb3faa10eaad93": {
          "model_module": "@jupyter-widgets/base",
          "model_module_version": "1.2.0",
          "model_name": "LayoutModel",
          "state": {
            "_model_module": "@jupyter-widgets/base",
            "_model_module_version": "1.2.0",
            "_model_name": "LayoutModel",
            "_view_count": null,
            "_view_module": "@jupyter-widgets/base",
            "_view_module_version": "1.2.0",
            "_view_name": "LayoutView",
            "align_content": null,
            "align_items": null,
            "align_self": null,
            "border": null,
            "bottom": null,
            "display": null,
            "flex": null,
            "flex_flow": null,
            "grid_area": null,
            "grid_auto_columns": null,
            "grid_auto_flow": null,
            "grid_auto_rows": null,
            "grid_column": null,
            "grid_gap": null,
            "grid_row": null,
            "grid_template_areas": null,
            "grid_template_columns": null,
            "grid_template_rows": null,
            "height": null,
            "justify_content": null,
            "justify_items": null,
            "left": null,
            "margin": null,
            "max_height": null,
            "max_width": null,
            "min_height": null,
            "min_width": null,
            "object_fit": null,
            "object_position": null,
            "order": null,
            "overflow": null,
            "overflow_x": null,
            "overflow_y": null,
            "padding": null,
            "right": null,
            "top": null,
            "visibility": null,
            "width": null
          }
        },
        "4475df4b90a14a86a6bc6dcf771cf4d1": {
          "model_module": "@jupyter-widgets/controls",
          "model_module_version": "1.5.0",
          "model_name": "HBoxModel",
          "state": {
            "_dom_classes": [],
            "_model_module": "@jupyter-widgets/controls",
            "_model_module_version": "1.5.0",
            "_model_name": "HBoxModel",
            "_view_count": null,
            "_view_module": "@jupyter-widgets/controls",
            "_view_module_version": "1.5.0",
            "_view_name": "HBoxView",
            "box_style": "",
            "children": [
              "IPY_MODEL_a68fc49549b347f4b7a5941b54973873",
              "IPY_MODEL_d81917df8ea643fba8f5b5c7e15e7449",
              "IPY_MODEL_e596fad21f3d43f2b93da2b8783fb615"
            ],
            "layout": "IPY_MODEL_105b2724d1594a3faf6f3bc92fa4f16e"
          }
        },
        "44ee86a1e891403a9fab3aba3a953f8c": {
          "model_module": "@jupyter-widgets/controls",
          "model_module_version": "1.5.0",
          "model_name": "HBoxModel",
          "state": {
            "_dom_classes": [],
            "_model_module": "@jupyter-widgets/controls",
            "_model_module_version": "1.5.0",
            "_model_name": "HBoxModel",
            "_view_count": null,
            "_view_module": "@jupyter-widgets/controls",
            "_view_module_version": "1.5.0",
            "_view_name": "HBoxView",
            "box_style": "",
            "children": [
              "IPY_MODEL_a88663d516ce4410bc5cb106b85a9bac",
              "IPY_MODEL_bd2be41af66e4c3587c2faf2fda433cc",
              "IPY_MODEL_368797f441f347888f4e86585f00d40c"
            ],
            "layout": "IPY_MODEL_ef121e193193408e8fc81cf4dad1deb6"
          }
        },
        "45486a10f70741b0b8e79a8c96f6e614": {
          "model_module": "@jupyter-widgets/controls",
          "model_module_version": "1.5.0",
          "model_name": "DescriptionStyleModel",
          "state": {
            "_model_module": "@jupyter-widgets/controls",
            "_model_module_version": "1.5.0",
            "_model_name": "DescriptionStyleModel",
            "_view_count": null,
            "_view_module": "@jupyter-widgets/base",
            "_view_module_version": "1.2.0",
            "_view_name": "StyleView",
            "description_width": ""
          }
        },
        "4b17f5b614784adeb937900933a45b25": {
          "model_module": "@jupyter-widgets/controls",
          "model_module_version": "1.5.0",
          "model_name": "DescriptionStyleModel",
          "state": {
            "_model_module": "@jupyter-widgets/controls",
            "_model_module_version": "1.5.0",
            "_model_name": "DescriptionStyleModel",
            "_view_count": null,
            "_view_module": "@jupyter-widgets/base",
            "_view_module_version": "1.2.0",
            "_view_name": "StyleView",
            "description_width": ""
          }
        },
        "4c50619ce2f04b39a37b20f039657f53": {
          "model_module": "@jupyter-widgets/base",
          "model_module_version": "1.2.0",
          "model_name": "LayoutModel",
          "state": {
            "_model_module": "@jupyter-widgets/base",
            "_model_module_version": "1.2.0",
            "_model_name": "LayoutModel",
            "_view_count": null,
            "_view_module": "@jupyter-widgets/base",
            "_view_module_version": "1.2.0",
            "_view_name": "LayoutView",
            "align_content": null,
            "align_items": null,
            "align_self": null,
            "border": null,
            "bottom": null,
            "display": null,
            "flex": null,
            "flex_flow": null,
            "grid_area": null,
            "grid_auto_columns": null,
            "grid_auto_flow": null,
            "grid_auto_rows": null,
            "grid_column": null,
            "grid_gap": null,
            "grid_row": null,
            "grid_template_areas": null,
            "grid_template_columns": null,
            "grid_template_rows": null,
            "height": null,
            "justify_content": null,
            "justify_items": null,
            "left": null,
            "margin": null,
            "max_height": null,
            "max_width": null,
            "min_height": null,
            "min_width": null,
            "object_fit": null,
            "object_position": null,
            "order": null,
            "overflow": null,
            "overflow_x": null,
            "overflow_y": null,
            "padding": null,
            "right": null,
            "top": null,
            "visibility": null,
            "width": null
          }
        },
        "4dd17d7643654601acb74e6973bc8269": {
          "model_module": "@jupyter-widgets/controls",
          "model_module_version": "1.5.0",
          "model_name": "DescriptionStyleModel",
          "state": {
            "_model_module": "@jupyter-widgets/controls",
            "_model_module_version": "1.5.0",
            "_model_name": "DescriptionStyleModel",
            "_view_count": null,
            "_view_module": "@jupyter-widgets/base",
            "_view_module_version": "1.2.0",
            "_view_name": "StyleView",
            "description_width": ""
          }
        },
        "511b6538b3c54bbcb6978ed11d4dd088": {
          "model_module": "@jupyter-widgets/controls",
          "model_module_version": "1.5.0",
          "model_name": "ProgressStyleModel",
          "state": {
            "_model_module": "@jupyter-widgets/controls",
            "_model_module_version": "1.5.0",
            "_model_name": "ProgressStyleModel",
            "_view_count": null,
            "_view_module": "@jupyter-widgets/base",
            "_view_module_version": "1.2.0",
            "_view_name": "StyleView",
            "bar_color": null,
            "description_width": ""
          }
        },
        "5a2f4d4c162a4f238022053249b0dd1c": {
          "model_module": "@jupyter-widgets/base",
          "model_module_version": "1.2.0",
          "model_name": "LayoutModel",
          "state": {
            "_model_module": "@jupyter-widgets/base",
            "_model_module_version": "1.2.0",
            "_model_name": "LayoutModel",
            "_view_count": null,
            "_view_module": "@jupyter-widgets/base",
            "_view_module_version": "1.2.0",
            "_view_name": "LayoutView",
            "align_content": null,
            "align_items": null,
            "align_self": null,
            "border": null,
            "bottom": null,
            "display": null,
            "flex": null,
            "flex_flow": null,
            "grid_area": null,
            "grid_auto_columns": null,
            "grid_auto_flow": null,
            "grid_auto_rows": null,
            "grid_column": null,
            "grid_gap": null,
            "grid_row": null,
            "grid_template_areas": null,
            "grid_template_columns": null,
            "grid_template_rows": null,
            "height": null,
            "justify_content": null,
            "justify_items": null,
            "left": null,
            "margin": null,
            "max_height": null,
            "max_width": null,
            "min_height": null,
            "min_width": null,
            "object_fit": null,
            "object_position": null,
            "order": null,
            "overflow": null,
            "overflow_x": null,
            "overflow_y": null,
            "padding": null,
            "right": null,
            "top": null,
            "visibility": null,
            "width": null
          }
        },
        "6c43d407a3a5420ca74936aeaeddb798": {
          "model_module": "@jupyter-widgets/base",
          "model_module_version": "1.2.0",
          "model_name": "LayoutModel",
          "state": {
            "_model_module": "@jupyter-widgets/base",
            "_model_module_version": "1.2.0",
            "_model_name": "LayoutModel",
            "_view_count": null,
            "_view_module": "@jupyter-widgets/base",
            "_view_module_version": "1.2.0",
            "_view_name": "LayoutView",
            "align_content": null,
            "align_items": null,
            "align_self": null,
            "border": null,
            "bottom": null,
            "display": null,
            "flex": null,
            "flex_flow": null,
            "grid_area": null,
            "grid_auto_columns": null,
            "grid_auto_flow": null,
            "grid_auto_rows": null,
            "grid_column": null,
            "grid_gap": null,
            "grid_row": null,
            "grid_template_areas": null,
            "grid_template_columns": null,
            "grid_template_rows": null,
            "height": null,
            "justify_content": null,
            "justify_items": null,
            "left": null,
            "margin": null,
            "max_height": null,
            "max_width": null,
            "min_height": null,
            "min_width": null,
            "object_fit": null,
            "object_position": null,
            "order": null,
            "overflow": null,
            "overflow_x": null,
            "overflow_y": null,
            "padding": null,
            "right": null,
            "top": null,
            "visibility": null,
            "width": null
          }
        },
        "7bad9fbe392a4326b3eb4ee4050e4b2d": {
          "model_module": "@jupyter-widgets/controls",
          "model_module_version": "1.5.0",
          "model_name": "HTMLModel",
          "state": {
            "_dom_classes": [],
            "_model_module": "@jupyter-widgets/controls",
            "_model_module_version": "1.5.0",
            "_model_name": "HTMLModel",
            "_view_count": null,
            "_view_module": "@jupyter-widgets/controls",
            "_view_module_version": "1.5.0",
            "_view_name": "HTMLView",
            "description": "",
            "description_tooltip": null,
            "layout": "IPY_MODEL_11e59a71bc8647569c2c928dc4fa8d48",
            "placeholder": "​",
            "style": "IPY_MODEL_3cc941bc581d4fb3b9fe0b0d123104d3",
            "value": "Render HTML: 100%"
          }
        },
        "7e4154f6829e48d5bcc15a28171f9b3e": {
          "model_module": "@jupyter-widgets/controls",
          "model_module_version": "1.5.0",
          "model_name": "HTMLModel",
          "state": {
            "_dom_classes": [],
            "_model_module": "@jupyter-widgets/controls",
            "_model_module_version": "1.5.0",
            "_model_name": "HTMLModel",
            "_view_count": null,
            "_view_module": "@jupyter-widgets/controls",
            "_view_module_version": "1.5.0",
            "_view_name": "HTMLView",
            "description": "",
            "description_tooltip": null,
            "layout": "IPY_MODEL_bb308f34cf5a4aa39ba31ae7bc601362",
            "placeholder": "​",
            "style": "IPY_MODEL_45486a10f70741b0b8e79a8c96f6e614",
            "value": " 1/1 [00:06&lt;00:00,  6.95s/it]"
          }
        },
        "7fbb81a1ef9746259aad22bb2e1a60e5": {
          "model_module": "@jupyter-widgets/base",
          "model_module_version": "1.2.0",
          "model_name": "LayoutModel",
          "state": {
            "_model_module": "@jupyter-widgets/base",
            "_model_module_version": "1.2.0",
            "_model_name": "LayoutModel",
            "_view_count": null,
            "_view_module": "@jupyter-widgets/base",
            "_view_module_version": "1.2.0",
            "_view_name": "LayoutView",
            "align_content": null,
            "align_items": null,
            "align_self": null,
            "border": null,
            "bottom": null,
            "display": null,
            "flex": null,
            "flex_flow": null,
            "grid_area": null,
            "grid_auto_columns": null,
            "grid_auto_flow": null,
            "grid_auto_rows": null,
            "grid_column": null,
            "grid_gap": null,
            "grid_row": null,
            "grid_template_areas": null,
            "grid_template_columns": null,
            "grid_template_rows": null,
            "height": null,
            "justify_content": null,
            "justify_items": null,
            "left": null,
            "margin": null,
            "max_height": null,
            "max_width": null,
            "min_height": null,
            "min_width": null,
            "object_fit": null,
            "object_position": null,
            "order": null,
            "overflow": null,
            "overflow_x": null,
            "overflow_y": null,
            "padding": null,
            "right": null,
            "top": null,
            "visibility": null,
            "width": null
          }
        },
        "82222753bc2b44069785cd67412b7077": {
          "model_module": "@jupyter-widgets/controls",
          "model_module_version": "1.5.0",
          "model_name": "HTMLModel",
          "state": {
            "_dom_classes": [],
            "_model_module": "@jupyter-widgets/controls",
            "_model_module_version": "1.5.0",
            "_model_name": "HTMLModel",
            "_view_count": null,
            "_view_module": "@jupyter-widgets/controls",
            "_view_module_version": "1.5.0",
            "_view_name": "HTMLView",
            "description": "",
            "description_tooltip": null,
            "layout": "IPY_MODEL_f4a5ba1dbc7f44d3bb7cb397e786798a",
            "placeholder": "​",
            "style": "IPY_MODEL_e9a4524bddff4684935dd4f2174cebaf",
            "value": "Generate report structure: 100%"
          }
        },
        "8651a739e33243c8893239dd8707378d": {
          "model_module": "@jupyter-widgets/base",
          "model_module_version": "1.2.0",
          "model_name": "LayoutModel",
          "state": {
            "_model_module": "@jupyter-widgets/base",
            "_model_module_version": "1.2.0",
            "_model_name": "LayoutModel",
            "_view_count": null,
            "_view_module": "@jupyter-widgets/base",
            "_view_module_version": "1.2.0",
            "_view_name": "LayoutView",
            "align_content": null,
            "align_items": null,
            "align_self": null,
            "border": null,
            "bottom": null,
            "display": null,
            "flex": null,
            "flex_flow": null,
            "grid_area": null,
            "grid_auto_columns": null,
            "grid_auto_flow": null,
            "grid_auto_rows": null,
            "grid_column": null,
            "grid_gap": null,
            "grid_row": null,
            "grid_template_areas": null,
            "grid_template_columns": null,
            "grid_template_rows": null,
            "height": null,
            "justify_content": null,
            "justify_items": null,
            "left": null,
            "margin": null,
            "max_height": null,
            "max_width": null,
            "min_height": null,
            "min_width": null,
            "object_fit": null,
            "object_position": null,
            "order": null,
            "overflow": null,
            "overflow_x": null,
            "overflow_y": null,
            "padding": null,
            "right": null,
            "top": null,
            "visibility": null,
            "width": null
          }
        },
        "8c00ae05b83e4911adf85f84a730171e": {
          "model_module": "@jupyter-widgets/controls",
          "model_module_version": "1.5.0",
          "model_name": "DescriptionStyleModel",
          "state": {
            "_model_module": "@jupyter-widgets/controls",
            "_model_module_version": "1.5.0",
            "_model_name": "DescriptionStyleModel",
            "_view_count": null,
            "_view_module": "@jupyter-widgets/base",
            "_view_module_version": "1.2.0",
            "_view_name": "StyleView",
            "description_width": ""
          }
        },
        "8ee2643358d7452b9b03bbc08d221c22": {
          "model_module": "@jupyter-widgets/controls",
          "model_module_version": "1.5.0",
          "model_name": "FloatProgressModel",
          "state": {
            "_dom_classes": [],
            "_model_module": "@jupyter-widgets/controls",
            "_model_module_version": "1.5.0",
            "_model_name": "FloatProgressModel",
            "_view_count": null,
            "_view_module": "@jupyter-widgets/controls",
            "_view_module_version": "1.5.0",
            "_view_name": "ProgressView",
            "bar_style": "success",
            "description": "",
            "description_tooltip": null,
            "layout": "IPY_MODEL_a324a8fdcc394f2d99214c31e9ccea1a",
            "max": 1,
            "min": 0,
            "orientation": "horizontal",
            "style": "IPY_MODEL_de10167943044417900c455d1b2abda8",
            "value": 1
          }
        },
        "921f244c1e124775abf8731c4fc72fae": {
          "model_module": "@jupyter-widgets/base",
          "model_module_version": "1.2.0",
          "model_name": "LayoutModel",
          "state": {
            "_model_module": "@jupyter-widgets/base",
            "_model_module_version": "1.2.0",
            "_model_name": "LayoutModel",
            "_view_count": null,
            "_view_module": "@jupyter-widgets/base",
            "_view_module_version": "1.2.0",
            "_view_name": "LayoutView",
            "align_content": null,
            "align_items": null,
            "align_self": null,
            "border": null,
            "bottom": null,
            "display": null,
            "flex": null,
            "flex_flow": null,
            "grid_area": null,
            "grid_auto_columns": null,
            "grid_auto_flow": null,
            "grid_auto_rows": null,
            "grid_column": null,
            "grid_gap": null,
            "grid_row": null,
            "grid_template_areas": null,
            "grid_template_columns": null,
            "grid_template_rows": null,
            "height": null,
            "justify_content": null,
            "justify_items": null,
            "left": null,
            "margin": null,
            "max_height": null,
            "max_width": null,
            "min_height": null,
            "min_width": null,
            "object_fit": null,
            "object_position": null,
            "order": null,
            "overflow": null,
            "overflow_x": null,
            "overflow_y": null,
            "padding": null,
            "right": null,
            "top": null,
            "visibility": null,
            "width": null
          }
        },
        "9c8c764059cb42a2a6d8d9679a8cd059": {
          "model_module": "@jupyter-widgets/base",
          "model_module_version": "1.2.0",
          "model_name": "LayoutModel",
          "state": {
            "_model_module": "@jupyter-widgets/base",
            "_model_module_version": "1.2.0",
            "_model_name": "LayoutModel",
            "_view_count": null,
            "_view_module": "@jupyter-widgets/base",
            "_view_module_version": "1.2.0",
            "_view_name": "LayoutView",
            "align_content": null,
            "align_items": null,
            "align_self": null,
            "border": null,
            "bottom": null,
            "display": null,
            "flex": null,
            "flex_flow": null,
            "grid_area": null,
            "grid_auto_columns": null,
            "grid_auto_flow": null,
            "grid_auto_rows": null,
            "grid_column": null,
            "grid_gap": null,
            "grid_row": null,
            "grid_template_areas": null,
            "grid_template_columns": null,
            "grid_template_rows": null,
            "height": null,
            "justify_content": null,
            "justify_items": null,
            "left": null,
            "margin": null,
            "max_height": null,
            "max_width": null,
            "min_height": null,
            "min_width": null,
            "object_fit": null,
            "object_position": null,
            "order": null,
            "overflow": null,
            "overflow_x": null,
            "overflow_y": null,
            "padding": null,
            "right": null,
            "top": null,
            "visibility": null,
            "width": null
          }
        },
        "9e1f50ecfce34d238cd361b586d919ab": {
          "model_module": "@jupyter-widgets/base",
          "model_module_version": "1.2.0",
          "model_name": "LayoutModel",
          "state": {
            "_model_module": "@jupyter-widgets/base",
            "_model_module_version": "1.2.0",
            "_model_name": "LayoutModel",
            "_view_count": null,
            "_view_module": "@jupyter-widgets/base",
            "_view_module_version": "1.2.0",
            "_view_name": "LayoutView",
            "align_content": null,
            "align_items": null,
            "align_self": null,
            "border": null,
            "bottom": null,
            "display": null,
            "flex": null,
            "flex_flow": null,
            "grid_area": null,
            "grid_auto_columns": null,
            "grid_auto_flow": null,
            "grid_auto_rows": null,
            "grid_column": null,
            "grid_gap": null,
            "grid_row": null,
            "grid_template_areas": null,
            "grid_template_columns": null,
            "grid_template_rows": null,
            "height": null,
            "justify_content": null,
            "justify_items": null,
            "left": null,
            "margin": null,
            "max_height": null,
            "max_width": null,
            "min_height": null,
            "min_width": null,
            "object_fit": null,
            "object_position": null,
            "order": null,
            "overflow": null,
            "overflow_x": null,
            "overflow_y": null,
            "padding": null,
            "right": null,
            "top": null,
            "visibility": null,
            "width": null
          }
        },
        "a324a8fdcc394f2d99214c31e9ccea1a": {
          "model_module": "@jupyter-widgets/base",
          "model_module_version": "1.2.0",
          "model_name": "LayoutModel",
          "state": {
            "_model_module": "@jupyter-widgets/base",
            "_model_module_version": "1.2.0",
            "_model_name": "LayoutModel",
            "_view_count": null,
            "_view_module": "@jupyter-widgets/base",
            "_view_module_version": "1.2.0",
            "_view_name": "LayoutView",
            "align_content": null,
            "align_items": null,
            "align_self": null,
            "border": null,
            "bottom": null,
            "display": null,
            "flex": null,
            "flex_flow": null,
            "grid_area": null,
            "grid_auto_columns": null,
            "grid_auto_flow": null,
            "grid_auto_rows": null,
            "grid_column": null,
            "grid_gap": null,
            "grid_row": null,
            "grid_template_areas": null,
            "grid_template_columns": null,
            "grid_template_rows": null,
            "height": null,
            "justify_content": null,
            "justify_items": null,
            "left": null,
            "margin": null,
            "max_height": null,
            "max_width": null,
            "min_height": null,
            "min_width": null,
            "object_fit": null,
            "object_position": null,
            "order": null,
            "overflow": null,
            "overflow_x": null,
            "overflow_y": null,
            "padding": null,
            "right": null,
            "top": null,
            "visibility": null,
            "width": null
          }
        },
        "a68fc49549b347f4b7a5941b54973873": {
          "model_module": "@jupyter-widgets/controls",
          "model_module_version": "1.5.0",
          "model_name": "HTMLModel",
          "state": {
            "_dom_classes": [],
            "_model_module": "@jupyter-widgets/controls",
            "_model_module_version": "1.5.0",
            "_model_name": "HTMLModel",
            "_view_count": null,
            "_view_module": "@jupyter-widgets/controls",
            "_view_module_version": "1.5.0",
            "_view_name": "HTMLView",
            "description": "",
            "description_tooltip": null,
            "layout": "IPY_MODEL_921f244c1e124775abf8731c4fc72fae",
            "placeholder": "​",
            "style": "IPY_MODEL_f246705b272b4ceb87cf03ed4b04116a",
            "value": "Render HTML: 100%"
          }
        },
        "a88663d516ce4410bc5cb106b85a9bac": {
          "model_module": "@jupyter-widgets/controls",
          "model_module_version": "1.5.0",
          "model_name": "HTMLModel",
          "state": {
            "_dom_classes": [],
            "_model_module": "@jupyter-widgets/controls",
            "_model_module_version": "1.5.0",
            "_model_name": "HTMLModel",
            "_view_count": null,
            "_view_module": "@jupyter-widgets/controls",
            "_view_module_version": "1.5.0",
            "_view_name": "HTMLView",
            "description": "",
            "description_tooltip": null,
            "layout": "IPY_MODEL_4c50619ce2f04b39a37b20f039657f53",
            "placeholder": "​",
            "style": "IPY_MODEL_aea62fd924de4abdbb2685655c0df6bf",
            "value": "Summarize dataset: 100%"
          }
        },
        "ac8012dcdaf74a8985c3aa071d769458": {
          "model_module": "@jupyter-widgets/base",
          "model_module_version": "1.2.0",
          "model_name": "LayoutModel",
          "state": {
            "_model_module": "@jupyter-widgets/base",
            "_model_module_version": "1.2.0",
            "_model_name": "LayoutModel",
            "_view_count": null,
            "_view_module": "@jupyter-widgets/base",
            "_view_module_version": "1.2.0",
            "_view_name": "LayoutView",
            "align_content": null,
            "align_items": null,
            "align_self": null,
            "border": null,
            "bottom": null,
            "display": null,
            "flex": null,
            "flex_flow": null,
            "grid_area": null,
            "grid_auto_columns": null,
            "grid_auto_flow": null,
            "grid_auto_rows": null,
            "grid_column": null,
            "grid_gap": null,
            "grid_row": null,
            "grid_template_areas": null,
            "grid_template_columns": null,
            "grid_template_rows": null,
            "height": null,
            "justify_content": null,
            "justify_items": null,
            "left": null,
            "margin": null,
            "max_height": null,
            "max_width": null,
            "min_height": null,
            "min_width": null,
            "object_fit": null,
            "object_position": null,
            "order": null,
            "overflow": null,
            "overflow_x": null,
            "overflow_y": null,
            "padding": null,
            "right": null,
            "top": null,
            "visibility": null,
            "width": null
          }
        },
        "aea62fd924de4abdbb2685655c0df6bf": {
          "model_module": "@jupyter-widgets/controls",
          "model_module_version": "1.5.0",
          "model_name": "DescriptionStyleModel",
          "state": {
            "_model_module": "@jupyter-widgets/controls",
            "_model_module_version": "1.5.0",
            "_model_name": "DescriptionStyleModel",
            "_view_count": null,
            "_view_module": "@jupyter-widgets/base",
            "_view_module_version": "1.2.0",
            "_view_name": "StyleView",
            "description_width": ""
          }
        },
        "b2a768832bf94a0ab778d403a3b7d5da": {
          "model_module": "@jupyter-widgets/controls",
          "model_module_version": "1.5.0",
          "model_name": "HTMLModel",
          "state": {
            "_dom_classes": [],
            "_model_module": "@jupyter-widgets/controls",
            "_model_module_version": "1.5.0",
            "_model_name": "HTMLModel",
            "_view_count": null,
            "_view_module": "@jupyter-widgets/controls",
            "_view_module_version": "1.5.0",
            "_view_name": "HTMLView",
            "description": "",
            "description_tooltip": null,
            "layout": "IPY_MODEL_6c43d407a3a5420ca74936aeaeddb798",
            "placeholder": "​",
            "style": "IPY_MODEL_053988fef1514cccb21b88bd6b240d9f",
            "value": " 1/1 [00:01&lt;00:00,  1.80s/it]"
          }
        },
        "b316687321e24af6ac92a7672be18529": {
          "model_module": "@jupyter-widgets/controls",
          "model_module_version": "1.5.0",
          "model_name": "HTMLModel",
          "state": {
            "_dom_classes": [],
            "_model_module": "@jupyter-widgets/controls",
            "_model_module_version": "1.5.0",
            "_model_name": "HTMLModel",
            "_view_count": null,
            "_view_module": "@jupyter-widgets/controls",
            "_view_module_version": "1.5.0",
            "_view_name": "HTMLView",
            "description": "",
            "description_tooltip": null,
            "layout": "IPY_MODEL_8651a739e33243c8893239dd8707378d",
            "placeholder": "​",
            "style": "IPY_MODEL_0ca3048fc53c478b8b8a3a25ba25fb3a",
            "value": "Generate report structure: 100%"
          }
        },
        "b51a7d02b553480bb1a1125c8c918c69": {
          "model_module": "@jupyter-widgets/controls",
          "model_module_version": "1.5.0",
          "model_name": "HTMLModel",
          "state": {
            "_dom_classes": [],
            "_model_module": "@jupyter-widgets/controls",
            "_model_module_version": "1.5.0",
            "_model_name": "HTMLModel",
            "_view_count": null,
            "_view_module": "@jupyter-widgets/controls",
            "_view_module_version": "1.5.0",
            "_view_name": "HTMLView",
            "description": "",
            "description_tooltip": null,
            "layout": "IPY_MODEL_5a2f4d4c162a4f238022053249b0dd1c",
            "placeholder": "​",
            "style": "IPY_MODEL_8c00ae05b83e4911adf85f84a730171e",
            "value": " 60/60 [00:32&lt;00:00,  2.78it/s, Completed]"
          }
        },
        "bb308f34cf5a4aa39ba31ae7bc601362": {
          "model_module": "@jupyter-widgets/base",
          "model_module_version": "1.2.0",
          "model_name": "LayoutModel",
          "state": {
            "_model_module": "@jupyter-widgets/base",
            "_model_module_version": "1.2.0",
            "_model_name": "LayoutModel",
            "_view_count": null,
            "_view_module": "@jupyter-widgets/base",
            "_view_module_version": "1.2.0",
            "_view_name": "LayoutView",
            "align_content": null,
            "align_items": null,
            "align_self": null,
            "border": null,
            "bottom": null,
            "display": null,
            "flex": null,
            "flex_flow": null,
            "grid_area": null,
            "grid_auto_columns": null,
            "grid_auto_flow": null,
            "grid_auto_rows": null,
            "grid_column": null,
            "grid_gap": null,
            "grid_row": null,
            "grid_template_areas": null,
            "grid_template_columns": null,
            "grid_template_rows": null,
            "height": null,
            "justify_content": null,
            "justify_items": null,
            "left": null,
            "margin": null,
            "max_height": null,
            "max_width": null,
            "min_height": null,
            "min_width": null,
            "object_fit": null,
            "object_position": null,
            "order": null,
            "overflow": null,
            "overflow_x": null,
            "overflow_y": null,
            "padding": null,
            "right": null,
            "top": null,
            "visibility": null,
            "width": null
          }
        },
        "bd2be41af66e4c3587c2faf2fda433cc": {
          "model_module": "@jupyter-widgets/controls",
          "model_module_version": "1.5.0",
          "model_name": "FloatProgressModel",
          "state": {
            "_dom_classes": [],
            "_model_module": "@jupyter-widgets/controls",
            "_model_module_version": "1.5.0",
            "_model_name": "FloatProgressModel",
            "_view_count": null,
            "_view_module": "@jupyter-widgets/controls",
            "_view_module_version": "1.5.0",
            "_view_name": "ProgressView",
            "bar_style": "success",
            "description": "",
            "description_tooltip": null,
            "layout": "IPY_MODEL_3d5e7cdbba694af2bba7dca2a6b4fddf",
            "max": 5,
            "min": 0,
            "orientation": "horizontal",
            "style": "IPY_MODEL_d676185a521d4aa8bd21724e96853967",
            "value": 5
          }
        },
        "c0888c4cbd464e5ab8e4ac8c678701ef": {
          "model_module": "@jupyter-widgets/base",
          "model_module_version": "1.2.0",
          "model_name": "LayoutModel",
          "state": {
            "_model_module": "@jupyter-widgets/base",
            "_model_module_version": "1.2.0",
            "_model_name": "LayoutModel",
            "_view_count": null,
            "_view_module": "@jupyter-widgets/base",
            "_view_module_version": "1.2.0",
            "_view_name": "LayoutView",
            "align_content": null,
            "align_items": null,
            "align_self": null,
            "border": null,
            "bottom": null,
            "display": null,
            "flex": null,
            "flex_flow": null,
            "grid_area": null,
            "grid_auto_columns": null,
            "grid_auto_flow": null,
            "grid_auto_rows": null,
            "grid_column": null,
            "grid_gap": null,
            "grid_row": null,
            "grid_template_areas": null,
            "grid_template_columns": null,
            "grid_template_rows": null,
            "height": null,
            "justify_content": null,
            "justify_items": null,
            "left": null,
            "margin": null,
            "max_height": null,
            "max_width": null,
            "min_height": null,
            "min_width": null,
            "object_fit": null,
            "object_position": null,
            "order": null,
            "overflow": null,
            "overflow_x": null,
            "overflow_y": null,
            "padding": null,
            "right": null,
            "top": null,
            "visibility": null,
            "width": null
          }
        },
        "c414d50f589141e19f2be083af9e2757": {
          "model_module": "@jupyter-widgets/controls",
          "model_module_version": "1.5.0",
          "model_name": "FloatProgressModel",
          "state": {
            "_dom_classes": [],
            "_model_module": "@jupyter-widgets/controls",
            "_model_module_version": "1.5.0",
            "_model_name": "FloatProgressModel",
            "_view_count": null,
            "_view_module": "@jupyter-widgets/controls",
            "_view_module_version": "1.5.0",
            "_view_name": "ProgressView",
            "bar_style": "success",
            "description": "",
            "description_tooltip": null,
            "layout": "IPY_MODEL_ec047b825df74466a65d70cee109715d",
            "max": 5,
            "min": 0,
            "orientation": "horizontal",
            "style": "IPY_MODEL_511b6538b3c54bbcb6978ed11d4dd088",
            "value": 5
          }
        },
        "d5a4eb4398da4f1ab5ee2e59f506fddd": {
          "model_module": "@jupyter-widgets/controls",
          "model_module_version": "1.5.0",
          "model_name": "ProgressStyleModel",
          "state": {
            "_model_module": "@jupyter-widgets/controls",
            "_model_module_version": "1.5.0",
            "_model_name": "ProgressStyleModel",
            "_view_count": null,
            "_view_module": "@jupyter-widgets/base",
            "_view_module_version": "1.2.0",
            "_view_name": "StyleView",
            "bar_color": null,
            "description_width": ""
          }
        },
        "d676185a521d4aa8bd21724e96853967": {
          "model_module": "@jupyter-widgets/controls",
          "model_module_version": "1.5.0",
          "model_name": "ProgressStyleModel",
          "state": {
            "_model_module": "@jupyter-widgets/controls",
            "_model_module_version": "1.5.0",
            "_model_name": "ProgressStyleModel",
            "_view_count": null,
            "_view_module": "@jupyter-widgets/base",
            "_view_module_version": "1.2.0",
            "_view_name": "StyleView",
            "bar_color": null,
            "description_width": ""
          }
        },
        "d81917df8ea643fba8f5b5c7e15e7449": {
          "model_module": "@jupyter-widgets/controls",
          "model_module_version": "1.5.0",
          "model_name": "FloatProgressModel",
          "state": {
            "_dom_classes": [],
            "_model_module": "@jupyter-widgets/controls",
            "_model_module_version": "1.5.0",
            "_model_name": "FloatProgressModel",
            "_view_count": null,
            "_view_module": "@jupyter-widgets/controls",
            "_view_module_version": "1.5.0",
            "_view_name": "ProgressView",
            "bar_style": "success",
            "description": "",
            "description_tooltip": null,
            "layout": "IPY_MODEL_423432f125f842ea83cb3faa10eaad93",
            "max": 1,
            "min": 0,
            "orientation": "horizontal",
            "style": "IPY_MODEL_d5a4eb4398da4f1ab5ee2e59f506fddd",
            "value": 1
          }
        },
        "d820d0d86e87433a9bef2e1364b29314": {
          "model_module": "@jupyter-widgets/base",
          "model_module_version": "1.2.0",
          "model_name": "LayoutModel",
          "state": {
            "_model_module": "@jupyter-widgets/base",
            "_model_module_version": "1.2.0",
            "_model_name": "LayoutModel",
            "_view_count": null,
            "_view_module": "@jupyter-widgets/base",
            "_view_module_version": "1.2.0",
            "_view_name": "LayoutView",
            "align_content": null,
            "align_items": null,
            "align_self": null,
            "border": null,
            "bottom": null,
            "display": null,
            "flex": null,
            "flex_flow": null,
            "grid_area": null,
            "grid_auto_columns": null,
            "grid_auto_flow": null,
            "grid_auto_rows": null,
            "grid_column": null,
            "grid_gap": null,
            "grid_row": null,
            "grid_template_areas": null,
            "grid_template_columns": null,
            "grid_template_rows": null,
            "height": null,
            "justify_content": null,
            "justify_items": null,
            "left": null,
            "margin": null,
            "max_height": null,
            "max_width": null,
            "min_height": null,
            "min_width": null,
            "object_fit": null,
            "object_position": null,
            "order": null,
            "overflow": null,
            "overflow_x": null,
            "overflow_y": null,
            "padding": null,
            "right": null,
            "top": null,
            "visibility": null,
            "width": null
          }
        },
        "d8da7ba71dfb442bb79c6ea40afe39f3": {
          "model_module": "@jupyter-widgets/controls",
          "model_module_version": "1.5.0",
          "model_name": "HBoxModel",
          "state": {
            "_dom_classes": [],
            "_model_module": "@jupyter-widgets/controls",
            "_model_module_version": "1.5.0",
            "_model_name": "HBoxModel",
            "_view_count": null,
            "_view_module": "@jupyter-widgets/controls",
            "_view_module_version": "1.5.0",
            "_view_name": "HBoxView",
            "box_style": "",
            "children": [
              "IPY_MODEL_7bad9fbe392a4326b3eb4ee4050e4b2d",
              "IPY_MODEL_8ee2643358d7452b9b03bbc08d221c22",
              "IPY_MODEL_b2a768832bf94a0ab778d403a3b7d5da"
            ],
            "layout": "IPY_MODEL_9c8c764059cb42a2a6d8d9679a8cd059"
          }
        },
        "db7e5965da9343db85f44940628b0445": {
          "model_module": "@jupyter-widgets/base",
          "model_module_version": "1.2.0",
          "model_name": "LayoutModel",
          "state": {
            "_model_module": "@jupyter-widgets/base",
            "_model_module_version": "1.2.0",
            "_model_name": "LayoutModel",
            "_view_count": null,
            "_view_module": "@jupyter-widgets/base",
            "_view_module_version": "1.2.0",
            "_view_name": "LayoutView",
            "align_content": null,
            "align_items": null,
            "align_self": null,
            "border": null,
            "bottom": null,
            "display": null,
            "flex": null,
            "flex_flow": null,
            "grid_area": null,
            "grid_auto_columns": null,
            "grid_auto_flow": null,
            "grid_auto_rows": null,
            "grid_column": null,
            "grid_gap": null,
            "grid_row": null,
            "grid_template_areas": null,
            "grid_template_columns": null,
            "grid_template_rows": null,
            "height": null,
            "justify_content": null,
            "justify_items": null,
            "left": null,
            "margin": null,
            "max_height": null,
            "max_width": null,
            "min_height": null,
            "min_width": null,
            "object_fit": null,
            "object_position": null,
            "order": null,
            "overflow": null,
            "overflow_x": null,
            "overflow_y": null,
            "padding": null,
            "right": null,
            "top": null,
            "visibility": null,
            "width": null
          }
        },
        "ddd02b30ca8d40cdb2873dd8f4e04f9b": {
          "model_module": "@jupyter-widgets/controls",
          "model_module_version": "1.5.0",
          "model_name": "FloatProgressModel",
          "state": {
            "_dom_classes": [],
            "_model_module": "@jupyter-widgets/controls",
            "_model_module_version": "1.5.0",
            "_model_name": "FloatProgressModel",
            "_view_count": null,
            "_view_module": "@jupyter-widgets/controls",
            "_view_module_version": "1.5.0",
            "_view_name": "ProgressView",
            "bar_style": "success",
            "description": "",
            "description_tooltip": null,
            "layout": "IPY_MODEL_d820d0d86e87433a9bef2e1364b29314",
            "max": 1,
            "min": 0,
            "orientation": "horizontal",
            "style": "IPY_MODEL_0f034c3a81524847ab14f8cfb96e9f7d",
            "value": 1
          }
        },
        "de10167943044417900c455d1b2abda8": {
          "model_module": "@jupyter-widgets/controls",
          "model_module_version": "1.5.0",
          "model_name": "ProgressStyleModel",
          "state": {
            "_model_module": "@jupyter-widgets/controls",
            "_model_module_version": "1.5.0",
            "_model_name": "ProgressStyleModel",
            "_view_count": null,
            "_view_module": "@jupyter-widgets/base",
            "_view_module_version": "1.2.0",
            "_view_name": "StyleView",
            "bar_color": null,
            "description_width": ""
          }
        },
        "e596fad21f3d43f2b93da2b8783fb615": {
          "model_module": "@jupyter-widgets/controls",
          "model_module_version": "1.5.0",
          "model_name": "HTMLModel",
          "state": {
            "_dom_classes": [],
            "_model_module": "@jupyter-widgets/controls",
            "_model_module_version": "1.5.0",
            "_model_name": "HTMLModel",
            "_view_count": null,
            "_view_module": "@jupyter-widgets/controls",
            "_view_module_version": "1.5.0",
            "_view_name": "HTMLView",
            "description": "",
            "description_tooltip": null,
            "layout": "IPY_MODEL_02777da28cbb4451a1aa940a39c9e39d",
            "placeholder": "​",
            "style": "IPY_MODEL_4b17f5b614784adeb937900933a45b25",
            "value": " 1/1 [00:01&lt;00:00,  1.86s/it]"
          }
        },
        "e9a4524bddff4684935dd4f2174cebaf": {
          "model_module": "@jupyter-widgets/controls",
          "model_module_version": "1.5.0",
          "model_name": "DescriptionStyleModel",
          "state": {
            "_model_module": "@jupyter-widgets/controls",
            "_model_module_version": "1.5.0",
            "_model_name": "DescriptionStyleModel",
            "_view_count": null,
            "_view_module": "@jupyter-widgets/base",
            "_view_module_version": "1.2.0",
            "_view_name": "StyleView",
            "description_width": ""
          }
        },
        "ec047b825df74466a65d70cee109715d": {
          "model_module": "@jupyter-widgets/base",
          "model_module_version": "1.2.0",
          "model_name": "LayoutModel",
          "state": {
            "_model_module": "@jupyter-widgets/base",
            "_model_module_version": "1.2.0",
            "_model_name": "LayoutModel",
            "_view_count": null,
            "_view_module": "@jupyter-widgets/base",
            "_view_module_version": "1.2.0",
            "_view_name": "LayoutView",
            "align_content": null,
            "align_items": null,
            "align_self": null,
            "border": null,
            "bottom": null,
            "display": null,
            "flex": null,
            "flex_flow": null,
            "grid_area": null,
            "grid_auto_columns": null,
            "grid_auto_flow": null,
            "grid_auto_rows": null,
            "grid_column": null,
            "grid_gap": null,
            "grid_row": null,
            "grid_template_areas": null,
            "grid_template_columns": null,
            "grid_template_rows": null,
            "height": null,
            "justify_content": null,
            "justify_items": null,
            "left": null,
            "margin": null,
            "max_height": null,
            "max_width": null,
            "min_height": null,
            "min_width": null,
            "object_fit": null,
            "object_position": null,
            "order": null,
            "overflow": null,
            "overflow_x": null,
            "overflow_y": null,
            "padding": null,
            "right": null,
            "top": null,
            "visibility": null,
            "width": null
          }
        },
        "ef121e193193408e8fc81cf4dad1deb6": {
          "model_module": "@jupyter-widgets/base",
          "model_module_version": "1.2.0",
          "model_name": "LayoutModel",
          "state": {
            "_model_module": "@jupyter-widgets/base",
            "_model_module_version": "1.2.0",
            "_model_name": "LayoutModel",
            "_view_count": null,
            "_view_module": "@jupyter-widgets/base",
            "_view_module_version": "1.2.0",
            "_view_name": "LayoutView",
            "align_content": null,
            "align_items": null,
            "align_self": null,
            "border": null,
            "bottom": null,
            "display": null,
            "flex": null,
            "flex_flow": null,
            "grid_area": null,
            "grid_auto_columns": null,
            "grid_auto_flow": null,
            "grid_auto_rows": null,
            "grid_column": null,
            "grid_gap": null,
            "grid_row": null,
            "grid_template_areas": null,
            "grid_template_columns": null,
            "grid_template_rows": null,
            "height": null,
            "justify_content": null,
            "justify_items": null,
            "left": null,
            "margin": null,
            "max_height": null,
            "max_width": null,
            "min_height": null,
            "min_width": null,
            "object_fit": null,
            "object_position": null,
            "order": null,
            "overflow": null,
            "overflow_x": null,
            "overflow_y": null,
            "padding": null,
            "right": null,
            "top": null,
            "visibility": null,
            "width": null
          }
        },
        "f148223dfb4040e7ab845a934d0a36dc": {
          "model_module": "@jupyter-widgets/controls",
          "model_module_version": "1.5.0",
          "model_name": "HTMLModel",
          "state": {
            "_dom_classes": [],
            "_model_module": "@jupyter-widgets/controls",
            "_model_module_version": "1.5.0",
            "_model_name": "HTMLModel",
            "_view_count": null,
            "_view_module": "@jupyter-widgets/controls",
            "_view_module_version": "1.5.0",
            "_view_name": "HTMLView",
            "description": "",
            "description_tooltip": null,
            "layout": "IPY_MODEL_0e8e18233d13412385dba29a406511cb",
            "placeholder": "​",
            "style": "IPY_MODEL_4dd17d7643654601acb74e6973bc8269",
            "value": "Summarize dataset: 100%"
          }
        },
        "f246705b272b4ceb87cf03ed4b04116a": {
          "model_module": "@jupyter-widgets/controls",
          "model_module_version": "1.5.0",
          "model_name": "DescriptionStyleModel",
          "state": {
            "_model_module": "@jupyter-widgets/controls",
            "_model_module_version": "1.5.0",
            "_model_name": "DescriptionStyleModel",
            "_view_count": null,
            "_view_module": "@jupyter-widgets/base",
            "_view_module_version": "1.2.0",
            "_view_name": "StyleView",
            "description_width": ""
          }
        },
        "f4a5ba1dbc7f44d3bb7cb397e786798a": {
          "model_module": "@jupyter-widgets/base",
          "model_module_version": "1.2.0",
          "model_name": "LayoutModel",
          "state": {
            "_model_module": "@jupyter-widgets/base",
            "_model_module_version": "1.2.0",
            "_model_name": "LayoutModel",
            "_view_count": null,
            "_view_module": "@jupyter-widgets/base",
            "_view_module_version": "1.2.0",
            "_view_name": "LayoutView",
            "align_content": null,
            "align_items": null,
            "align_self": null,
            "border": null,
            "bottom": null,
            "display": null,
            "flex": null,
            "flex_flow": null,
            "grid_area": null,
            "grid_auto_columns": null,
            "grid_auto_flow": null,
            "grid_auto_rows": null,
            "grid_column": null,
            "grid_gap": null,
            "grid_row": null,
            "grid_template_areas": null,
            "grid_template_columns": null,
            "grid_template_rows": null,
            "height": null,
            "justify_content": null,
            "justify_items": null,
            "left": null,
            "margin": null,
            "max_height": null,
            "max_width": null,
            "min_height": null,
            "min_width": null,
            "object_fit": null,
            "object_position": null,
            "order": null,
            "overflow": null,
            "overflow_x": null,
            "overflow_y": null,
            "padding": null,
            "right": null,
            "top": null,
            "visibility": null,
            "width": null
          }
        },
        "f50240a6aa0e4440a3ae170161e5e34e": {
          "model_module": "@jupyter-widgets/controls",
          "model_module_version": "1.5.0",
          "model_name": "HBoxModel",
          "state": {
            "_dom_classes": [],
            "_model_module": "@jupyter-widgets/controls",
            "_model_module_version": "1.5.0",
            "_model_name": "HBoxModel",
            "_view_count": null,
            "_view_module": "@jupyter-widgets/controls",
            "_view_module_version": "1.5.0",
            "_view_name": "HBoxView",
            "box_style": "",
            "children": [
              "IPY_MODEL_b316687321e24af6ac92a7672be18529",
              "IPY_MODEL_0f9eb19f158448e3b8bbe775d5a04fde",
              "IPY_MODEL_30996e4d49fa4ce7ad4a2ad5f931a7e9"
            ],
            "layout": "IPY_MODEL_db7e5965da9343db85f44940628b0445"
          }
        },
        "f93d9983a5324a659ddf0a37828d289d": {
          "model_module": "@jupyter-widgets/controls",
          "model_module_version": "1.5.0",
          "model_name": "HBoxModel",
          "state": {
            "_dom_classes": [],
            "_model_module": "@jupyter-widgets/controls",
            "_model_module_version": "1.5.0",
            "_model_name": "HBoxModel",
            "_view_count": null,
            "_view_module": "@jupyter-widgets/controls",
            "_view_module_version": "1.5.0",
            "_view_name": "HBoxView",
            "box_style": "",
            "children": [
              "IPY_MODEL_82222753bc2b44069785cd67412b7077",
              "IPY_MODEL_ddd02b30ca8d40cdb2873dd8f4e04f9b",
              "IPY_MODEL_7e4154f6829e48d5bcc15a28171f9b3e"
            ],
            "layout": "IPY_MODEL_ac8012dcdaf74a8985c3aa071d769458"
          }
        }
      }
    }
  },
  "nbformat": 4,
  "nbformat_minor": 0
}
